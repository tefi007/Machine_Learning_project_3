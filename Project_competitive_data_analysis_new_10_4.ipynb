{
 "cells": [
  {
   "cell_type": "code",
   "execution_count": 1,
   "metadata": {},
   "outputs": [],
   "source": [
    "import numpy as np\n",
    "import pandas as pd\n",
    "pd.options.display.max_columns = 100\n",
    "from matplotlib import pyplot as plt\n",
    "%matplotlib inline\n",
    "import seaborn as sns\n",
    "\n",
    "import warnings\n",
    "warnings.simplefilter(\"ignore\")\n",
    "\n",
    "from sklearn.model_selection import train_test_split   # разделение выборки на train и test\n",
    "\n",
    "from sklearn.model_selection import cross_val_score     # кросс-валидация\n",
    "from sklearn.model_selection import cross_val_predict\n",
    "\n",
    "from sklearn.linear_model import LogisticRegression\n",
    "import xgboost as xgb, lightgbm as lgbm, catboost as catb\n",
    "\n",
    "from sklearn.metrics import roc_auc_score\n",
    "\n",
    "from sklearn.preprocessing import StandardScaler    # стандартизация данных\n",
    "from sklearn.preprocessing import PowerTransformer \n",
    "from sklearn.preprocessing import MinMaxScaler      # масштабирование MinMaxScaler\n",
    "from sklearn.preprocessing import Normalizer        # масштабирование Normalizer\n",
    "from sklearn.decomposition import PCA   # метод главных компонент\n",
    "\n",
    "from sklearn.linear_model import LogisticRegression     # модели классификации\n",
    "from sklearn.neighbors import KNeighborsClassifier\n",
    "from sklearn.linear_model import SGDClassifier\n",
    "from sklearn.tree import DecisionTreeClassifier\n",
    "from sklearn.ensemble import RandomForestClassifier\n",
    "from sklearn.ensemble import GradientBoostingClassifier\n",
    "from sklearn.experimental import enable_hist_gradient_boosting\n",
    "from sklearn.ensemble import HistGradientBoostingClassifier\n",
    "from sklearn.ensemble import AdaBoostClassifier\n",
    "from sklearn.experimental import enable_hist_gradient_boosting\n",
    "from sklearn.ensemble import VotingClassifier\n",
    "import xgboost as xgb, lightgbm as lgbm, catboost as catb\n",
    "\n",
    "from sklearn.model_selection import KFold, GridSearchCV, RandomizedSearchCV\n",
    "from bayes_opt import BayesianOptimization"
   ]
  },
  {
   "cell_type": "code",
   "execution_count": 2,
   "metadata": {},
   "outputs": [],
   "source": [
    "# https://www.kaggle.com/c/geekbrains-competitive-data-analysis/overview"
   ]
  },
  {
   "cell_type": "code",
   "execution_count": 3,
   "metadata": {},
   "outputs": [],
   "source": [
    "# пути\n",
    "path_train = '/home/tefi/Tefi/Project_sport/train.csv'\n",
    "path_test = '/home/tefi/Tefi/Project_sport/test.csv'\n",
    "path_applications_history = '/home/tefi/Tefi/Project_sport/applications_history.csv'\n",
    "path_bki = '/home/tefi/Tefi/Project_sport/bki.csv'\n",
    "path_client_profile = '/home/tefi/Tefi/Project_sport/client_profile.csv'\n",
    "path_payments = '/home/tefi/Tefi/Project_sport/payments.csv'\n",
    "path_sample_submit = '/home/tefi/Tefi/Project_sport/sample_submit.csv'\n",
    "\n",
    "# загрузка данных из файлов в соответствующие переменные\n",
    "train_pro = pd.read_csv(path_train)\n",
    "test_pro = pd.read_csv(path_test)\n",
    "applications_history = pd.read_csv(path_applications_history)\n",
    "bki = pd.read_csv(path_bki)\n",
    "client_profile = pd.read_csv(path_client_profile)\n",
    "payments = pd.read_csv(path_payments)\n",
    "sample_submit = pd.read_csv(path_sample_submit)  # образец submit"
   ]
  },
  {
   "cell_type": "markdown",
   "metadata": {},
   "source": [
    "Описание датасета:\n",
    "\n",
    "APPLICATION_NUMBER - номер заявки\n",
    "NAME_CONTRACT_TYPE - тип договора (наличные, карта)\n",
    "TARGET - целевая переменная\n",
    "\n",
    "История предыдущих заявок клиента:\n",
    "PREV_APPLICATION_NUMBER - предыдущий номер заявки\n",
    "AMOUNT_ANNUITY - сумма в год\n",
    "AMT_APPLICATION - сумма заявки\n",
    "AMOUNT_CREDIT - сумма кредита\n",
    "AMOUNT_PAYMENT - сумма выплаты\n",
    "AMOUNT_GOODS_PAYMENT - сумма стоимости товара \n",
    "NAME_CONTRACT_STATUS - статус годовора (одобрено, отклонено)\n",
    "DAYS_DECISION - разрешение на кол-во дней\n",
    "NAME_PAYMENT_TYPE - тип оплаты (наличными через банк и т.п.)\n",
    "CODE_REJECT_REASON - причина отклонения\n",
    "NAME_TYPE_SUITE - поручители\n",
    "NAME_CLIENT_TYPE - тип клиента (новый, повторно)\n",
    "NAME_GOODS_CATEGORY - категория товара\n",
    "NAME_PORTFOLIO - название портфеля (наличные, карта)\n",
    "NAME_PRODUCT_TYPE - тип товара (x-sell, wolk-in)\n",
    "SELLERPLACE_AREA - площадь продажи\n",
    "CNT_PAYMENT - кол-во выплат по кредиту\n",
    "NAME_YIELD_GROUP - доходная группа (средняя, ниже среднего)\n",
    "DAYS_FIRST_DRAWING - \n",
    "DAYS_FIRST_DUE - первый срок\n",
    "DAYS_LAST_DUE_1ST_VERSION - прошло дней с 1 версии\n",
    "DAYS_LAST_DUE - последний день\n",
    "DAYS_TERMINATION - дней до завершения\n",
    "NFLAG_INSURED_ON_APPROVAL - застрахован по принуждению\n",
    "\n",
    "данные БКИ о предыдущих кредитах клиента:\n",
    "BUREAU_ID - номер бюро\n",
    "CREDIT_ACTIVE - активен ли кредит\n",
    "CREDIT_CURRENCY - валюта кредита\n",
    "DAYS_CREDIT - дни кредита\n",
    "CREDIT_DAY_OVERDUE - кол-во дней просрочки\n",
    "DAYS_CREDIT_ENDDATE - дней до конца кредита\n",
    "DAYS_ENDDATE_FACT - фактически дней\n",
    "AMT_CREDIT_MAX_OVERDUE - максимальная сумма просроченного кредита\n",
    "CNT_CREDIT_PROLONG - продление текущего кредита\n",
    "AMT_CREDIT_SUM - сумма кредита\n",
    "AMT_CREDIT_SUM_DEBT - задолженность по кредиту\n",
    "AMT_CREDIT_SUM_LIMIT - сумма предельного кредита\n",
    "AMT_CREDIT_SUM_OVERDUE - сумма просроченного кредита\n",
    "CREDIT_TYPE - тип кредита (потребительский)\n",
    "DAYS_CREDIT_UPDATE - обновление дней кредита\n",
    "AMT_ANNUITY - сумма ежегодной выплаты\n",
    "\n",
    "Клиентский профиль, некоторые знания, которые есть у компании о клиенте:\n",
    "GENDER - пол\n",
    "CHILDRENS - дети\n",
    "TOTAL_SALARY - зарплата\n",
    "AMOUNT_CREDIT - сумма кредита\n",
    "AMOUNT_ANNUITY - сумма ежегодной выплаты\n",
    "EDUCATION_LEVEL - образование\n",
    "FAMILY_STATUS - семейный статус (женат)\n",
    "REGION_POPULATION - население региона\n",
    "AGE - возраст\n",
    "DAYS_ON_LAST_JOB - дней на последней работе \n",
    "OWN_CAR_AGE - возраст собственного автомобиля\n",
    "FLAG_PHONE - наличие телефона\n",
    "FLAG_EMAIL - наличие электронной почты\n",
    "FAMILY_SIZE - размер семьи (2, 3)\n",
    "EXTERNAL_SCORING_RATING_1 - внешний рейтинг 1\n",
    "EXTERNAL_SCORING_RATING_2 - внешний рейтинг 2\n",
    "EXTERNAL_SCORING_RATING_3 - внешний рейтинг 3\n",
    "AMT_REQ_CREDIT_BUREAU_HOUR - сумма запросов на выдачу кредитов\n",
    "AMT_REQ_CREDIT_BUREAU_DAY - сумма запросов на выдачу кредитов\n",
    "AMT_REQ_CREDIT_BUREAU_WEEK - сумма запросов на выдачу кредитов\n",
    "AMT_REQ_CREDIT_BUREAU_MON - сумма запросов на выдачу кредитов\n",
    "AMT_REQ_CREDIT_BUREAU_QRT - сумма запросов на выдачу кредитов\n",
    "AMT_REQ_CREDIT_BUREAU_YEAR - сумма запросов на выдачу кредитов\n",
    "\n",
    "История платежей клиента:\n",
    "NUM_INSTALMENT_VERSION - номер расчетной версии\n",
    "NUM_INSTALMENT_NUMBER - расчетный номер\n",
    "DAYS_INSTALMENT - дни рассрочки\n",
    "DAYS_ENTRY_PAYMENT - оплата по кредиту в день\n",
    "AMT_INSTALMENT - сумма расчета\n",
    "AMT_PAYMENT - сумма выплаты"
   ]
  },
  {
   "cell_type": "code",
   "execution_count": 4,
   "metadata": {},
   "outputs": [
    {
     "data": {
      "text/html": [
       "<div>\n",
       "<style scoped>\n",
       "    .dataframe tbody tr th:only-of-type {\n",
       "        vertical-align: middle;\n",
       "    }\n",
       "\n",
       "    .dataframe tbody tr th {\n",
       "        vertical-align: top;\n",
       "    }\n",
       "\n",
       "    .dataframe thead th {\n",
       "        text-align: right;\n",
       "    }\n",
       "</style>\n",
       "<table border=\"1\" class=\"dataframe\">\n",
       "  <thead>\n",
       "    <tr style=\"text-align: right;\">\n",
       "      <th></th>\n",
       "      <th>APPLICATION_NUMBER</th>\n",
       "      <th>TARGET</th>\n",
       "      <th>NAME_CONTRACT_TYPE</th>\n",
       "    </tr>\n",
       "  </thead>\n",
       "  <tbody>\n",
       "    <tr>\n",
       "      <th>0</th>\n",
       "      <td>123687442</td>\n",
       "      <td>0</td>\n",
       "      <td>Cash</td>\n",
       "    </tr>\n",
       "    <tr>\n",
       "      <th>1</th>\n",
       "      <td>123597908</td>\n",
       "      <td>1</td>\n",
       "      <td>Cash</td>\n",
       "    </tr>\n",
       "    <tr>\n",
       "      <th>2</th>\n",
       "      <td>123526683</td>\n",
       "      <td>0</td>\n",
       "      <td>Cash</td>\n",
       "    </tr>\n",
       "    <tr>\n",
       "      <th>3</th>\n",
       "      <td>123710391</td>\n",
       "      <td>1</td>\n",
       "      <td>Cash</td>\n",
       "    </tr>\n",
       "    <tr>\n",
       "      <th>4</th>\n",
       "      <td>123590329</td>\n",
       "      <td>1</td>\n",
       "      <td>Cash</td>\n",
       "    </tr>\n",
       "  </tbody>\n",
       "</table>\n",
       "</div>"
      ],
      "text/plain": [
       "   APPLICATION_NUMBER  TARGET NAME_CONTRACT_TYPE\n",
       "0           123687442       0               Cash\n",
       "1           123597908       1               Cash\n",
       "2           123526683       0               Cash\n",
       "3           123710391       1               Cash\n",
       "4           123590329       1               Cash"
      ]
     },
     "execution_count": 4,
     "metadata": {},
     "output_type": "execute_result"
    }
   ],
   "source": [
    "train_pro.head(5)"
   ]
  },
  {
   "cell_type": "code",
   "execution_count": 5,
   "metadata": {},
   "outputs": [
    {
     "data": {
      "text/plain": [
       "True"
      ]
     },
     "execution_count": 5,
     "metadata": {},
     "output_type": "execute_result"
    }
   ],
   "source": [
    "train_pro['APPLICATION_NUMBER'].nunique()==train_pro.shape[0]  "
   ]
  },
  {
   "cell_type": "code",
   "execution_count": 6,
   "metadata": {},
   "outputs": [
    {
     "data": {
      "text/plain": [
       "False"
      ]
     },
     "execution_count": 6,
     "metadata": {},
     "output_type": "execute_result"
    }
   ],
   "source": [
    "applications_history['APPLICATION_NUMBER'].nunique()==applications_history.shape[0] "
   ]
  },
  {
   "cell_type": "code",
   "execution_count": 7,
   "metadata": {},
   "outputs": [
    {
     "data": {
      "text/plain": [
       "False"
      ]
     },
     "execution_count": 7,
     "metadata": {},
     "output_type": "execute_result"
    }
   ],
   "source": [
    "bki['APPLICATION_NUMBER'].nunique()==bki.shape[0]"
   ]
  },
  {
   "cell_type": "code",
   "execution_count": 8,
   "metadata": {},
   "outputs": [
    {
     "data": {
      "text/plain": [
       "True"
      ]
     },
     "execution_count": 8,
     "metadata": {},
     "output_type": "execute_result"
    }
   ],
   "source": [
    "client_profile['APPLICATION_NUMBER'].nunique()==client_profile.shape[0]"
   ]
  },
  {
   "cell_type": "code",
   "execution_count": 9,
   "metadata": {},
   "outputs": [
    {
     "data": {
      "text/plain": [
       "False"
      ]
     },
     "execution_count": 9,
     "metadata": {},
     "output_type": "execute_result"
    }
   ],
   "source": [
    "payments['APPLICATION_NUMBER'].nunique()==payments.shape[0]"
   ]
  },
  {
   "cell_type": "code",
   "execution_count": 10,
   "metadata": {},
   "outputs": [
    {
     "data": {
      "text/html": [
       "<div>\n",
       "<style scoped>\n",
       "    .dataframe tbody tr th:only-of-type {\n",
       "        vertical-align: middle;\n",
       "    }\n",
       "\n",
       "    .dataframe tbody tr th {\n",
       "        vertical-align: top;\n",
       "    }\n",
       "\n",
       "    .dataframe thead th {\n",
       "        text-align: right;\n",
       "    }\n",
       "</style>\n",
       "<table border=\"1\" class=\"dataframe\">\n",
       "  <thead>\n",
       "    <tr style=\"text-align: right;\">\n",
       "      <th></th>\n",
       "      <th>APPLICATION_NUMBER</th>\n",
       "      <th>NAME_CONTRACT_TYPE</th>\n",
       "      <th>GENDER</th>\n",
       "      <th>CHILDRENS</th>\n",
       "      <th>TOTAL_SALARY</th>\n",
       "      <th>AMOUNT_CREDIT</th>\n",
       "      <th>AMOUNT_ANNUITY</th>\n",
       "      <th>EDUCATION_LEVEL</th>\n",
       "      <th>FAMILY_STATUS</th>\n",
       "      <th>REGION_POPULATION</th>\n",
       "      <th>AGE</th>\n",
       "      <th>DAYS_ON_LAST_JOB</th>\n",
       "      <th>OWN_CAR_AGE</th>\n",
       "      <th>FLAG_PHONE</th>\n",
       "      <th>FLAG_EMAIL</th>\n",
       "      <th>FAMILY_SIZE</th>\n",
       "      <th>EXTERNAL_SCORING_RATING_1</th>\n",
       "      <th>EXTERNAL_SCORING_RATING_2</th>\n",
       "      <th>EXTERNAL_SCORING_RATING_3</th>\n",
       "      <th>AMT_REQ_CREDIT_BUREAU_HOUR</th>\n",
       "      <th>AMT_REQ_CREDIT_BUREAU_DAY</th>\n",
       "      <th>AMT_REQ_CREDIT_BUREAU_WEEK</th>\n",
       "      <th>AMT_REQ_CREDIT_BUREAU_MON</th>\n",
       "      <th>AMT_REQ_CREDIT_BUREAU_QRT</th>\n",
       "      <th>AMT_REQ_CREDIT_BUREAU_YEAR</th>\n",
       "    </tr>\n",
       "  </thead>\n",
       "  <tbody>\n",
       "    <tr>\n",
       "      <th>0</th>\n",
       "      <td>123687442</td>\n",
       "      <td>Cash</td>\n",
       "      <td>M</td>\n",
       "      <td>1.0</td>\n",
       "      <td>157500.0</td>\n",
       "      <td>855000.0</td>\n",
       "      <td>25128.0</td>\n",
       "      <td>Secondary / secondary special</td>\n",
       "      <td>Married</td>\n",
       "      <td>0.019101</td>\n",
       "      <td>15728.0</td>\n",
       "      <td>1719.0</td>\n",
       "      <td>11.0</td>\n",
       "      <td>0.0</td>\n",
       "      <td>0.0</td>\n",
       "      <td>3.0</td>\n",
       "      <td>0.700784</td>\n",
       "      <td>0.645914</td>\n",
       "      <td>0.71657</td>\n",
       "      <td>0.0</td>\n",
       "      <td>0.0</td>\n",
       "      <td>1.0</td>\n",
       "      <td>0.0</td>\n",
       "      <td>0.0</td>\n",
       "      <td>2.0</td>\n",
       "    </tr>\n",
       "    <tr>\n",
       "      <th>1</th>\n",
       "      <td>123597908</td>\n",
       "      <td>Cash</td>\n",
       "      <td>NaN</td>\n",
       "      <td>NaN</td>\n",
       "      <td>NaN</td>\n",
       "      <td>NaN</td>\n",
       "      <td>NaN</td>\n",
       "      <td>NaN</td>\n",
       "      <td>NaN</td>\n",
       "      <td>NaN</td>\n",
       "      <td>NaN</td>\n",
       "      <td>NaN</td>\n",
       "      <td>NaN</td>\n",
       "      <td>NaN</td>\n",
       "      <td>NaN</td>\n",
       "      <td>NaN</td>\n",
       "      <td>NaN</td>\n",
       "      <td>NaN</td>\n",
       "      <td>NaN</td>\n",
       "      <td>NaN</td>\n",
       "      <td>NaN</td>\n",
       "      <td>NaN</td>\n",
       "      <td>NaN</td>\n",
       "      <td>NaN</td>\n",
       "      <td>NaN</td>\n",
       "    </tr>\n",
       "  </tbody>\n",
       "</table>\n",
       "</div>"
      ],
      "text/plain": [
       "   APPLICATION_NUMBER NAME_CONTRACT_TYPE GENDER  CHILDRENS  TOTAL_SALARY  \\\n",
       "0           123687442               Cash      M        1.0      157500.0   \n",
       "1           123597908               Cash    NaN        NaN           NaN   \n",
       "\n",
       "   AMOUNT_CREDIT  AMOUNT_ANNUITY                EDUCATION_LEVEL FAMILY_STATUS  \\\n",
       "0       855000.0         25128.0  Secondary / secondary special       Married   \n",
       "1            NaN             NaN                            NaN           NaN   \n",
       "\n",
       "   REGION_POPULATION      AGE  DAYS_ON_LAST_JOB  OWN_CAR_AGE  FLAG_PHONE  \\\n",
       "0           0.019101  15728.0            1719.0         11.0         0.0   \n",
       "1                NaN      NaN               NaN          NaN         NaN   \n",
       "\n",
       "   FLAG_EMAIL  FAMILY_SIZE  EXTERNAL_SCORING_RATING_1  \\\n",
       "0         0.0          3.0                   0.700784   \n",
       "1         NaN          NaN                        NaN   \n",
       "\n",
       "   EXTERNAL_SCORING_RATING_2  EXTERNAL_SCORING_RATING_3  \\\n",
       "0                   0.645914                    0.71657   \n",
       "1                        NaN                        NaN   \n",
       "\n",
       "   AMT_REQ_CREDIT_BUREAU_HOUR  AMT_REQ_CREDIT_BUREAU_DAY  \\\n",
       "0                         0.0                        0.0   \n",
       "1                         NaN                        NaN   \n",
       "\n",
       "   AMT_REQ_CREDIT_BUREAU_WEEK  AMT_REQ_CREDIT_BUREAU_MON  \\\n",
       "0                         1.0                        0.0   \n",
       "1                         NaN                        NaN   \n",
       "\n",
       "   AMT_REQ_CREDIT_BUREAU_QRT  AMT_REQ_CREDIT_BUREAU_YEAR  \n",
       "0                        0.0                         2.0  \n",
       "1                        NaN                         NaN  "
      ]
     },
     "execution_count": 10,
     "metadata": {},
     "output_type": "execute_result"
    }
   ],
   "source": [
    "train = pd.merge(train_pro, client_profile, on='APPLICATION_NUMBER', how='left')\n",
    "train_data = train.drop(['TARGET'], axis = 'columns')\n",
    "train_target = train['TARGET']\n",
    "train_data.head(2)"
   ]
  },
  {
   "cell_type": "code",
   "execution_count": 11,
   "metadata": {},
   "outputs": [
    {
     "data": {
      "text/html": [
       "<div>\n",
       "<style scoped>\n",
       "    .dataframe tbody tr th:only-of-type {\n",
       "        vertical-align: middle;\n",
       "    }\n",
       "\n",
       "    .dataframe tbody tr th {\n",
       "        vertical-align: top;\n",
       "    }\n",
       "\n",
       "    .dataframe thead th {\n",
       "        text-align: right;\n",
       "    }\n",
       "</style>\n",
       "<table border=\"1\" class=\"dataframe\">\n",
       "  <thead>\n",
       "    <tr style=\"text-align: right;\">\n",
       "      <th></th>\n",
       "      <th>APPLICATION_NUMBER</th>\n",
       "      <th>NAME_CONTRACT_TYPE</th>\n",
       "      <th>GENDER</th>\n",
       "      <th>CHILDRENS</th>\n",
       "      <th>TOTAL_SALARY</th>\n",
       "      <th>AMOUNT_CREDIT</th>\n",
       "      <th>AMOUNT_ANNUITY</th>\n",
       "      <th>EDUCATION_LEVEL</th>\n",
       "      <th>FAMILY_STATUS</th>\n",
       "      <th>REGION_POPULATION</th>\n",
       "      <th>AGE</th>\n",
       "      <th>DAYS_ON_LAST_JOB</th>\n",
       "      <th>OWN_CAR_AGE</th>\n",
       "      <th>FLAG_PHONE</th>\n",
       "      <th>FLAG_EMAIL</th>\n",
       "      <th>FAMILY_SIZE</th>\n",
       "      <th>EXTERNAL_SCORING_RATING_1</th>\n",
       "      <th>EXTERNAL_SCORING_RATING_2</th>\n",
       "      <th>EXTERNAL_SCORING_RATING_3</th>\n",
       "      <th>AMT_REQ_CREDIT_BUREAU_HOUR</th>\n",
       "      <th>AMT_REQ_CREDIT_BUREAU_DAY</th>\n",
       "      <th>AMT_REQ_CREDIT_BUREAU_WEEK</th>\n",
       "      <th>AMT_REQ_CREDIT_BUREAU_MON</th>\n",
       "      <th>AMT_REQ_CREDIT_BUREAU_QRT</th>\n",
       "      <th>AMT_REQ_CREDIT_BUREAU_YEAR</th>\n",
       "    </tr>\n",
       "  </thead>\n",
       "  <tbody>\n",
       "    <tr>\n",
       "      <th>0</th>\n",
       "      <td>123724268</td>\n",
       "      <td>Cash</td>\n",
       "      <td>M</td>\n",
       "      <td>0.0</td>\n",
       "      <td>117000.0</td>\n",
       "      <td>1125000.0</td>\n",
       "      <td>32895.0</td>\n",
       "      <td>Secondary / secondary special</td>\n",
       "      <td>Married</td>\n",
       "      <td>0.028663</td>\n",
       "      <td>16007.0</td>\n",
       "      <td>2646.0</td>\n",
       "      <td>20.0</td>\n",
       "      <td>0.0</td>\n",
       "      <td>0.0</td>\n",
       "      <td>2.0</td>\n",
       "      <td>NaN</td>\n",
       "      <td>0.628266</td>\n",
       "      <td>NaN</td>\n",
       "      <td>0.0</td>\n",
       "      <td>0.0</td>\n",
       "      <td>0.0</td>\n",
       "      <td>0.0</td>\n",
       "      <td>1.0</td>\n",
       "      <td>4.0</td>\n",
       "    </tr>\n",
       "    <tr>\n",
       "      <th>1</th>\n",
       "      <td>123456549</td>\n",
       "      <td>Cash</td>\n",
       "      <td>F</td>\n",
       "      <td>2.0</td>\n",
       "      <td>81000.0</td>\n",
       "      <td>312768.0</td>\n",
       "      <td>17095.5</td>\n",
       "      <td>Secondary / secondary special</td>\n",
       "      <td>Married</td>\n",
       "      <td>0.019689</td>\n",
       "      <td>10315.0</td>\n",
       "      <td>459.0</td>\n",
       "      <td>NaN</td>\n",
       "      <td>0.0</td>\n",
       "      <td>0.0</td>\n",
       "      <td>4.0</td>\n",
       "      <td>NaN</td>\n",
       "      <td>0.578161</td>\n",
       "      <td>0.18849</td>\n",
       "      <td>0.0</td>\n",
       "      <td>0.0</td>\n",
       "      <td>1.0</td>\n",
       "      <td>0.0</td>\n",
       "      <td>0.0</td>\n",
       "      <td>2.0</td>\n",
       "    </tr>\n",
       "  </tbody>\n",
       "</table>\n",
       "</div>"
      ],
      "text/plain": [
       "   APPLICATION_NUMBER NAME_CONTRACT_TYPE GENDER  CHILDRENS  TOTAL_SALARY  \\\n",
       "0           123724268               Cash      M        0.0      117000.0   \n",
       "1           123456549               Cash      F        2.0       81000.0   \n",
       "\n",
       "   AMOUNT_CREDIT  AMOUNT_ANNUITY                EDUCATION_LEVEL FAMILY_STATUS  \\\n",
       "0      1125000.0         32895.0  Secondary / secondary special       Married   \n",
       "1       312768.0         17095.5  Secondary / secondary special       Married   \n",
       "\n",
       "   REGION_POPULATION      AGE  DAYS_ON_LAST_JOB  OWN_CAR_AGE  FLAG_PHONE  \\\n",
       "0           0.028663  16007.0            2646.0         20.0         0.0   \n",
       "1           0.019689  10315.0             459.0          NaN         0.0   \n",
       "\n",
       "   FLAG_EMAIL  FAMILY_SIZE  EXTERNAL_SCORING_RATING_1  \\\n",
       "0         0.0          2.0                        NaN   \n",
       "1         0.0          4.0                        NaN   \n",
       "\n",
       "   EXTERNAL_SCORING_RATING_2  EXTERNAL_SCORING_RATING_3  \\\n",
       "0                   0.628266                        NaN   \n",
       "1                   0.578161                    0.18849   \n",
       "\n",
       "   AMT_REQ_CREDIT_BUREAU_HOUR  AMT_REQ_CREDIT_BUREAU_DAY  \\\n",
       "0                         0.0                        0.0   \n",
       "1                         0.0                        0.0   \n",
       "\n",
       "   AMT_REQ_CREDIT_BUREAU_WEEK  AMT_REQ_CREDIT_BUREAU_MON  \\\n",
       "0                         0.0                        0.0   \n",
       "1                         1.0                        0.0   \n",
       "\n",
       "   AMT_REQ_CREDIT_BUREAU_QRT  AMT_REQ_CREDIT_BUREAU_YEAR  \n",
       "0                        1.0                         4.0  \n",
       "1                        0.0                         2.0  "
      ]
     },
     "execution_count": 11,
     "metadata": {},
     "output_type": "execute_result"
    }
   ],
   "source": [
    "test_data = pd.merge(test_pro, client_profile, on='APPLICATION_NUMBER', how='left')\n",
    "test_data.head(2)"
   ]
  },
  {
   "cell_type": "code",
   "execution_count": 12,
   "metadata": {},
   "outputs": [
    {
     "name": "stdout",
     "output_type": "stream",
     "text": [
      "<class 'pandas.core.frame.DataFrame'>\n",
      "Int64Index: 110093 entries, 0 to 110092\n",
      "Data columns (total 25 columns):\n",
      " #   Column                      Non-Null Count   Dtype  \n",
      "---  ------                      --------------   -----  \n",
      " 0   APPLICATION_NUMBER          110093 non-null  int64  \n",
      " 1   NAME_CONTRACT_TYPE          110093 non-null  object \n",
      " 2   GENDER                      89539 non-null   object \n",
      " 3   CHILDRENS                   89539 non-null   float64\n",
      " 4   TOTAL_SALARY                89539 non-null   float64\n",
      " 5   AMOUNT_CREDIT               89539 non-null   float64\n",
      " 6   AMOUNT_ANNUITY              89534 non-null   float64\n",
      " 7   EDUCATION_LEVEL             89539 non-null   object \n",
      " 8   FAMILY_STATUS               89539 non-null   object \n",
      " 9   REGION_POPULATION           89539 non-null   float64\n",
      " 10  AGE                         89539 non-null   float64\n",
      " 11  DAYS_ON_LAST_JOB            89539 non-null   float64\n",
      " 12  OWN_CAR_AGE                 30533 non-null   float64\n",
      " 13  FLAG_PHONE                  89539 non-null   float64\n",
      " 14  FLAG_EMAIL                  89539 non-null   float64\n",
      " 15  FAMILY_SIZE                 89538 non-null   float64\n",
      " 16  EXTERNAL_SCORING_RATING_1   39091 non-null   float64\n",
      " 17  EXTERNAL_SCORING_RATING_2   89345 non-null   float64\n",
      " 18  EXTERNAL_SCORING_RATING_3   71808 non-null   float64\n",
      " 19  AMT_REQ_CREDIT_BUREAU_HOUR  77480 non-null   float64\n",
      " 20  AMT_REQ_CREDIT_BUREAU_DAY   77480 non-null   float64\n",
      " 21  AMT_REQ_CREDIT_BUREAU_WEEK  77480 non-null   float64\n",
      " 22  AMT_REQ_CREDIT_BUREAU_MON   77480 non-null   float64\n",
      " 23  AMT_REQ_CREDIT_BUREAU_QRT   77480 non-null   float64\n",
      " 24  AMT_REQ_CREDIT_BUREAU_YEAR  77480 non-null   float64\n",
      "dtypes: float64(20), int64(1), object(4)\n",
      "memory usage: 21.8+ MB\n"
     ]
    }
   ],
   "source": [
    "train_data.info()"
   ]
  },
  {
   "cell_type": "code",
   "execution_count": 13,
   "metadata": {},
   "outputs": [],
   "source": [
    "features_1 = ['GENDER', 'CHILDRENS', 'EDUCATION_LEVEL', 'FAMILY_STATUS', 'REGION_POPULATION', 'OWN_CAR_AGE', \n",
    "             'FLAG_PHONE', 'FLAG_EMAIL', 'FAMILY_SIZE', 'EXTERNAL_SCORING_RATING_1', 'EXTERNAL_SCORING_RATING_2', \n",
    "              'EXTERNAL_SCORING_RATING_3', 'AMT_REQ_CREDIT_BUREAU_HOUR', 'AMT_REQ_CREDIT_BUREAU_DAY', \n",
    "              'AMT_REQ_CREDIT_BUREAU_WEEK', 'AMT_REQ_CREDIT_BUREAU_MON', 'AMT_REQ_CREDIT_BUREAU_QRT', \n",
    "              'AMT_REQ_CREDIT_BUREAU_YEAR']\n",
    "\n",
    "for i in features_1:\n",
    "    train_data.loc[(train_data[i].isnull(), [i])] = train_data[i].mode()[0]\n",
    "    \n",
    "for i in features_1:\n",
    "    test_data.loc[(test_data[i].isnull(), [i])] = train_data[i].mode()[0]"
   ]
  },
  {
   "cell_type": "code",
   "execution_count": 14,
   "metadata": {},
   "outputs": [],
   "source": [
    "features_2 = ['TOTAL_SALARY', 'AMOUNT_CREDIT', 'AMOUNT_ANNUITY', 'AGE', 'DAYS_ON_LAST_JOB']\n",
    "\n",
    "for i in features_2:\n",
    "    train_data.loc[(train_data[i].isnull(), [i])] = train_data[i].median()\n",
    "for i in features_2:\n",
    "    test_data.loc[(test_data[i].isnull(), [i])] = train_data[i].median()"
   ]
  },
  {
   "cell_type": "code",
   "execution_count": 15,
   "metadata": {},
   "outputs": [
    {
     "data": {
      "text/plain": [
       "Index(['CHILDRENS', 'TOTAL_SALARY', 'AMOUNT_CREDIT', 'AMOUNT_ANNUITY',\n",
       "       'REGION_POPULATION', 'AGE', 'DAYS_ON_LAST_JOB', 'OWN_CAR_AGE',\n",
       "       'FLAG_PHONE', 'FLAG_EMAIL', 'FAMILY_SIZE', 'EXTERNAL_SCORING_RATING_1',\n",
       "       'EXTERNAL_SCORING_RATING_2', 'EXTERNAL_SCORING_RATING_3',\n",
       "       'AMT_REQ_CREDIT_BUREAU_HOUR', 'AMT_REQ_CREDIT_BUREAU_DAY',\n",
       "       'AMT_REQ_CREDIT_BUREAU_WEEK', 'AMT_REQ_CREDIT_BUREAU_MON',\n",
       "       'AMT_REQ_CREDIT_BUREAU_QRT', 'AMT_REQ_CREDIT_BUREAU_YEAR'],\n",
       "      dtype='object')"
      ]
     },
     "execution_count": 15,
     "metadata": {},
     "output_type": "execute_result"
    }
   ],
   "source": [
    "train_data.select_dtypes(include = ['float64']).columns"
   ]
  },
  {
   "cell_type": "code",
   "execution_count": 16,
   "metadata": {},
   "outputs": [],
   "source": [
    "features_3 = ['CHILDRENS', 'TOTAL_SALARY', 'AMOUNT_CREDIT', 'AMOUNT_ANNUITY', 'AGE', 'DAYS_ON_LAST_JOB', \n",
    "              'OWN_CAR_AGE', 'FLAG_PHONE', 'FLAG_EMAIL', 'FAMILY_SIZE', 'AMT_REQ_CREDIT_BUREAU_HOUR', \n",
    "              'AMT_REQ_CREDIT_BUREAU_DAY', 'AMT_REQ_CREDIT_BUREAU_WEEK', 'AMT_REQ_CREDIT_BUREAU_MON',\n",
    "              'AMT_REQ_CREDIT_BUREAU_QRT', 'AMT_REQ_CREDIT_BUREAU_YEAR']\n",
    "\n",
    "for i in features_3:\n",
    "    train_data[i] = train_data[i].astype(int)\n",
    "for i in features_3:\n",
    "    test_data[i] = test_data[i].astype(int)"
   ]
  },
  {
   "cell_type": "code",
   "execution_count": 17,
   "metadata": {},
   "outputs": [
    {
     "data": {
      "text/plain": [
       "Index(['NAME_CONTRACT_TYPE', 'GENDER', 'EDUCATION_LEVEL', 'FAMILY_STATUS'], dtype='object')"
      ]
     },
     "execution_count": 17,
     "metadata": {},
     "output_type": "execute_result"
    }
   ],
   "source": [
    "train_data.select_dtypes(include = ['object']).columns"
   ]
  },
  {
   "cell_type": "code",
   "execution_count": 18,
   "metadata": {},
   "outputs": [],
   "source": [
    "features_4 = ['NAME_CONTRACT_TYPE', 'GENDER', 'EDUCATION_LEVEL', 'FAMILY_STATUS']\n",
    "for i in features_4:\n",
    "    train_data = pd.concat([train_data, pd.get_dummies(train_data[i])], axis=1)\n",
    "for i in features_4:\n",
    "    test_data = pd.concat([test_data, pd.get_dummies(test_data[i])], axis=1)\n",
    "\n",
    "train_data = train_data.drop(['NAME_CONTRACT_TYPE', 'GENDER', 'EDUCATION_LEVEL', 'FAMILY_STATUS'], axis = 'columns')\n",
    "test_data = test_data.drop(['NAME_CONTRACT_TYPE', 'GENDER', 'EDUCATION_LEVEL', 'FAMILY_STATUS'], axis = 'columns')\n"
   ]
  },
  {
   "cell_type": "code",
   "execution_count": 19,
   "metadata": {},
   "outputs": [
    {
     "name": "stdout",
     "output_type": "stream",
     "text": [
      "<class 'pandas.core.frame.DataFrame'>\n",
      "Int64Index: 110093 entries, 0 to 110092\n",
      "Data columns (total 37 columns):\n",
      " #   Column                         Non-Null Count   Dtype  \n",
      "---  ------                         --------------   -----  \n",
      " 0   APPLICATION_NUMBER             110093 non-null  int64  \n",
      " 1   CHILDRENS                      110093 non-null  int64  \n",
      " 2   TOTAL_SALARY                   110093 non-null  int64  \n",
      " 3   AMOUNT_CREDIT                  110093 non-null  int64  \n",
      " 4   AMOUNT_ANNUITY                 110093 non-null  int64  \n",
      " 5   REGION_POPULATION              110093 non-null  float64\n",
      " 6   AGE                            110093 non-null  int64  \n",
      " 7   DAYS_ON_LAST_JOB               110093 non-null  int64  \n",
      " 8   OWN_CAR_AGE                    110093 non-null  int64  \n",
      " 9   FLAG_PHONE                     110093 non-null  int64  \n",
      " 10  FLAG_EMAIL                     110093 non-null  int64  \n",
      " 11  FAMILY_SIZE                    110093 non-null  int64  \n",
      " 12  EXTERNAL_SCORING_RATING_1      110093 non-null  float64\n",
      " 13  EXTERNAL_SCORING_RATING_2      110093 non-null  float64\n",
      " 14  EXTERNAL_SCORING_RATING_3      110093 non-null  float64\n",
      " 15  AMT_REQ_CREDIT_BUREAU_HOUR     110093 non-null  int64  \n",
      " 16  AMT_REQ_CREDIT_BUREAU_DAY      110093 non-null  int64  \n",
      " 17  AMT_REQ_CREDIT_BUREAU_WEEK     110093 non-null  int64  \n",
      " 18  AMT_REQ_CREDIT_BUREAU_MON      110093 non-null  int64  \n",
      " 19  AMT_REQ_CREDIT_BUREAU_QRT      110093 non-null  int64  \n",
      " 20  AMT_REQ_CREDIT_BUREAU_YEAR     110093 non-null  int64  \n",
      " 21  Cash                           110093 non-null  uint8  \n",
      " 22  Credit Card                    110093 non-null  uint8  \n",
      " 23  F                              110093 non-null  uint8  \n",
      " 24  M                              110093 non-null  uint8  \n",
      " 25  XNA                            110093 non-null  uint8  \n",
      " 26  Academic degree                110093 non-null  uint8  \n",
      " 27  Higher education               110093 non-null  uint8  \n",
      " 28  Incomplete higher              110093 non-null  uint8  \n",
      " 29  Lower secondary                110093 non-null  uint8  \n",
      " 30  Secondary / secondary special  110093 non-null  uint8  \n",
      " 31  Civil marriage                 110093 non-null  uint8  \n",
      " 32  Married                        110093 non-null  uint8  \n",
      " 33  Separated                      110093 non-null  uint8  \n",
      " 34  Single / not married           110093 non-null  uint8  \n",
      " 35  Unknown                        110093 non-null  uint8  \n",
      " 36  Widow                          110093 non-null  uint8  \n",
      "dtypes: float64(4), int64(17), uint8(16)\n",
      "memory usage: 20.2 MB\n"
     ]
    }
   ],
   "source": [
    "train_data.info()"
   ]
  },
  {
   "cell_type": "code",
   "execution_count": null,
   "metadata": {},
   "outputs": [],
   "source": []
  },
  {
   "cell_type": "code",
   "execution_count": 20,
   "metadata": {},
   "outputs": [
    {
     "data": {
      "text/plain": [
       "0    101196\n",
       "1      8897\n",
       "Name: target, dtype: int64"
      ]
     },
     "execution_count": 20,
     "metadata": {},
     "output_type": "execute_result"
    }
   ],
   "source": [
    "train_data['target'] = train_target\n",
    "train_data['target'].value_counts()"
   ]
  },
  {
   "cell_type": "code",
   "execution_count": 21,
   "metadata": {},
   "outputs": [
    {
     "data": {
      "text/html": [
       "<div>\n",
       "<style scoped>\n",
       "    .dataframe tbody tr th:only-of-type {\n",
       "        vertical-align: middle;\n",
       "    }\n",
       "\n",
       "    .dataframe tbody tr th {\n",
       "        vertical-align: top;\n",
       "    }\n",
       "\n",
       "    .dataframe thead th {\n",
       "        text-align: right;\n",
       "    }\n",
       "</style>\n",
       "<table border=\"1\" class=\"dataframe\">\n",
       "  <thead>\n",
       "    <tr style=\"text-align: right;\">\n",
       "      <th></th>\n",
       "      <th>APPLICATION_NUMBER</th>\n",
       "      <th>CHILDRENS</th>\n",
       "      <th>TOTAL_SALARY</th>\n",
       "      <th>AMOUNT_CREDIT</th>\n",
       "      <th>AMOUNT_ANNUITY</th>\n",
       "      <th>REGION_POPULATION</th>\n",
       "      <th>AGE</th>\n",
       "      <th>DAYS_ON_LAST_JOB</th>\n",
       "      <th>OWN_CAR_AGE</th>\n",
       "      <th>FLAG_PHONE</th>\n",
       "      <th>FLAG_EMAIL</th>\n",
       "      <th>FAMILY_SIZE</th>\n",
       "      <th>EXTERNAL_SCORING_RATING_1</th>\n",
       "      <th>EXTERNAL_SCORING_RATING_2</th>\n",
       "      <th>EXTERNAL_SCORING_RATING_3</th>\n",
       "      <th>AMT_REQ_CREDIT_BUREAU_HOUR</th>\n",
       "      <th>AMT_REQ_CREDIT_BUREAU_DAY</th>\n",
       "      <th>AMT_REQ_CREDIT_BUREAU_WEEK</th>\n",
       "      <th>AMT_REQ_CREDIT_BUREAU_MON</th>\n",
       "      <th>AMT_REQ_CREDIT_BUREAU_QRT</th>\n",
       "      <th>AMT_REQ_CREDIT_BUREAU_YEAR</th>\n",
       "      <th>Cash</th>\n",
       "      <th>Credit Card</th>\n",
       "      <th>F</th>\n",
       "      <th>M</th>\n",
       "      <th>XNA</th>\n",
       "      <th>Academic degree</th>\n",
       "      <th>Higher education</th>\n",
       "      <th>Incomplete higher</th>\n",
       "      <th>Lower secondary</th>\n",
       "      <th>Secondary / secondary special</th>\n",
       "      <th>Civil marriage</th>\n",
       "      <th>Married</th>\n",
       "      <th>Separated</th>\n",
       "      <th>Single / not married</th>\n",
       "      <th>Unknown</th>\n",
       "      <th>Widow</th>\n",
       "      <th>target</th>\n",
       "    </tr>\n",
       "  </thead>\n",
       "  <tbody>\n",
       "    <tr>\n",
       "      <th>0</th>\n",
       "      <td>123687442</td>\n",
       "      <td>1</td>\n",
       "      <td>157500</td>\n",
       "      <td>855000</td>\n",
       "      <td>25128</td>\n",
       "      <td>0.019101</td>\n",
       "      <td>15728</td>\n",
       "      <td>1719</td>\n",
       "      <td>11</td>\n",
       "      <td>0</td>\n",
       "      <td>0</td>\n",
       "      <td>3</td>\n",
       "      <td>0.700784</td>\n",
       "      <td>0.645914</td>\n",
       "      <td>0.71657</td>\n",
       "      <td>0</td>\n",
       "      <td>0</td>\n",
       "      <td>1</td>\n",
       "      <td>0</td>\n",
       "      <td>0</td>\n",
       "      <td>2</td>\n",
       "      <td>1</td>\n",
       "      <td>0</td>\n",
       "      <td>0</td>\n",
       "      <td>1</td>\n",
       "      <td>0</td>\n",
       "      <td>0</td>\n",
       "      <td>0</td>\n",
       "      <td>0</td>\n",
       "      <td>0</td>\n",
       "      <td>1</td>\n",
       "      <td>0</td>\n",
       "      <td>1</td>\n",
       "      <td>0</td>\n",
       "      <td>0</td>\n",
       "      <td>0</td>\n",
       "      <td>0</td>\n",
       "      <td>0</td>\n",
       "    </tr>\n",
       "    <tr>\n",
       "      <th>1</th>\n",
       "      <td>123597908</td>\n",
       "      <td>0</td>\n",
       "      <td>148500</td>\n",
       "      <td>517788</td>\n",
       "      <td>24903</td>\n",
       "      <td>0.035792</td>\n",
       "      <td>15728</td>\n",
       "      <td>2206</td>\n",
       "      <td>7</td>\n",
       "      <td>0</td>\n",
       "      <td>0</td>\n",
       "      <td>2</td>\n",
       "      <td>0.285593</td>\n",
       "      <td>0.285898</td>\n",
       "      <td>0.74630</td>\n",
       "      <td>0</td>\n",
       "      <td>0</td>\n",
       "      <td>0</td>\n",
       "      <td>0</td>\n",
       "      <td>0</td>\n",
       "      <td>0</td>\n",
       "      <td>1</td>\n",
       "      <td>0</td>\n",
       "      <td>1</td>\n",
       "      <td>0</td>\n",
       "      <td>0</td>\n",
       "      <td>0</td>\n",
       "      <td>0</td>\n",
       "      <td>0</td>\n",
       "      <td>0</td>\n",
       "      <td>1</td>\n",
       "      <td>0</td>\n",
       "      <td>1</td>\n",
       "      <td>0</td>\n",
       "      <td>0</td>\n",
       "      <td>0</td>\n",
       "      <td>0</td>\n",
       "      <td>1</td>\n",
       "    </tr>\n",
       "  </tbody>\n",
       "</table>\n",
       "</div>"
      ],
      "text/plain": [
       "   APPLICATION_NUMBER  CHILDRENS  TOTAL_SALARY  AMOUNT_CREDIT  AMOUNT_ANNUITY  \\\n",
       "0           123687442          1        157500         855000           25128   \n",
       "1           123597908          0        148500         517788           24903   \n",
       "\n",
       "   REGION_POPULATION    AGE  DAYS_ON_LAST_JOB  OWN_CAR_AGE  FLAG_PHONE  \\\n",
       "0           0.019101  15728              1719           11           0   \n",
       "1           0.035792  15728              2206            7           0   \n",
       "\n",
       "   FLAG_EMAIL  FAMILY_SIZE  EXTERNAL_SCORING_RATING_1  \\\n",
       "0           0            3                   0.700784   \n",
       "1           0            2                   0.285593   \n",
       "\n",
       "   EXTERNAL_SCORING_RATING_2  EXTERNAL_SCORING_RATING_3  \\\n",
       "0                   0.645914                    0.71657   \n",
       "1                   0.285898                    0.74630   \n",
       "\n",
       "   AMT_REQ_CREDIT_BUREAU_HOUR  AMT_REQ_CREDIT_BUREAU_DAY  \\\n",
       "0                           0                          0   \n",
       "1                           0                          0   \n",
       "\n",
       "   AMT_REQ_CREDIT_BUREAU_WEEK  AMT_REQ_CREDIT_BUREAU_MON  \\\n",
       "0                           1                          0   \n",
       "1                           0                          0   \n",
       "\n",
       "   AMT_REQ_CREDIT_BUREAU_QRT  AMT_REQ_CREDIT_BUREAU_YEAR  Cash  Credit Card  \\\n",
       "0                          0                           2     1            0   \n",
       "1                          0                           0     1            0   \n",
       "\n",
       "   F  M  XNA  Academic degree  Higher education  Incomplete higher  \\\n",
       "0  0  1    0                0                 0                  0   \n",
       "1  1  0    0                0                 0                  0   \n",
       "\n",
       "   Lower secondary  Secondary / secondary special  Civil marriage  Married  \\\n",
       "0                0                              1               0        1   \n",
       "1                0                              1               0        1   \n",
       "\n",
       "   Separated  Single / not married  Unknown  Widow  target  \n",
       "0          0                     0        0      0       0  \n",
       "1          0                     0        0      0       1  "
      ]
     },
     "execution_count": 21,
     "metadata": {},
     "output_type": "execute_result"
    }
   ],
   "source": [
    "train_data_target_1 = train_data.loc[train_data['target'] == 1]\n",
    "train_data_balansing = train_data\n",
    "for i in range (0,5):\n",
    "    train_data_balansing = pd.concat([train_data_balansing, train_data_target_1], axis=0)\n",
    "train_data_balansing.head(2)"
   ]
  },
  {
   "cell_type": "code",
   "execution_count": 22,
   "metadata": {},
   "outputs": [
    {
     "data": {
      "text/plain": [
       "0    101196\n",
       "1     53382\n",
       "Name: target, dtype: int64"
      ]
     },
     "execution_count": 22,
     "metadata": {},
     "output_type": "execute_result"
    }
   ],
   "source": [
    "train_data_balansing['target'].value_counts()"
   ]
  },
  {
   "cell_type": "code",
   "execution_count": 23,
   "metadata": {},
   "outputs": [],
   "source": [
    "train_target = train_data_balansing['target']\n",
    "train_data = train_data_balansing.copy()\n",
    "train_data = train_data.drop(['target'], axis = 'columns')"
   ]
  },
  {
   "cell_type": "code",
   "execution_count": null,
   "metadata": {},
   "outputs": [],
   "source": []
  },
  {
   "cell_type": "code",
   "execution_count": 24,
   "metadata": {},
   "outputs": [],
   "source": [
    "train_data['fraction_salary'] = train_data['TOTAL_SALARY'] / train_data['FAMILY_SIZE']\n",
    "train_data['fraction_salary_1'] = train_data['TOTAL_SALARY'] / (train_data['CHILDRENS'] + 1)\n",
    "train_data['fraction_salary_2'] = train_data['TOTAL_SALARY'] / train_data['AMOUNT_ANNUITY']\n",
    "train_data['fraction_1'] = train_data['AMOUNT_CREDIT'] / train_data['AMOUNT_ANNUITY']\n",
    "\n",
    "test_data['fraction_salary'] = test_data['TOTAL_SALARY'] / test_data['FAMILY_SIZE']\n",
    "test_data['fraction_salary_1'] = test_data['TOTAL_SALARY'] / (test_data['CHILDRENS'] + 1)\n",
    "test_data['fraction_salary_2'] = test_data['TOTAL_SALARY'] / test_data['AMOUNT_ANNUITY']\n",
    "test_data['fraction_1'] = test_data['AMOUNT_CREDIT'] / test_data['AMOUNT_ANNUITY']"
   ]
  },
  {
   "cell_type": "code",
   "execution_count": null,
   "metadata": {},
   "outputs": [],
   "source": []
  },
  {
   "cell_type": "code",
   "execution_count": 25,
   "metadata": {},
   "outputs": [],
   "source": [
    "train_data = train_data.drop(['XNA', 'Unknown', 'Academic degree', 'FLAG_EMAIL', 'AMT_REQ_CREDIT_BUREAU_DAY', \n",
    "                              'AMT_REQ_CREDIT_BUREAU_HOUR', 'Civil marriage', 'Widow', 'Separated', \n",
    "                              'AMT_REQ_CREDIT_BUREAU_WEEK', 'Lower secondary', 'Incomplete higher'], axis = 'columns')\n",
    "\n",
    "test_data = test_data.drop(['XNA', 'Unknown', 'Academic degree', 'FLAG_EMAIL', 'AMT_REQ_CREDIT_BUREAU_DAY', \n",
    "                              'AMT_REQ_CREDIT_BUREAU_HOUR', 'Civil marriage', 'Widow', 'Separated', \n",
    "                              'AMT_REQ_CREDIT_BUREAU_WEEK', 'Lower secondary', 'Incomplete higher'], axis = 'columns')"
   ]
  },
  {
   "cell_type": "code",
   "execution_count": null,
   "metadata": {},
   "outputs": [],
   "source": []
  },
  {
   "cell_type": "code",
   "execution_count": 26,
   "metadata": {},
   "outputs": [],
   "source": [
    "pca = PCA(n_components=1)\n",
    "N_1 = pca.fit_transform(train_data.loc[:,['CHILDRENS', 'FAMILY_SIZE']].values)\n",
    "pca.explained_variance_ratio_[:2].sum()  # 0.9387\n",
    "\n",
    "train_data['N_1'] = N_1\n",
    "#train_data = train_data.drop(['CHILDRENS', 'FAMILY_SIZE'], axis = 'columns')\n",
    "\n",
    "N_1 = pca.transform(test_data.loc[:,['CHILDRENS', 'FAMILY_SIZE']].values)\n",
    "test_data['N_1'] = N_1\n",
    "#test_data = test_data.drop(['CHILDRENS', 'FAMILY_SIZE'], axis = 'columns')\n",
    "\n",
    "pca = PCA(n_components=1)\n",
    "N_2 = pca.fit_transform(train_data.loc[:,['AMOUNT_ANNUITY', 'AMOUNT_CREDIT']].values)\n",
    "pca.explained_variance_ratio_[:2].sum()  # 0.99946\n",
    "\n",
    "train_data['N_2'] = N_2\n",
    "#train_data = train_data.drop(['AMOUNT_ANNUITY', 'AMOUNT_CREDIT'], axis = 'columns')\n",
    "\n",
    "N_2 = pca.transform(test_data.loc[:,['AMOUNT_ANNUITY', 'AMOUNT_CREDIT']].values)\n",
    "test_data['N_2'] = N_2\n",
    "#test_data = test_data.drop(['AMOUNT_ANNUITY', 'AMOUNT_CREDIT'], axis = 'columns')\n",
    "\n",
    "pca = PCA(n_components=1)\n",
    "N_3 = pca.fit_transform(train_data.loc[:,['DAYS_ON_LAST_JOB', 'AGE']].values)\n",
    "pca.explained_variance_ratio_[:2].sum()  # 0.99935\n",
    "\n",
    "train_data['N_3'] = N_3\n",
    "#train_data = train_data.drop(['DAYS_ON_LAST_JOB', 'AGE'], axis = 'columns')\n",
    "\n",
    "N_3 = pca.transform(test_data.loc[:,['DAYS_ON_LAST_JOB', 'AGE']].values)\n",
    "test_data['N_3'] = N_3\n",
    "#test_data = test_data.drop(['DAYS_ON_LAST_JOB', 'AGE'], axis = 'columns')"
   ]
  },
  {
   "cell_type": "code",
   "execution_count": 27,
   "metadata": {},
   "outputs": [],
   "source": [
    "train_data[\"DAYS_ON_LAST_JOB\"] = train_data[\"DAYS_ON_LAST_JOB\"].replace(365243, np.nan)\n",
    "test_data[\"DAYS_ON_LAST_JOB\"] = test_data[\"DAYS_ON_LAST_JOB\"].replace(365243, np.nan)"
   ]
  },
  {
   "cell_type": "code",
   "execution_count": 28,
   "metadata": {},
   "outputs": [],
   "source": [
    "bki_flags = [flag for flag in train_data.columns if \"AMT_REQ_CREDIT_BUREAU\" in flag]\n",
    "train_data[\"bki_requests_count\"] = train_data[bki_flags].sum(axis=1)\n",
    "\n",
    "bki_flags = [flag for flag in test_data.columns if \"AMT_REQ_CREDIT_BUREAU\" in flag]\n",
    "test_data[\"bki_requests_count\"] = test_data[bki_flags].sum(axis=1)"
   ]
  },
  {
   "cell_type": "code",
   "execution_count": 29,
   "metadata": {},
   "outputs": [],
   "source": [
    "train_data[\"external_scoring_prod\"] = train_data[\"EXTERNAL_SCORING_RATING_1\"] * train_data[\"EXTERNAL_SCORING_RATING_2\"] * train_data[\"EXTERNAL_SCORING_RATING_3\"]\n",
    "train_data[\"external_scoring_weighted\"] = train_data.EXTERNAL_SCORING_RATING_1 * 2 + train_data.EXTERNAL_SCORING_RATING_2 * 1 + train_data.EXTERNAL_SCORING_RATING_3 * 3\n",
    "\n",
    "\n",
    "test_data[\"external_scoring_prod\"] = test_data[\"EXTERNAL_SCORING_RATING_1\"] * test_data[\"EXTERNAL_SCORING_RATING_2\"] * test_data[\"EXTERNAL_SCORING_RATING_3\"]\n",
    "test_data[\"external_scoring_weighted\"] = test_data.EXTERNAL_SCORING_RATING_1 * 2 + test_data.EXTERNAL_SCORING_RATING_2 * 1 + test_data.EXTERNAL_SCORING_RATING_3 * 3\n"
   ]
  },
  {
   "cell_type": "code",
   "execution_count": 30,
   "metadata": {},
   "outputs": [],
   "source": [
    "for function_name in [\"min\", \"max\", \"mean\", \"nanmedian\", \"var\"]:\n",
    "    feature_name = \"EXTERNAL_SCORING_RATING_{}\".format(function_name)\n",
    "    train_data[feature_name] = eval(\"np.{}\".format(function_name))(\n",
    "        train_data[[\"EXTERNAL_SCORING_RATING_1\", \"EXTERNAL_SCORING_RATING_2\", \"EXTERNAL_SCORING_RATING_3\"]], axis=1\n",
    "    )\n",
    "    \n",
    "for function_name in [\"min\", \"max\", \"mean\", \"nanmedian\", \"var\"]:\n",
    "    feature_name = \"EXTERNAL_SCORING_RATING_{}\".format(function_name)\n",
    "    test_data[feature_name] = eval(\"np.{}\".format(function_name))(\n",
    "        test_data[[\"EXTERNAL_SCORING_RATING_1\", \"EXTERNAL_SCORING_RATING_2\", \"EXTERNAL_SCORING_RATING_3\"]], axis=1\n",
    "    )"
   ]
  },
  {
   "cell_type": "code",
   "execution_count": null,
   "metadata": {},
   "outputs": [],
   "source": []
  },
  {
   "cell_type": "code",
   "execution_count": null,
   "metadata": {},
   "outputs": [],
   "source": []
  },
  {
   "cell_type": "code",
   "execution_count": 31,
   "metadata": {},
   "outputs": [
    {
     "name": "stdout",
     "output_type": "stream",
     "text": [
      "0:\ttest: 0.6846731\tbest: 0.6846731 (0)\ttotal: 408ms\tremaining: 4m 4s\n",
      "10:\ttest: 0.7026233\tbest: 0.7026233 (10)\ttotal: 1.02s\tremaining: 54.9s\n",
      "20:\ttest: 0.7065365\tbest: 0.7065365 (20)\ttotal: 1.67s\tremaining: 46s\n",
      "30:\ttest: 0.7094306\tbest: 0.7094306 (30)\ttotal: 2.34s\tremaining: 42.9s\n",
      "40:\ttest: 0.7128330\tbest: 0.7128330 (40)\ttotal: 2.89s\tremaining: 39.4s\n",
      "50:\ttest: 0.7157161\tbest: 0.7157161 (50)\ttotal: 3.42s\tremaining: 36.8s\n",
      "60:\ttest: 0.7178326\tbest: 0.7178326 (60)\ttotal: 3.95s\tremaining: 34.9s\n",
      "70:\ttest: 0.7199142\tbest: 0.7199142 (70)\ttotal: 4.47s\tremaining: 33.3s\n",
      "80:\ttest: 0.7217042\tbest: 0.7218157 (79)\ttotal: 5s\tremaining: 32s\n",
      "90:\ttest: 0.7231959\tbest: 0.7231959 (90)\ttotal: 5.51s\tremaining: 30.8s\n",
      "100:\ttest: 0.7250164\tbest: 0.7250164 (100)\ttotal: 6.01s\tremaining: 29.7s\n",
      "110:\ttest: 0.7264450\tbest: 0.7264450 (110)\ttotal: 6.54s\tremaining: 28.8s\n",
      "120:\ttest: 0.7276565\tbest: 0.7276565 (120)\ttotal: 7.04s\tremaining: 27.9s\n",
      "130:\ttest: 0.7290016\tbest: 0.7290016 (130)\ttotal: 7.63s\tremaining: 27.3s\n",
      "140:\ttest: 0.7298310\tbest: 0.7298310 (140)\ttotal: 8.24s\tremaining: 26.8s\n",
      "150:\ttest: 0.7311881\tbest: 0.7311881 (150)\ttotal: 8.76s\tremaining: 26.1s\n",
      "160:\ttest: 0.7317314\tbest: 0.7317314 (160)\ttotal: 9.27s\tremaining: 25.3s\n",
      "170:\ttest: 0.7329537\tbest: 0.7329537 (170)\ttotal: 9.81s\tremaining: 24.6s\n",
      "180:\ttest: 0.7342113\tbest: 0.7342113 (180)\ttotal: 10.3s\tremaining: 23.9s\n",
      "190:\ttest: 0.7350514\tbest: 0.7350514 (190)\ttotal: 10.8s\tremaining: 23.2s\n",
      "200:\ttest: 0.7359024\tbest: 0.7359024 (200)\ttotal: 11.4s\tremaining: 22.5s\n",
      "210:\ttest: 0.7369311\tbest: 0.7370653 (209)\ttotal: 11.9s\tremaining: 21.9s\n",
      "220:\ttest: 0.7378786\tbest: 0.7378786 (220)\ttotal: 12.4s\tremaining: 21.3s\n",
      "230:\ttest: 0.7388484\tbest: 0.7388484 (230)\ttotal: 12.9s\tremaining: 20.6s\n",
      "240:\ttest: 0.7399835\tbest: 0.7399835 (240)\ttotal: 13.5s\tremaining: 20.2s\n",
      "250:\ttest: 0.7406787\tbest: 0.7406787 (250)\ttotal: 14.1s\tremaining: 19.6s\n",
      "260:\ttest: 0.7416872\tbest: 0.7416872 (260)\ttotal: 14.6s\tremaining: 19s\n",
      "270:\ttest: 0.7425800\tbest: 0.7425800 (270)\ttotal: 15.2s\tremaining: 18.4s\n",
      "280:\ttest: 0.7436878\tbest: 0.7436878 (280)\ttotal: 15.7s\tremaining: 17.8s\n",
      "290:\ttest: 0.7446509\tbest: 0.7446509 (290)\ttotal: 16.2s\tremaining: 17.2s\n",
      "300:\ttest: 0.7454152\tbest: 0.7454152 (300)\ttotal: 16.7s\tremaining: 16.6s\n",
      "310:\ttest: 0.7461374\tbest: 0.7461374 (310)\ttotal: 17.2s\tremaining: 15.9s\n",
      "320:\ttest: 0.7469170\tbest: 0.7469170 (320)\ttotal: 17.7s\tremaining: 15.4s\n",
      "330:\ttest: 0.7477623\tbest: 0.7477623 (330)\ttotal: 18.2s\tremaining: 14.8s\n",
      "340:\ttest: 0.7484814\tbest: 0.7484814 (340)\ttotal: 18.7s\tremaining: 14.2s\n",
      "350:\ttest: 0.7493527\tbest: 0.7493527 (350)\ttotal: 19.3s\tremaining: 13.7s\n",
      "360:\ttest: 0.7502879\tbest: 0.7502879 (360)\ttotal: 19.9s\tremaining: 13.2s\n",
      "370:\ttest: 0.7510522\tbest: 0.7510522 (370)\ttotal: 20.4s\tremaining: 12.6s\n",
      "380:\ttest: 0.7518779\tbest: 0.7518779 (380)\ttotal: 20.9s\tremaining: 12s\n",
      "390:\ttest: 0.7527164\tbest: 0.7527164 (390)\ttotal: 21.5s\tremaining: 11.5s\n",
      "400:\ttest: 0.7538412\tbest: 0.7538412 (400)\ttotal: 22s\tremaining: 10.9s\n",
      "410:\ttest: 0.7545682\tbest: 0.7545682 (410)\ttotal: 22.6s\tremaining: 10.4s\n",
      "420:\ttest: 0.7555565\tbest: 0.7555565 (420)\ttotal: 23.1s\tremaining: 9.84s\n",
      "430:\ttest: 0.7562759\tbest: 0.7562759 (430)\ttotal: 23.6s\tremaining: 9.27s\n",
      "440:\ttest: 0.7571451\tbest: 0.7571451 (440)\ttotal: 24.2s\tremaining: 8.71s\n",
      "450:\ttest: 0.7580011\tbest: 0.7580011 (450)\ttotal: 24.7s\tremaining: 8.17s\n",
      "460:\ttest: 0.7587686\tbest: 0.7587686 (460)\ttotal: 25.4s\tremaining: 7.65s\n",
      "470:\ttest: 0.7596092\tbest: 0.7596092 (470)\ttotal: 25.9s\tremaining: 7.09s\n",
      "480:\ttest: 0.7604031\tbest: 0.7604031 (480)\ttotal: 26.4s\tremaining: 6.54s\n",
      "490:\ttest: 0.7612586\tbest: 0.7612586 (490)\ttotal: 26.9s\tremaining: 5.97s\n",
      "500:\ttest: 0.7619844\tbest: 0.7619844 (500)\ttotal: 27.4s\tremaining: 5.42s\n",
      "510:\ttest: 0.7626774\tbest: 0.7626774 (510)\ttotal: 27.9s\tremaining: 4.86s\n",
      "520:\ttest: 0.7633106\tbest: 0.7633106 (520)\ttotal: 28.4s\tremaining: 4.31s\n",
      "530:\ttest: 0.7640508\tbest: 0.7640508 (530)\ttotal: 28.9s\tremaining: 3.76s\n",
      "540:\ttest: 0.7648153\tbest: 0.7648153 (540)\ttotal: 29.5s\tremaining: 3.21s\n",
      "550:\ttest: 0.7656415\tbest: 0.7656415 (550)\ttotal: 30s\tremaining: 2.66s\n",
      "560:\ttest: 0.7663541\tbest: 0.7663541 (560)\ttotal: 30.6s\tremaining: 2.13s\n",
      "570:\ttest: 0.7669851\tbest: 0.7669851 (570)\ttotal: 31.2s\tremaining: 1.58s\n",
      "580:\ttest: 0.7677014\tbest: 0.7677014 (580)\ttotal: 31.7s\tremaining: 1.04s\n",
      "590:\ttest: 0.7684938\tbest: 0.7684938 (590)\ttotal: 32.2s\tremaining: 490ms\n",
      "599:\ttest: 0.7691244\tbest: 0.7691244 (599)\ttotal: 32.8s\tremaining: 0us\n",
      "\n",
      "bestTest = 0.7691243728\n",
      "bestIteration = 599\n",
      "\n"
     ]
    },
    {
     "data": {
      "text/plain": [
       "<catboost.core.CatBoostClassifier at 0x7f8575ada340>"
      ]
     },
     "execution_count": 31,
     "metadata": {},
     "output_type": "execute_result"
    }
   ],
   "source": [
    "x_train, x_valid, y_train, y_valid = train_test_split(train_data, train_target, test_size=0.30)\n",
    "\n",
    "cb_params = {\n",
    "    \"n_estimators\": 600,\n",
    "    \"loss_function\": \"Logloss\",\n",
    "    \"eval_metric\": \"AUC\",\n",
    "    \"task_type\": \"CPU\",\n",
    "    \"max_bin\": 20,\n",
    "    \"verbose\": 10,\n",
    "    \"max_depth\": 7,\n",
    "    \"l2_leaf_reg\": 100,\n",
    "    \"early_stopping_rounds\": 50,\n",
    "    \"thread_count\": 6,\n",
    "    \"random_seed\": 42,\n",
    "}\n",
    "\n",
    "model = catb.CatBoostClassifier(**cb_params)\n",
    "model.fit(X = x_train, y = y_train, eval_set=[(x_valid, y_valid)])\n",
    "\n",
    "# 'max_depth': 7  600\n",
    "#(0.8465619471057402, {'n_estimators': 900, 'max_depth': 9})\n"
   ]
  },
  {
   "cell_type": "code",
   "execution_count": 32,
   "metadata": {},
   "outputs": [
    {
     "name": "stdout",
     "output_type": "stream",
     "text": [
      "Train-score: 0.79, Valid-score: 0.769)\n"
     ]
    }
   ],
   "source": [
    "train_score = roc_auc_score(y_train, model.predict(x_train, prediction_type = \"Probability\")[:,1])\n",
    "valid_score = roc_auc_score(y_valid, model.predict(x_valid, prediction_type = \"Probability\")[:,1])\n",
    "\n",
    "print(f\"Train-score: {round(train_score, 3)}, Valid-score: {round(valid_score, 3)})\")\n",
    "\n",
    "#Train-score: 0.787, Valid-score: 0.77)"
   ]
  },
  {
   "cell_type": "code",
   "execution_count": null,
   "metadata": {},
   "outputs": [],
   "source": []
  },
  {
   "cell_type": "code",
   "execution_count": null,
   "metadata": {},
   "outputs": [],
   "source": []
  },
  {
   "cell_type": "code",
   "execution_count": 33,
   "metadata": {},
   "outputs": [
    {
     "data": {
      "text/html": [
       "<div>\n",
       "<style scoped>\n",
       "    .dataframe tbody tr th:only-of-type {\n",
       "        vertical-align: middle;\n",
       "    }\n",
       "\n",
       "    .dataframe tbody tr th {\n",
       "        vertical-align: top;\n",
       "    }\n",
       "\n",
       "    .dataframe thead th {\n",
       "        text-align: right;\n",
       "    }\n",
       "</style>\n",
       "<table border=\"1\" class=\"dataframe\">\n",
       "  <thead>\n",
       "    <tr style=\"text-align: right;\">\n",
       "      <th></th>\n",
       "      <th>APPLICATION_NUMBER</th>\n",
       "      <th>TARGET</th>\n",
       "    </tr>\n",
       "  </thead>\n",
       "  <tbody>\n",
       "    <tr>\n",
       "      <th>0</th>\n",
       "      <td>123724268</td>\n",
       "      <td>0.241866</td>\n",
       "    </tr>\n",
       "    <tr>\n",
       "      <th>1</th>\n",
       "      <td>123456549</td>\n",
       "      <td>0.707791</td>\n",
       "    </tr>\n",
       "    <tr>\n",
       "      <th>2</th>\n",
       "      <td>123428178</td>\n",
       "      <td>0.471925</td>\n",
       "    </tr>\n",
       "    <tr>\n",
       "      <th>3</th>\n",
       "      <td>123619984</td>\n",
       "      <td>0.356004</td>\n",
       "    </tr>\n",
       "    <tr>\n",
       "      <th>4</th>\n",
       "      <td>123671104</td>\n",
       "      <td>0.111962</td>\n",
       "    </tr>\n",
       "  </tbody>\n",
       "</table>\n",
       "</div>"
      ],
      "text/plain": [
       "   APPLICATION_NUMBER    TARGET\n",
       "0           123724268  0.241866\n",
       "1           123456549  0.707791\n",
       "2           123428178  0.471925\n",
       "3           123619984  0.356004\n",
       "4           123671104  0.111962"
      ]
     },
     "execution_count": 33,
     "metadata": {},
     "output_type": "execute_result"
    }
   ],
   "source": [
    "y_pred_test = model.predict(test_data, prediction_type =  \"Probability\")[:,1]\n",
    "result_test = pd.DataFrame({\n",
    "    \"APPLICATION_NUMBER\": test_data['APPLICATION_NUMBER'],\n",
    "    \"TARGET\": y_pred_test.flatten(),})\n",
    "result_test.head()"
   ]
  },
  {
   "cell_type": "code",
   "execution_count": 34,
   "metadata": {},
   "outputs": [],
   "source": [
    "#filename = 'Vodorezova.csv'\n",
    "#result_test.to_csv(filename, index=None)\n",
    "# 0.72019\n",
    "# 0.72099\n",
    "# 0.72511\n",
    "# 0.72618\n",
    "# 0.72121"
   ]
  },
  {
   "cell_type": "code",
   "execution_count": null,
   "metadata": {},
   "outputs": [],
   "source": []
  },
  {
   "cell_type": "code",
   "execution_count": 35,
   "metadata": {},
   "outputs": [
    {
     "data": {
      "text/html": [
       "<div>\n",
       "<style scoped>\n",
       "    .dataframe tbody tr th:only-of-type {\n",
       "        vertical-align: middle;\n",
       "    }\n",
       "\n",
       "    .dataframe tbody tr th {\n",
       "        vertical-align: top;\n",
       "    }\n",
       "\n",
       "    .dataframe thead th {\n",
       "        text-align: right;\n",
       "    }\n",
       "</style>\n",
       "<table border=\"1\" class=\"dataframe\">\n",
       "  <thead>\n",
       "    <tr style=\"text-align: right;\">\n",
       "      <th></th>\n",
       "      <th>APPLICATION_NUMBER</th>\n",
       "      <th>CHILDRENS</th>\n",
       "      <th>TOTAL_SALARY</th>\n",
       "      <th>AMOUNT_CREDIT</th>\n",
       "      <th>AMOUNT_ANNUITY</th>\n",
       "      <th>REGION_POPULATION</th>\n",
       "      <th>AGE</th>\n",
       "      <th>DAYS_ON_LAST_JOB</th>\n",
       "      <th>OWN_CAR_AGE</th>\n",
       "      <th>FLAG_PHONE</th>\n",
       "      <th>FAMILY_SIZE</th>\n",
       "      <th>EXTERNAL_SCORING_RATING_1</th>\n",
       "      <th>EXTERNAL_SCORING_RATING_2</th>\n",
       "      <th>EXTERNAL_SCORING_RATING_3</th>\n",
       "      <th>AMT_REQ_CREDIT_BUREAU_MON</th>\n",
       "      <th>AMT_REQ_CREDIT_BUREAU_QRT</th>\n",
       "      <th>AMT_REQ_CREDIT_BUREAU_YEAR</th>\n",
       "      <th>Cash</th>\n",
       "      <th>Credit Card</th>\n",
       "      <th>F</th>\n",
       "      <th>M</th>\n",
       "      <th>Higher education</th>\n",
       "      <th>Secondary / secondary special</th>\n",
       "      <th>Married</th>\n",
       "      <th>Single / not married</th>\n",
       "      <th>fraction_salary</th>\n",
       "      <th>fraction_salary_1</th>\n",
       "      <th>fraction_salary_2</th>\n",
       "      <th>fraction_1</th>\n",
       "      <th>N_1</th>\n",
       "      <th>N_2</th>\n",
       "      <th>N_3</th>\n",
       "      <th>bki_requests_count</th>\n",
       "      <th>external_scoring_prod</th>\n",
       "      <th>external_scoring_weighted</th>\n",
       "      <th>EXTERNAL_SCORING_RATING_min</th>\n",
       "      <th>EXTERNAL_SCORING_RATING_max</th>\n",
       "      <th>EXTERNAL_SCORING_RATING_mean</th>\n",
       "      <th>EXTERNAL_SCORING_RATING_nanmedian</th>\n",
       "      <th>EXTERNAL_SCORING_RATING_var</th>\n",
       "    </tr>\n",
       "  </thead>\n",
       "  <tbody>\n",
       "    <tr>\n",
       "      <th>0</th>\n",
       "      <td>123687442</td>\n",
       "      <td>1</td>\n",
       "      <td>157500</td>\n",
       "      <td>855000</td>\n",
       "      <td>25128</td>\n",
       "      <td>0.019101</td>\n",
       "      <td>15728</td>\n",
       "      <td>1719.0</td>\n",
       "      <td>11</td>\n",
       "      <td>0</td>\n",
       "      <td>3</td>\n",
       "      <td>0.700784</td>\n",
       "      <td>0.645914</td>\n",
       "      <td>0.71657</td>\n",
       "      <td>0</td>\n",
       "      <td>0</td>\n",
       "      <td>2</td>\n",
       "      <td>1</td>\n",
       "      <td>0</td>\n",
       "      <td>0</td>\n",
       "      <td>1</td>\n",
       "      <td>0</td>\n",
       "      <td>1</td>\n",
       "      <td>1</td>\n",
       "      <td>0</td>\n",
       "      <td>52500.0</td>\n",
       "      <td>78750.0</td>\n",
       "      <td>6.267908</td>\n",
       "      <td>34.025788</td>\n",
       "      <td>1.076108</td>\n",
       "      <td>279859.244154</td>\n",
       "      <td>-47826.195646</td>\n",
       "      <td>2</td>\n",
       "      <td>0.324353</td>\n",
       "      <td>4.197193</td>\n",
       "      <td>0.645914</td>\n",
       "      <td>0.71657</td>\n",
       "      <td>0.687756</td>\n",
       "      <td>0.700784</td>\n",
       "      <td>0.000917</td>\n",
       "    </tr>\n",
       "    <tr>\n",
       "      <th>1</th>\n",
       "      <td>123597908</td>\n",
       "      <td>0</td>\n",
       "      <td>148500</td>\n",
       "      <td>517788</td>\n",
       "      <td>24903</td>\n",
       "      <td>0.035792</td>\n",
       "      <td>15728</td>\n",
       "      <td>2206.0</td>\n",
       "      <td>7</td>\n",
       "      <td>0</td>\n",
       "      <td>2</td>\n",
       "      <td>0.285593</td>\n",
       "      <td>0.285898</td>\n",
       "      <td>0.74630</td>\n",
       "      <td>0</td>\n",
       "      <td>0</td>\n",
       "      <td>0</td>\n",
       "      <td>1</td>\n",
       "      <td>0</td>\n",
       "      <td>1</td>\n",
       "      <td>0</td>\n",
       "      <td>0</td>\n",
       "      <td>1</td>\n",
       "      <td>1</td>\n",
       "      <td>0</td>\n",
       "      <td>74250.0</td>\n",
       "      <td>148500.0</td>\n",
       "      <td>5.963137</td>\n",
       "      <td>20.792194</td>\n",
       "      <td>-0.329126</td>\n",
       "      <td>-57230.937289</td>\n",
       "      <td>-47339.286647</td>\n",
       "      <td>0</td>\n",
       "      <td>0.060936</td>\n",
       "      <td>3.095985</td>\n",
       "      <td>0.285593</td>\n",
       "      <td>0.74630</td>\n",
       "      <td>0.439264</td>\n",
       "      <td>0.285898</td>\n",
       "      <td>0.047136</td>\n",
       "    </tr>\n",
       "  </tbody>\n",
       "</table>\n",
       "</div>"
      ],
      "text/plain": [
       "   APPLICATION_NUMBER  CHILDRENS  TOTAL_SALARY  AMOUNT_CREDIT  AMOUNT_ANNUITY  \\\n",
       "0           123687442          1        157500         855000           25128   \n",
       "1           123597908          0        148500         517788           24903   \n",
       "\n",
       "   REGION_POPULATION    AGE  DAYS_ON_LAST_JOB  OWN_CAR_AGE  FLAG_PHONE  \\\n",
       "0           0.019101  15728            1719.0           11           0   \n",
       "1           0.035792  15728            2206.0            7           0   \n",
       "\n",
       "   FAMILY_SIZE  EXTERNAL_SCORING_RATING_1  EXTERNAL_SCORING_RATING_2  \\\n",
       "0            3                   0.700784                   0.645914   \n",
       "1            2                   0.285593                   0.285898   \n",
       "\n",
       "   EXTERNAL_SCORING_RATING_3  AMT_REQ_CREDIT_BUREAU_MON  \\\n",
       "0                    0.71657                          0   \n",
       "1                    0.74630                          0   \n",
       "\n",
       "   AMT_REQ_CREDIT_BUREAU_QRT  AMT_REQ_CREDIT_BUREAU_YEAR  Cash  Credit Card  \\\n",
       "0                          0                           2     1            0   \n",
       "1                          0                           0     1            0   \n",
       "\n",
       "   F  M  Higher education  Secondary / secondary special  Married  \\\n",
       "0  0  1                 0                              1        1   \n",
       "1  1  0                 0                              1        1   \n",
       "\n",
       "   Single / not married  fraction_salary  fraction_salary_1  \\\n",
       "0                     0          52500.0            78750.0   \n",
       "1                     0          74250.0           148500.0   \n",
       "\n",
       "   fraction_salary_2  fraction_1       N_1            N_2           N_3  \\\n",
       "0           6.267908   34.025788  1.076108  279859.244154 -47826.195646   \n",
       "1           5.963137   20.792194 -0.329126  -57230.937289 -47339.286647   \n",
       "\n",
       "   bki_requests_count  external_scoring_prod  external_scoring_weighted  \\\n",
       "0                   2               0.324353                   4.197193   \n",
       "1                   0               0.060936                   3.095985   \n",
       "\n",
       "   EXTERNAL_SCORING_RATING_min  EXTERNAL_SCORING_RATING_max  \\\n",
       "0                     0.645914                      0.71657   \n",
       "1                     0.285593                      0.74630   \n",
       "\n",
       "   EXTERNAL_SCORING_RATING_mean  EXTERNAL_SCORING_RATING_nanmedian  \\\n",
       "0                      0.687756                           0.700784   \n",
       "1                      0.439264                           0.285898   \n",
       "\n",
       "   EXTERNAL_SCORING_RATING_var  \n",
       "0                     0.000917  \n",
       "1                     0.047136  "
      ]
     },
     "execution_count": 35,
     "metadata": {},
     "output_type": "execute_result"
    }
   ],
   "source": [
    "train_data.head(2)"
   ]
  },
  {
   "cell_type": "code",
   "execution_count": null,
   "metadata": {},
   "outputs": [],
   "source": []
  },
  {
   "cell_type": "code",
   "execution_count": 36,
   "metadata": {},
   "outputs": [
    {
     "data": {
      "text/plain": [
       "<matplotlib.axes._subplots.AxesSubplot at 0x7f85709e8040>"
      ]
     },
     "execution_count": 36,
     "metadata": {},
     "output_type": "execute_result"
    },
    {
     "data": {
      "image/png": "[encoded data removed]",
      "text/plain": [
       "<Figure size 1440x576 with 1 Axes>"
      ]
     },
     "metadata": {
      "needs_background": "light"
     },
     "output_type": "display_data"
    }
   ],
   "source": [
    "rank_feature_importances_ = model.feature_importances_\n",
    "\n",
    "train_feature_importances = pd.DataFrame(rank_feature_importances_, train_data.columns)\n",
    "train_feature_importances.reset_index(inplace=True)\n",
    "train_feature_importances = train_feature_importances.rename(columns={'index': 'name', 0: 'rank'}) \n",
    "train_feature_importances.sort_values(by=\"rank\", inplace=True, ascending = False)\n",
    "\n",
    "plt.figure(figsize = ([20,8]))\n",
    "sns.barplot(train_feature_importances['rank'], train_feature_importances['name'])"
   ]
  },
  {
   "cell_type": "code",
   "execution_count": 37,
   "metadata": {},
   "outputs": [
    {
     "data": {
      "text/plain": [
       "28                           fraction_1\n",
       "6                                   AGE\n",
       "33                external_scoring_prod\n",
       "13            EXTERNAL_SCORING_RATING_3\n",
       "31                                  N_3\n",
       "36          EXTERNAL_SCORING_RATING_max\n",
       "12            EXTERNAL_SCORING_RATING_2\n",
       "8                           OWN_CAR_AGE\n",
       "37         EXTERNAL_SCORING_RATING_mean\n",
       "5                     REGION_POPULATION\n",
       "38    EXTERNAL_SCORING_RATING_nanmedian\n",
       "0                    APPLICATION_NUMBER\n",
       "27                    fraction_salary_2\n",
       "11            EXTERNAL_SCORING_RATING_1\n",
       "4                        AMOUNT_ANNUITY\n",
       "7                      DAYS_ON_LAST_JOB\n",
       "16           AMT_REQ_CREDIT_BUREAU_YEAR\n",
       "35          EXTERNAL_SCORING_RATING_min\n",
       "2                          TOTAL_SALARY\n",
       "34            external_scoring_weighted\n",
       "25                      fraction_salary\n",
       "39          EXTERNAL_SCORING_RATING_var\n",
       "21                     Higher education\n",
       "32                   bki_requests_count\n",
       "26                    fraction_salary_1\n",
       "23                              Married\n",
       "3                         AMOUNT_CREDIT\n",
       "15            AMT_REQ_CREDIT_BUREAU_QRT\n",
       "30                                  N_2\n",
       "20                                    M\n",
       "19                                    F\n",
       "17                                 Cash\n",
       "22        Secondary / secondary special\n",
       "9                            FLAG_PHONE\n",
       "18                          Credit Card\n",
       "29                                  N_1\n",
       "14            AMT_REQ_CREDIT_BUREAU_MON\n",
       "1                             CHILDRENS\n",
       "10                          FAMILY_SIZE\n",
       "24                 Single / not married\n",
       "Name: name, dtype: object"
      ]
     },
     "execution_count": 37,
     "metadata": {},
     "output_type": "execute_result"
    }
   ],
   "source": [
    "train_feature_importances['name']"
   ]
  },
  {
   "cell_type": "code",
   "execution_count": null,
   "metadata": {},
   "outputs": [],
   "source": []
  },
  {
   "cell_type": "code",
   "execution_count": null,
   "metadata": {},
   "outputs": [],
   "source": []
  },
  {
   "cell_type": "code",
   "execution_count": 38,
   "metadata": {},
   "outputs": [],
   "source": [
    "#x_train, x_valid, y_train, y_valid = train_test_split(train_data, train_target, test_size=0.30)"
   ]
  },
  {
   "cell_type": "code",
   "execution_count": 39,
   "metadata": {},
   "outputs": [],
   "source": [
    "params = {\n",
    "    \"booster\": \"gbtree\",\n",
    "    \"objective\": \"binary:logistic\",\n",
    "    \"eval_metric\": \"auc\",\n",
    "    \"learning_rate\": 0.1,\n",
    "    \"n_estimators\": 600,\n",
    "    \"reg_lambda\": 100,\n",
    "    \"max_depth\": 7,\n",
    "    \"gamma\": 10,\n",
    "    \"nthread\": 6,\n",
    "    \"seed\": 27,\n",
    "    'colsample_bytree': 0.555,\n",
    "    'min_child_weights': 369\n",
    "}"
   ]
  },
  {
   "cell_type": "code",
   "execution_count": 40,
   "metadata": {},
   "outputs": [],
   "source": [
    "dtrain = xgb.DMatrix(\n",
    "    data=x_train, label=y_train\n",
    ")\n",
    "dvalid = xgb.DMatrix(\n",
    "    data=x_valid, label=y_valid\n",
    ")"
   ]
  },
  {
   "cell_type": "code",
   "execution_count": 41,
   "metadata": {},
   "outputs": [
    {
     "name": "stdout",
     "output_type": "stream",
     "text": [
      "[07:08:40] WARNING: ../src/learner.cc:516: \n",
      "Parameters: { min_child_weights, n_estimators } might not be used.\n",
      "\n",
      "  This may not be accurate due to some parameters are only used in language bindings but\n",
      "  passed down to XGBoost core.  Or some parameters are not used but slip through this\n",
      "  verification. Please open an issue if you find above cases.\n",
      "\n",
      "\n",
      "[0]\ttrain-auc:0.70115\tvalid-auc:0.69463\n",
      "Multiple eval metrics have been passed: 'valid-auc' will be used for early stopping.\n",
      "\n",
      "Will train until valid-auc hasn't improved in 50 rounds.\n",
      "[10]\ttrain-auc:0.72767\tvalid-auc:0.71809\n",
      "[20]\ttrain-auc:0.74037\tvalid-auc:0.72924\n",
      "[30]\ttrain-auc:0.75094\tvalid-auc:0.73870\n",
      "[40]\ttrain-auc:0.75897\tvalid-auc:0.74579\n",
      "[50]\ttrain-auc:0.76473\tvalid-auc:0.75048\n",
      "[60]\ttrain-auc:0.76809\tvalid-auc:0.75307\n",
      "[70]\ttrain-auc:0.77228\tvalid-auc:0.75655\n",
      "[80]\ttrain-auc:0.77572\tvalid-auc:0.75934\n",
      "[90]\ttrain-auc:0.77865\tvalid-auc:0.76164\n",
      "[100]\ttrain-auc:0.78136\tvalid-auc:0.76363\n",
      "[110]\ttrain-auc:0.78434\tvalid-auc:0.76573\n",
      "[120]\ttrain-auc:0.78670\tvalid-auc:0.76752\n",
      "[130]\ttrain-auc:0.78790\tvalid-auc:0.76837\n",
      "[140]\ttrain-auc:0.78969\tvalid-auc:0.76979\n",
      "[150]\ttrain-auc:0.79124\tvalid-auc:0.77097\n",
      "[160]\ttrain-auc:0.79280\tvalid-auc:0.77236\n",
      "[170]\ttrain-auc:0.79443\tvalid-auc:0.77357\n",
      "[180]\ttrain-auc:0.79640\tvalid-auc:0.77503\n",
      "[190]\ttrain-auc:0.79927\tvalid-auc:0.77690\n",
      "[200]\ttrain-auc:0.80105\tvalid-auc:0.77824\n",
      "[210]\ttrain-auc:0.80303\tvalid-auc:0.77958\n",
      "[220]\ttrain-auc:0.80437\tvalid-auc:0.78063\n",
      "[230]\ttrain-auc:0.80627\tvalid-auc:0.78220\n",
      "[240]\ttrain-auc:0.80800\tvalid-auc:0.78341\n",
      "[250]\ttrain-auc:0.81007\tvalid-auc:0.78507\n",
      "[260]\ttrain-auc:0.81115\tvalid-auc:0.78581\n",
      "[270]\ttrain-auc:0.81236\tvalid-auc:0.78672\n",
      "[280]\ttrain-auc:0.81338\tvalid-auc:0.78731\n",
      "[290]\ttrain-auc:0.81491\tvalid-auc:0.78851\n",
      "[300]\ttrain-auc:0.81603\tvalid-auc:0.78927\n",
      "[310]\ttrain-auc:0.81636\tvalid-auc:0.78953\n",
      "[320]\ttrain-auc:0.81664\tvalid-auc:0.78980\n",
      "[330]\ttrain-auc:0.81713\tvalid-auc:0.79016\n",
      "[340]\ttrain-auc:0.81732\tvalid-auc:0.79035\n",
      "[350]\ttrain-auc:0.81766\tvalid-auc:0.79068\n",
      "[360]\ttrain-auc:0.81840\tvalid-auc:0.79117\n",
      "[370]\ttrain-auc:0.81971\tvalid-auc:0.79212\n",
      "[380]\ttrain-auc:0.82026\tvalid-auc:0.79254\n",
      "[390]\ttrain-auc:0.82053\tvalid-auc:0.79269\n",
      "[400]\ttrain-auc:0.82101\tvalid-auc:0.79316\n",
      "[410]\ttrain-auc:0.82110\tvalid-auc:0.79323\n",
      "[420]\ttrain-auc:0.82154\tvalid-auc:0.79354\n",
      "[430]\ttrain-auc:0.82197\tvalid-auc:0.79386\n",
      "[440]\ttrain-auc:0.82303\tvalid-auc:0.79463\n",
      "[450]\ttrain-auc:0.82340\tvalid-auc:0.79489\n",
      "[460]\ttrain-auc:0.82359\tvalid-auc:0.79505\n",
      "[470]\ttrain-auc:0.82375\tvalid-auc:0.79517\n",
      "[480]\ttrain-auc:0.82378\tvalid-auc:0.79520\n",
      "[490]\ttrain-auc:0.82410\tvalid-auc:0.79544\n",
      "[500]\ttrain-auc:0.82431\tvalid-auc:0.79560\n",
      "[510]\ttrain-auc:0.82434\tvalid-auc:0.79563\n",
      "[520]\ttrain-auc:0.82478\tvalid-auc:0.79600\n",
      "[530]\ttrain-auc:0.82488\tvalid-auc:0.79606\n",
      "[540]\ttrain-auc:0.82585\tvalid-auc:0.79685\n",
      "[550]\ttrain-auc:0.82606\tvalid-auc:0.79709\n",
      "[560]\ttrain-auc:0.82614\tvalid-auc:0.79714\n",
      "[570]\ttrain-auc:0.82651\tvalid-auc:0.79733\n",
      "[580]\ttrain-auc:0.82654\tvalid-auc:0.79736\n",
      "[590]\ttrain-auc:0.82654\tvalid-auc:0.79736\n",
      "[599]\ttrain-auc:0.82713\tvalid-auc:0.79793\n"
     ]
    }
   ],
   "source": [
    "model_xgb = xgb.train(\n",
    "    params=params,\n",
    "    dtrain=dtrain,\n",
    "    num_boost_round=600,\n",
    "    evals=[(dtrain, \"train\"), (dvalid, \"valid\")],\n",
    "    early_stopping_rounds=50,\n",
    "    verbose_eval=10,\n",
    ")"
   ]
  },
  {
   "cell_type": "code",
   "execution_count": 42,
   "metadata": {},
   "outputs": [
    {
     "name": "stdout",
     "output_type": "stream",
     "text": [
      "Train-score: 0.827, Valid-score: 0.798)\n"
     ]
    }
   ],
   "source": [
    "train_score = roc_auc_score(y_train, model_xgb.predict(dtrain))\n",
    "valid_score = roc_auc_score(y_valid, model_xgb.predict(dvalid))\n",
    "\n",
    "print(f\"Train-score: {round(train_score, 3)}, Valid-score: {round(valid_score, 3)})\")\n",
    "#Train-score: 0.808, Valid-score: 0.787)"
   ]
  },
  {
   "cell_type": "code",
   "execution_count": null,
   "metadata": {},
   "outputs": [],
   "source": []
  },
  {
   "cell_type": "code",
   "execution_count": 43,
   "metadata": {},
   "outputs": [
    {
     "data": {
      "text/html": [
       "<div>\n",
       "<style scoped>\n",
       "    .dataframe tbody tr th:only-of-type {\n",
       "        vertical-align: middle;\n",
       "    }\n",
       "\n",
       "    .dataframe tbody tr th {\n",
       "        vertical-align: top;\n",
       "    }\n",
       "\n",
       "    .dataframe thead th {\n",
       "        text-align: right;\n",
       "    }\n",
       "</style>\n",
       "<table border=\"1\" class=\"dataframe\">\n",
       "  <thead>\n",
       "    <tr style=\"text-align: right;\">\n",
       "      <th></th>\n",
       "      <th>APPLICATION_NUMBER</th>\n",
       "      <th>TARGET</th>\n",
       "    </tr>\n",
       "  </thead>\n",
       "  <tbody>\n",
       "    <tr>\n",
       "      <th>0</th>\n",
       "      <td>123724268</td>\n",
       "      <td>0.189404</td>\n",
       "    </tr>\n",
       "    <tr>\n",
       "      <th>1</th>\n",
       "      <td>123456549</td>\n",
       "      <td>0.771303</td>\n",
       "    </tr>\n",
       "    <tr>\n",
       "      <th>2</th>\n",
       "      <td>123428178</td>\n",
       "      <td>0.436168</td>\n",
       "    </tr>\n",
       "    <tr>\n",
       "      <th>3</th>\n",
       "      <td>123619984</td>\n",
       "      <td>0.361728</td>\n",
       "    </tr>\n",
       "    <tr>\n",
       "      <th>4</th>\n",
       "      <td>123671104</td>\n",
       "      <td>0.065313</td>\n",
       "    </tr>\n",
       "  </tbody>\n",
       "</table>\n",
       "</div>"
      ],
      "text/plain": [
       "   APPLICATION_NUMBER    TARGET\n",
       "0           123724268  0.189404\n",
       "1           123456549  0.771303\n",
       "2           123428178  0.436168\n",
       "3           123619984  0.361728\n",
       "4           123671104  0.065313"
      ]
     },
     "execution_count": 43,
     "metadata": {},
     "output_type": "execute_result"
    }
   ],
   "source": [
    "y_pred_test_x = model_xgb.predict(xgb.DMatrix(data=test_data))\n",
    "result_test_x = pd.DataFrame({\n",
    "    \"APPLICATION_NUMBER\": test_data['APPLICATION_NUMBER'],\n",
    "    \"TARGET\": y_pred_test_x.flatten(),})\n",
    "result_test_x.head()"
   ]
  },
  {
   "cell_type": "code",
   "execution_count": 44,
   "metadata": {},
   "outputs": [],
   "source": [
    "#filename = 'Vodorezova.csv'\n",
    "#result_test_x.to_csv(filename, index=None)"
   ]
  },
  {
   "cell_type": "code",
   "execution_count": null,
   "metadata": {},
   "outputs": [],
   "source": []
  },
  {
   "cell_type": "code",
   "execution_count": null,
   "metadata": {},
   "outputs": [],
   "source": []
  },
  {
   "cell_type": "code",
   "execution_count": 45,
   "metadata": {},
   "outputs": [],
   "source": [
    "params = {\n",
    "    \"boosting_type\": \"gbdt\",\n",
    "    \"objective\": \"binary\",\n",
    "    \"metric\": \"auc\",\n",
    "    \"learning_rate\": 0.01,\n",
    "    \"n_estimators\": 600,\n",
    "    \"n_jobs\": 6,\n",
    "    \"seed\": 27,\n",
    "}"
   ]
  },
  {
   "cell_type": "code",
   "execution_count": 46,
   "metadata": {},
   "outputs": [
    {
     "name": "stdout",
     "output_type": "stream",
     "text": [
      "[LightGBM] [Warning] Find whitespaces in feature_names, replace with underlines\n",
      "[LightGBM] [Info] Number of positive: 37440, number of negative: 70764\n",
      "[LightGBM] [Warning] Auto-choosing row-wise multi-threading, the overhead of testing was 0.015720 seconds.\n",
      "You can set `force_row_wise=true` to remove the overhead.\n",
      "And if memory is not enough, you can set `force_col_wise=true`.\n",
      "[LightGBM] [Info] Total Bins 5681\n",
      "[LightGBM] [Info] Number of data points in the train set: 108204, number of used features: 40\n",
      "[LightGBM] [Warning] Find whitespaces in feature_names, replace with underlines\n",
      "[LightGBM] [Info] [binary:BoostFromScore]: pavg=0.346013 -> initscore=-0.636611\n",
      "[LightGBM] [Info] Start training from score -0.636611\n",
      "Training until validation scores don't improve for 50 rounds\n",
      "[10]\ttraining's auc: 0.71345\tvalid_1's auc: 0.707428\n",
      "[20]\ttraining's auc: 0.716829\tvalid_1's auc: 0.710847\n",
      "[30]\ttraining's auc: 0.719148\tvalid_1's auc: 0.713007\n",
      "[40]\ttraining's auc: 0.720508\tvalid_1's auc: 0.714195\n",
      "[50]\ttraining's auc: 0.722039\tvalid_1's auc: 0.715652\n",
      "[60]\ttraining's auc: 0.723415\tvalid_1's auc: 0.716554\n",
      "[70]\ttraining's auc: 0.724907\tvalid_1's auc: 0.718236\n",
      "[80]\ttraining's auc: 0.726573\tvalid_1's auc: 0.719346\n",
      "[90]\ttraining's auc: 0.727708\tvalid_1's auc: 0.719965\n",
      "[100]\ttraining's auc: 0.729203\tvalid_1's auc: 0.72105\n",
      "[110]\ttraining's auc: 0.730343\tvalid_1's auc: 0.721995\n",
      "[120]\ttraining's auc: 0.731404\tvalid_1's auc: 0.723024\n",
      "[130]\ttraining's auc: 0.732987\tvalid_1's auc: 0.724291\n",
      "[140]\ttraining's auc: 0.734642\tvalid_1's auc: 0.725756\n",
      "[150]\ttraining's auc: 0.736199\tvalid_1's auc: 0.726975\n",
      "[160]\ttraining's auc: 0.737537\tvalid_1's auc: 0.728306\n",
      "[170]\ttraining's auc: 0.738826\tvalid_1's auc: 0.72936\n",
      "[180]\ttraining's auc: 0.740165\tvalid_1's auc: 0.730623\n",
      "[190]\ttraining's auc: 0.741601\tvalid_1's auc: 0.731982\n",
      "[200]\ttraining's auc: 0.742711\tvalid_1's auc: 0.732685\n",
      "[210]\ttraining's auc: 0.743787\tvalid_1's auc: 0.733525\n",
      "[220]\ttraining's auc: 0.744926\tvalid_1's auc: 0.734696\n",
      "[230]\ttraining's auc: 0.746337\tvalid_1's auc: 0.735735\n",
      "[240]\ttraining's auc: 0.747308\tvalid_1's auc: 0.73656\n",
      "[250]\ttraining's auc: 0.74876\tvalid_1's auc: 0.737607\n",
      "[260]\ttraining's auc: 0.750057\tvalid_1's auc: 0.738732\n",
      "[270]\ttraining's auc: 0.751244\tvalid_1's auc: 0.739711\n",
      "[280]\ttraining's auc: 0.752411\tvalid_1's auc: 0.740521\n",
      "[290]\ttraining's auc: 0.753546\tvalid_1's auc: 0.741454\n",
      "[300]\ttraining's auc: 0.754594\tvalid_1's auc: 0.742397\n",
      "[310]\ttraining's auc: 0.755645\tvalid_1's auc: 0.743241\n",
      "[320]\ttraining's auc: 0.756623\tvalid_1's auc: 0.74396\n",
      "[330]\ttraining's auc: 0.757631\tvalid_1's auc: 0.744834\n",
      "[340]\ttraining's auc: 0.758669\tvalid_1's auc: 0.745719\n",
      "[350]\ttraining's auc: 0.759676\tvalid_1's auc: 0.746423\n",
      "[360]\ttraining's auc: 0.760593\tvalid_1's auc: 0.747272\n",
      "[370]\ttraining's auc: 0.761466\tvalid_1's auc: 0.747843\n",
      "[380]\ttraining's auc: 0.762427\tvalid_1's auc: 0.748462\n",
      "[390]\ttraining's auc: 0.763214\tvalid_1's auc: 0.749068\n",
      "[400]\ttraining's auc: 0.763998\tvalid_1's auc: 0.749735\n",
      "[410]\ttraining's auc: 0.764838\tvalid_1's auc: 0.750376\n",
      "[420]\ttraining's auc: 0.765698\tvalid_1's auc: 0.751179\n",
      "[430]\ttraining's auc: 0.766597\tvalid_1's auc: 0.75193\n",
      "[440]\ttraining's auc: 0.767604\tvalid_1's auc: 0.75265\n",
      "[450]\ttraining's auc: 0.768496\tvalid_1's auc: 0.753318\n",
      "[460]\ttraining's auc: 0.769434\tvalid_1's auc: 0.75415\n",
      "[470]\ttraining's auc: 0.770267\tvalid_1's auc: 0.754878\n",
      "[480]\ttraining's auc: 0.771006\tvalid_1's auc: 0.755428\n",
      "[490]\ttraining's auc: 0.771997\tvalid_1's auc: 0.756234\n",
      "[500]\ttraining's auc: 0.772755\tvalid_1's auc: 0.756817\n",
      "[510]\ttraining's auc: 0.773602\tvalid_1's auc: 0.75747\n",
      "[520]\ttraining's auc: 0.774381\tvalid_1's auc: 0.758032\n",
      "[530]\ttraining's auc: 0.775237\tvalid_1's auc: 0.758646\n",
      "[540]\ttraining's auc: 0.776001\tvalid_1's auc: 0.759274\n",
      "[550]\ttraining's auc: 0.77705\tvalid_1's auc: 0.760014\n",
      "[560]\ttraining's auc: 0.777965\tvalid_1's auc: 0.760591\n",
      "[570]\ttraining's auc: 0.778747\tvalid_1's auc: 0.761242\n",
      "[580]\ttraining's auc: 0.779497\tvalid_1's auc: 0.761899\n",
      "[590]\ttraining's auc: 0.780384\tvalid_1's auc: 0.762552\n",
      "[600]\ttraining's auc: 0.781136\tvalid_1's auc: 0.763041\n",
      "Did not meet early stopping. Best iteration is:\n",
      "[600]\ttraining's auc: 0.781136\tvalid_1's auc: 0.763041\n"
     ]
    }
   ],
   "source": [
    "dtrain = lgbm.Dataset(\n",
    "    data=x_train, label=y_train\n",
    ")\n",
    "dvalid = lgbm.Dataset(\n",
    "    data=x_valid, label=y_valid\n",
    ")\n",
    "\n",
    "model_lgbm = lgbm.train(\n",
    "    params=params,\n",
    "    train_set=dtrain,\n",
    "    num_boost_round=600,\n",
    "    valid_sets=[dtrain, dvalid],\n",
    "    categorical_feature=\"auto\",\n",
    "    early_stopping_rounds=50,\n",
    "    verbose_eval=10\n",
    ")"
   ]
  },
  {
   "cell_type": "code",
   "execution_count": 47,
   "metadata": {},
   "outputs": [
    {
     "name": "stdout",
     "output_type": "stream",
     "text": [
      "Train-score: 0.781, Valid-score: 0.763)\n"
     ]
    }
   ],
   "source": [
    "train_score = roc_auc_score(y_train, model_lgbm.predict(x_train))\n",
    "valid_score = roc_auc_score(y_valid, model_lgbm.predict(x_valid))\n",
    "\n",
    "print(f\"Train-score: {round(train_score, 3)}, Valid-score: {round(valid_score, 3)})\")\n",
    "\n",
    "#Train-score: 0.78, Valid-score: 0.768)"
   ]
  },
  {
   "cell_type": "code",
   "execution_count": null,
   "metadata": {},
   "outputs": [],
   "source": []
  },
  {
   "cell_type": "code",
   "execution_count": 48,
   "metadata": {},
   "outputs": [
    {
     "data": {
      "text/html": [
       "<div>\n",
       "<style scoped>\n",
       "    .dataframe tbody tr th:only-of-type {\n",
       "        vertical-align: middle;\n",
       "    }\n",
       "\n",
       "    .dataframe tbody tr th {\n",
       "        vertical-align: top;\n",
       "    }\n",
       "\n",
       "    .dataframe thead th {\n",
       "        text-align: right;\n",
       "    }\n",
       "</style>\n",
       "<table border=\"1\" class=\"dataframe\">\n",
       "  <thead>\n",
       "    <tr style=\"text-align: right;\">\n",
       "      <th></th>\n",
       "      <th>APPLICATION_NUMBER</th>\n",
       "      <th>TARGET</th>\n",
       "    </tr>\n",
       "  </thead>\n",
       "  <tbody>\n",
       "    <tr>\n",
       "      <th>0</th>\n",
       "      <td>123724268</td>\n",
       "      <td>0.217630</td>\n",
       "    </tr>\n",
       "    <tr>\n",
       "      <th>1</th>\n",
       "      <td>123456549</td>\n",
       "      <td>0.661637</td>\n",
       "    </tr>\n",
       "    <tr>\n",
       "      <th>2</th>\n",
       "      <td>123428178</td>\n",
       "      <td>0.519602</td>\n",
       "    </tr>\n",
       "    <tr>\n",
       "      <th>3</th>\n",
       "      <td>123619984</td>\n",
       "      <td>0.357300</td>\n",
       "    </tr>\n",
       "    <tr>\n",
       "      <th>4</th>\n",
       "      <td>123671104</td>\n",
       "      <td>0.076492</td>\n",
       "    </tr>\n",
       "  </tbody>\n",
       "</table>\n",
       "</div>"
      ],
      "text/plain": [
       "   APPLICATION_NUMBER    TARGET\n",
       "0           123724268  0.217630\n",
       "1           123456549  0.661637\n",
       "2           123428178  0.519602\n",
       "3           123619984  0.357300\n",
       "4           123671104  0.076492"
      ]
     },
     "execution_count": 48,
     "metadata": {},
     "output_type": "execute_result"
    }
   ],
   "source": [
    "y_pred_test_l = model_lgbm.predict(test_data)\n",
    "result_test_l = pd.DataFrame({\n",
    "    \"APPLICATION_NUMBER\": test_data['APPLICATION_NUMBER'],\n",
    "    \"TARGET\": y_pred_test_l.flatten(),})\n",
    "result_test_l.head()"
   ]
  },
  {
   "cell_type": "code",
   "execution_count": 49,
   "metadata": {},
   "outputs": [],
   "source": [
    "#filename = 'Vodorezova.csv'\n",
    "#result_test_l.to_csv(filename, index=None)"
   ]
  },
  {
   "cell_type": "code",
   "execution_count": null,
   "metadata": {},
   "outputs": [],
   "source": []
  },
  {
   "cell_type": "code",
   "execution_count": null,
   "metadata": {},
   "outputs": [],
   "source": []
  },
  {
   "cell_type": "code",
   "execution_count": 50,
   "metadata": {},
   "outputs": [
    {
     "data": {
      "text/html": [
       "<div>\n",
       "<style scoped>\n",
       "    .dataframe tbody tr th:only-of-type {\n",
       "        vertical-align: middle;\n",
       "    }\n",
       "\n",
       "    .dataframe tbody tr th {\n",
       "        vertical-align: top;\n",
       "    }\n",
       "\n",
       "    .dataframe thead th {\n",
       "        text-align: right;\n",
       "    }\n",
       "</style>\n",
       "<table border=\"1\" class=\"dataframe\">\n",
       "  <thead>\n",
       "    <tr style=\"text-align: right;\">\n",
       "      <th></th>\n",
       "      <th>APPLICATION_NUMBER</th>\n",
       "      <th>TARGET</th>\n",
       "    </tr>\n",
       "  </thead>\n",
       "  <tbody>\n",
       "    <tr>\n",
       "      <th>0</th>\n",
       "      <td>123724268</td>\n",
       "      <td>0.241866</td>\n",
       "    </tr>\n",
       "    <tr>\n",
       "      <th>1</th>\n",
       "      <td>123456549</td>\n",
       "      <td>0.707791</td>\n",
       "    </tr>\n",
       "  </tbody>\n",
       "</table>\n",
       "</div>"
      ],
      "text/plain": [
       "   APPLICATION_NUMBER    TARGET\n",
       "0           123724268  0.241866\n",
       "1           123456549  0.707791"
      ]
     },
     "execution_count": 50,
     "metadata": {},
     "output_type": "execute_result"
    }
   ],
   "source": [
    "result_test.head(2)"
   ]
  },
  {
   "cell_type": "code",
   "execution_count": 51,
   "metadata": {},
   "outputs": [
    {
     "data": {
      "text/html": [
       "<div>\n",
       "<style scoped>\n",
       "    .dataframe tbody tr th:only-of-type {\n",
       "        vertical-align: middle;\n",
       "    }\n",
       "\n",
       "    .dataframe tbody tr th {\n",
       "        vertical-align: top;\n",
       "    }\n",
       "\n",
       "    .dataframe thead th {\n",
       "        text-align: right;\n",
       "    }\n",
       "</style>\n",
       "<table border=\"1\" class=\"dataframe\">\n",
       "  <thead>\n",
       "    <tr style=\"text-align: right;\">\n",
       "      <th></th>\n",
       "      <th>APPLICATION_NUMBER</th>\n",
       "      <th>TARGET</th>\n",
       "    </tr>\n",
       "  </thead>\n",
       "  <tbody>\n",
       "    <tr>\n",
       "      <th>0</th>\n",
       "      <td>123724268</td>\n",
       "      <td>0.189404</td>\n",
       "    </tr>\n",
       "    <tr>\n",
       "      <th>1</th>\n",
       "      <td>123456549</td>\n",
       "      <td>0.771303</td>\n",
       "    </tr>\n",
       "  </tbody>\n",
       "</table>\n",
       "</div>"
      ],
      "text/plain": [
       "   APPLICATION_NUMBER    TARGET\n",
       "0           123724268  0.189404\n",
       "1           123456549  0.771303"
      ]
     },
     "execution_count": 51,
     "metadata": {},
     "output_type": "execute_result"
    }
   ],
   "source": [
    "result_test_x.head(2)"
   ]
  },
  {
   "cell_type": "code",
   "execution_count": 52,
   "metadata": {},
   "outputs": [
    {
     "data": {
      "text/html": [
       "<div>\n",
       "<style scoped>\n",
       "    .dataframe tbody tr th:only-of-type {\n",
       "        vertical-align: middle;\n",
       "    }\n",
       "\n",
       "    .dataframe tbody tr th {\n",
       "        vertical-align: top;\n",
       "    }\n",
       "\n",
       "    .dataframe thead th {\n",
       "        text-align: right;\n",
       "    }\n",
       "</style>\n",
       "<table border=\"1\" class=\"dataframe\">\n",
       "  <thead>\n",
       "    <tr style=\"text-align: right;\">\n",
       "      <th></th>\n",
       "      <th>APPLICATION_NUMBER</th>\n",
       "      <th>TARGET</th>\n",
       "    </tr>\n",
       "  </thead>\n",
       "  <tbody>\n",
       "    <tr>\n",
       "      <th>0</th>\n",
       "      <td>123724268</td>\n",
       "      <td>0.217630</td>\n",
       "    </tr>\n",
       "    <tr>\n",
       "      <th>1</th>\n",
       "      <td>123456549</td>\n",
       "      <td>0.661637</td>\n",
       "    </tr>\n",
       "  </tbody>\n",
       "</table>\n",
       "</div>"
      ],
      "text/plain": [
       "   APPLICATION_NUMBER    TARGET\n",
       "0           123724268  0.217630\n",
       "1           123456549  0.661637"
      ]
     },
     "execution_count": 52,
     "metadata": {},
     "output_type": "execute_result"
    }
   ],
   "source": [
    "result_test_l.head(2)"
   ]
  },
  {
   "cell_type": "code",
   "execution_count": 53,
   "metadata": {},
   "outputs": [
    {
     "data": {
      "text/html": [
       "<div>\n",
       "<style scoped>\n",
       "    .dataframe tbody tr th:only-of-type {\n",
       "        vertical-align: middle;\n",
       "    }\n",
       "\n",
       "    .dataframe tbody tr th {\n",
       "        vertical-align: top;\n",
       "    }\n",
       "\n",
       "    .dataframe thead th {\n",
       "        text-align: right;\n",
       "    }\n",
       "</style>\n",
       "<table border=\"1\" class=\"dataframe\">\n",
       "  <thead>\n",
       "    <tr style=\"text-align: right;\">\n",
       "      <th></th>\n",
       "      <th>APPLICATION_NUMBER</th>\n",
       "      <th>TARGET</th>\n",
       "    </tr>\n",
       "  </thead>\n",
       "  <tbody>\n",
       "    <tr>\n",
       "      <th>0</th>\n",
       "      <td>123724268</td>\n",
       "      <td>0.216300</td>\n",
       "    </tr>\n",
       "    <tr>\n",
       "      <th>1</th>\n",
       "      <td>123456549</td>\n",
       "      <td>0.713577</td>\n",
       "    </tr>\n",
       "  </tbody>\n",
       "</table>\n",
       "</div>"
      ],
      "text/plain": [
       "   APPLICATION_NUMBER    TARGET\n",
       "0           123724268  0.216300\n",
       "1           123456549  0.713577"
      ]
     },
     "execution_count": 53,
     "metadata": {},
     "output_type": "execute_result"
    }
   ],
   "source": [
    "res = result_test.copy()\n",
    "res['TARGET'] = (result_test['TARGET'] + result_test_x['TARGET'] + result_test_l['TARGET']) / 3\n",
    "res.head(2)"
   ]
  },
  {
   "cell_type": "code",
   "execution_count": null,
   "metadata": {},
   "outputs": [],
   "source": []
  },
  {
   "cell_type": "code",
   "execution_count": 54,
   "metadata": {},
   "outputs": [],
   "source": [
    "filename = 'Vodorezova.csv'\n",
    "res.to_csv(filename, index=None)\n",
    "# 0.73206"
   ]
  },
  {
   "cell_type": "code",
   "execution_count": null,
   "metadata": {},
   "outputs": [],
   "source": []
  },
  {
   "cell_type": "code",
   "execution_count": null,
   "metadata": {},
   "outputs": [],
   "source": [
    "stop stop"
   ]
  },
  {
   "cell_type": "code",
   "execution_count": null,
   "metadata": {},
   "outputs": [],
   "source": []
  },
  {
   "cell_type": "code",
   "execution_count": 55,
   "metadata": {},
   "outputs": [],
   "source": [
    "rfc = RandomForestClassifier(n_estimators=600, max_depth = 9) "
   ]
  },
  {
   "cell_type": "code",
   "execution_count": 56,
   "metadata": {},
   "outputs": [
    {
     "ename": "ValueError",
     "evalue": "Input contains NaN, infinity or a value too large for dtype('float32').",
     "output_type": "error",
     "traceback": [
      "\u001b[0;31m---------------------------------------------------------------------------\u001b[0m",
      "\u001b[0;31mValueError\u001b[0m                                Traceback (most recent call last)",
      "\u001b[0;32m<ipython-input-56-dbc71f6d84cd>\u001b[0m in \u001b[0;36m<module>\u001b[0;34m\u001b[0m\n\u001b[0;32m----> 1\u001b[0;31m \u001b[0mrfc\u001b[0m\u001b[0;34m.\u001b[0m\u001b[0mfit\u001b[0m\u001b[0;34m(\u001b[0m\u001b[0mx_train\u001b[0m\u001b[0;34m,\u001b[0m \u001b[0my_train\u001b[0m\u001b[0;34m)\u001b[0m\u001b[0;34m\u001b[0m\u001b[0;34m\u001b[0m\u001b[0m\n\u001b[0m",
      "\u001b[0;32m~/.local/lib/python3.8/site-packages/sklearn/ensemble/_forest.py\u001b[0m in \u001b[0;36mfit\u001b[0;34m(self, X, y, sample_weight)\u001b[0m\n\u001b[1;32m    301\u001b[0m                 \u001b[0;34m\"sparse multilabel-indicator for y is not supported.\"\u001b[0m\u001b[0;34m\u001b[0m\u001b[0;34m\u001b[0m\u001b[0m\n\u001b[1;32m    302\u001b[0m             )\n\u001b[0;32m--> 303\u001b[0;31m         X, y = self._validate_data(X, y, multi_output=True,\n\u001b[0m\u001b[1;32m    304\u001b[0m                                    accept_sparse=\"csc\", dtype=DTYPE)\n\u001b[1;32m    305\u001b[0m         \u001b[0;32mif\u001b[0m \u001b[0msample_weight\u001b[0m \u001b[0;32mis\u001b[0m \u001b[0;32mnot\u001b[0m \u001b[0;32mNone\u001b[0m\u001b[0;34m:\u001b[0m\u001b[0;34m\u001b[0m\u001b[0;34m\u001b[0m\u001b[0m\n",
      "\u001b[0;32m~/.local/lib/python3.8/site-packages/sklearn/base.py\u001b[0m in \u001b[0;36m_validate_data\u001b[0;34m(self, X, y, reset, validate_separately, **check_params)\u001b[0m\n\u001b[1;32m    430\u001b[0m                 \u001b[0my\u001b[0m \u001b[0;34m=\u001b[0m \u001b[0mcheck_array\u001b[0m\u001b[0;34m(\u001b[0m\u001b[0my\u001b[0m\u001b[0;34m,\u001b[0m \u001b[0;34m**\u001b[0m\u001b[0mcheck_y_params\u001b[0m\u001b[0;34m)\u001b[0m\u001b[0;34m\u001b[0m\u001b[0;34m\u001b[0m\u001b[0m\n\u001b[1;32m    431\u001b[0m             \u001b[0;32melse\u001b[0m\u001b[0;34m:\u001b[0m\u001b[0;34m\u001b[0m\u001b[0;34m\u001b[0m\u001b[0m\n\u001b[0;32m--> 432\u001b[0;31m                 \u001b[0mX\u001b[0m\u001b[0;34m,\u001b[0m \u001b[0my\u001b[0m \u001b[0;34m=\u001b[0m \u001b[0mcheck_X_y\u001b[0m\u001b[0;34m(\u001b[0m\u001b[0mX\u001b[0m\u001b[0;34m,\u001b[0m \u001b[0my\u001b[0m\u001b[0;34m,\u001b[0m \u001b[0;34m**\u001b[0m\u001b[0mcheck_params\u001b[0m\u001b[0;34m)\u001b[0m\u001b[0;34m\u001b[0m\u001b[0;34m\u001b[0m\u001b[0m\n\u001b[0m\u001b[1;32m    433\u001b[0m             \u001b[0mout\u001b[0m \u001b[0;34m=\u001b[0m \u001b[0mX\u001b[0m\u001b[0;34m,\u001b[0m \u001b[0my\u001b[0m\u001b[0;34m\u001b[0m\u001b[0;34m\u001b[0m\u001b[0m\n\u001b[1;32m    434\u001b[0m \u001b[0;34m\u001b[0m\u001b[0m\n",
      "\u001b[0;32m~/.local/lib/python3.8/site-packages/sklearn/utils/validation.py\u001b[0m in \u001b[0;36minner_f\u001b[0;34m(*args, **kwargs)\u001b[0m\n\u001b[1;32m     71\u001b[0m                           FutureWarning)\n\u001b[1;32m     72\u001b[0m         \u001b[0mkwargs\u001b[0m\u001b[0;34m.\u001b[0m\u001b[0mupdate\u001b[0m\u001b[0;34m(\u001b[0m\u001b[0;34m{\u001b[0m\u001b[0mk\u001b[0m\u001b[0;34m:\u001b[0m \u001b[0marg\u001b[0m \u001b[0;32mfor\u001b[0m \u001b[0mk\u001b[0m\u001b[0;34m,\u001b[0m \u001b[0marg\u001b[0m \u001b[0;32min\u001b[0m \u001b[0mzip\u001b[0m\u001b[0;34m(\u001b[0m\u001b[0msig\u001b[0m\u001b[0;34m.\u001b[0m\u001b[0mparameters\u001b[0m\u001b[0;34m,\u001b[0m \u001b[0margs\u001b[0m\u001b[0;34m)\u001b[0m\u001b[0;34m}\u001b[0m\u001b[0;34m)\u001b[0m\u001b[0;34m\u001b[0m\u001b[0;34m\u001b[0m\u001b[0m\n\u001b[0;32m---> 73\u001b[0;31m         \u001b[0;32mreturn\u001b[0m \u001b[0mf\u001b[0m\u001b[0;34m(\u001b[0m\u001b[0;34m**\u001b[0m\u001b[0mkwargs\u001b[0m\u001b[0;34m)\u001b[0m\u001b[0;34m\u001b[0m\u001b[0;34m\u001b[0m\u001b[0m\n\u001b[0m\u001b[1;32m     74\u001b[0m     \u001b[0;32mreturn\u001b[0m \u001b[0minner_f\u001b[0m\u001b[0;34m\u001b[0m\u001b[0;34m\u001b[0m\u001b[0m\n\u001b[1;32m     75\u001b[0m \u001b[0;34m\u001b[0m\u001b[0m\n",
      "\u001b[0;32m~/.local/lib/python3.8/site-packages/sklearn/utils/validation.py\u001b[0m in \u001b[0;36mcheck_X_y\u001b[0;34m(X, y, accept_sparse, accept_large_sparse, dtype, order, copy, force_all_finite, ensure_2d, allow_nd, multi_output, ensure_min_samples, ensure_min_features, y_numeric, estimator)\u001b[0m\n\u001b[1;32m    794\u001b[0m         \u001b[0;32mraise\u001b[0m \u001b[0mValueError\u001b[0m\u001b[0;34m(\u001b[0m\u001b[0;34m\"y cannot be None\"\u001b[0m\u001b[0;34m)\u001b[0m\u001b[0;34m\u001b[0m\u001b[0;34m\u001b[0m\u001b[0m\n\u001b[1;32m    795\u001b[0m \u001b[0;34m\u001b[0m\u001b[0m\n\u001b[0;32m--> 796\u001b[0;31m     X = check_array(X, accept_sparse=accept_sparse,\n\u001b[0m\u001b[1;32m    797\u001b[0m                     \u001b[0maccept_large_sparse\u001b[0m\u001b[0;34m=\u001b[0m\u001b[0maccept_large_sparse\u001b[0m\u001b[0;34m,\u001b[0m\u001b[0;34m\u001b[0m\u001b[0;34m\u001b[0m\u001b[0m\n\u001b[1;32m    798\u001b[0m                     \u001b[0mdtype\u001b[0m\u001b[0;34m=\u001b[0m\u001b[0mdtype\u001b[0m\u001b[0;34m,\u001b[0m \u001b[0morder\u001b[0m\u001b[0;34m=\u001b[0m\u001b[0morder\u001b[0m\u001b[0;34m,\u001b[0m \u001b[0mcopy\u001b[0m\u001b[0;34m=\u001b[0m\u001b[0mcopy\u001b[0m\u001b[0;34m,\u001b[0m\u001b[0;34m\u001b[0m\u001b[0;34m\u001b[0m\u001b[0m\n",
      "\u001b[0;32m~/.local/lib/python3.8/site-packages/sklearn/utils/validation.py\u001b[0m in \u001b[0;36minner_f\u001b[0;34m(*args, **kwargs)\u001b[0m\n\u001b[1;32m     71\u001b[0m                           FutureWarning)\n\u001b[1;32m     72\u001b[0m         \u001b[0mkwargs\u001b[0m\u001b[0;34m.\u001b[0m\u001b[0mupdate\u001b[0m\u001b[0;34m(\u001b[0m\u001b[0;34m{\u001b[0m\u001b[0mk\u001b[0m\u001b[0;34m:\u001b[0m \u001b[0marg\u001b[0m \u001b[0;32mfor\u001b[0m \u001b[0mk\u001b[0m\u001b[0;34m,\u001b[0m \u001b[0marg\u001b[0m \u001b[0;32min\u001b[0m \u001b[0mzip\u001b[0m\u001b[0;34m(\u001b[0m\u001b[0msig\u001b[0m\u001b[0;34m.\u001b[0m\u001b[0mparameters\u001b[0m\u001b[0;34m,\u001b[0m \u001b[0margs\u001b[0m\u001b[0;34m)\u001b[0m\u001b[0;34m}\u001b[0m\u001b[0;34m)\u001b[0m\u001b[0;34m\u001b[0m\u001b[0;34m\u001b[0m\u001b[0m\n\u001b[0;32m---> 73\u001b[0;31m         \u001b[0;32mreturn\u001b[0m \u001b[0mf\u001b[0m\u001b[0;34m(\u001b[0m\u001b[0;34m**\u001b[0m\u001b[0mkwargs\u001b[0m\u001b[0;34m)\u001b[0m\u001b[0;34m\u001b[0m\u001b[0;34m\u001b[0m\u001b[0m\n\u001b[0m\u001b[1;32m     74\u001b[0m     \u001b[0;32mreturn\u001b[0m \u001b[0minner_f\u001b[0m\u001b[0;34m\u001b[0m\u001b[0;34m\u001b[0m\u001b[0m\n\u001b[1;32m     75\u001b[0m \u001b[0;34m\u001b[0m\u001b[0m\n",
      "\u001b[0;32m~/.local/lib/python3.8/site-packages/sklearn/utils/validation.py\u001b[0m in \u001b[0;36mcheck_array\u001b[0;34m(array, accept_sparse, accept_large_sparse, dtype, order, copy, force_all_finite, ensure_2d, allow_nd, ensure_min_samples, ensure_min_features, estimator)\u001b[0m\n\u001b[1;32m    643\u001b[0m \u001b[0;34m\u001b[0m\u001b[0m\n\u001b[1;32m    644\u001b[0m         \u001b[0;32mif\u001b[0m \u001b[0mforce_all_finite\u001b[0m\u001b[0;34m:\u001b[0m\u001b[0;34m\u001b[0m\u001b[0;34m\u001b[0m\u001b[0m\n\u001b[0;32m--> 645\u001b[0;31m             _assert_all_finite(array,\n\u001b[0m\u001b[1;32m    646\u001b[0m                                allow_nan=force_all_finite == 'allow-nan')\n\u001b[1;32m    647\u001b[0m \u001b[0;34m\u001b[0m\u001b[0m\n",
      "\u001b[0;32m~/.local/lib/python3.8/site-packages/sklearn/utils/validation.py\u001b[0m in \u001b[0;36m_assert_all_finite\u001b[0;34m(X, allow_nan, msg_dtype)\u001b[0m\n\u001b[1;32m     95\u001b[0m                 not allow_nan and not np.isfinite(X).all()):\n\u001b[1;32m     96\u001b[0m             \u001b[0mtype_err\u001b[0m \u001b[0;34m=\u001b[0m \u001b[0;34m'infinity'\u001b[0m \u001b[0;32mif\u001b[0m \u001b[0mallow_nan\u001b[0m \u001b[0;32melse\u001b[0m \u001b[0;34m'NaN, infinity'\u001b[0m\u001b[0;34m\u001b[0m\u001b[0;34m\u001b[0m\u001b[0m\n\u001b[0;32m---> 97\u001b[0;31m             raise ValueError(\n\u001b[0m\u001b[1;32m     98\u001b[0m                     \u001b[0mmsg_err\u001b[0m\u001b[0;34m.\u001b[0m\u001b[0mformat\u001b[0m\u001b[0;34m\u001b[0m\u001b[0;34m\u001b[0m\u001b[0m\n\u001b[1;32m     99\u001b[0m                     (type_err,\n",
      "\u001b[0;31mValueError\u001b[0m: Input contains NaN, infinity or a value too large for dtype('float32')."
     ]
    }
   ],
   "source": [
    "rfc.fit(x_train, y_train)  "
   ]
  },
  {
   "cell_type": "code",
   "execution_count": null,
   "metadata": {},
   "outputs": [],
   "source": [
    "train_score = roc_auc_score(y_train, rfc.predict_proba(x_train)[:,1])\n",
    "valid_score = roc_auc_score(y_valid, rfc.predict_proba(x_valid)[:,1])\n",
    "\n",
    "print(f\"Train-score: {round(train_score, 3)}, Valid-score: {round(valid_score, 3)})\")\n",
    "\n",
    "#Train-score: 0.745, Valid-score: 0.733)   500 7\n",
    "#Train-score: 0.789, Valid-score: 0.768)   600 9"
   ]
  },
  {
   "cell_type": "code",
   "execution_count": null,
   "metadata": {},
   "outputs": [],
   "source": [
    "y_pred_test_r = rfc.predict_proba(test_data)[:,1]\n",
    "result_test_r = pd.DataFrame({\n",
    "    \"APPLICATION_NUMBER\": test_data['APPLICATION_NUMBER'],\n",
    "    \"TARGET\": y_pred_test_r.flatten(),})\n",
    "result_test_r.head()"
   ]
  },
  {
   "cell_type": "code",
   "execution_count": null,
   "metadata": {},
   "outputs": [],
   "source": [
    "#filename = 'Vodorezova.csv'\n",
    "#result_test_r.to_csv(filename, index=None)\n",
    "# 71327"
   ]
  },
  {
   "cell_type": "code",
   "execution_count": null,
   "metadata": {},
   "outputs": [],
   "source": []
  },
  {
   "cell_type": "code",
   "execution_count": null,
   "metadata": {},
   "outputs": [],
   "source": [
    "gbc = GradientBoostingClassifier()"
   ]
  },
  {
   "cell_type": "code",
   "execution_count": null,
   "metadata": {},
   "outputs": [],
   "source": [
    "gbc.fit(x_train, y_train)"
   ]
  },
  {
   "cell_type": "code",
   "execution_count": null,
   "metadata": {},
   "outputs": [],
   "source": [
    "train_score = roc_auc_score(y_train, gbc.predict_proba(x_train)[:,1])\n",
    "valid_score = roc_auc_score(y_valid, gbc.predict_proba(x_valid)[:,1])\n",
    "\n",
    "print(f\"Train-score: {round(train_score, 3)}, Valid-score: {round(valid_score, 3)})\")\n",
    "\n",
    "#Train-score: 0.743, Valid-score: 0.738)"
   ]
  },
  {
   "cell_type": "code",
   "execution_count": null,
   "metadata": {},
   "outputs": [],
   "source": [
    "y_pred_test_g = gbc.predict_proba(test_data)[:,1]\n",
    "result_test_g = pd.DataFrame({\n",
    "    \"APPLICATION_NUMBER\": test_data['APPLICATION_NUMBER'],\n",
    "    \"TARGET\": y_pred_test_g.flatten(),})\n",
    "result_test_g.head()"
   ]
  },
  {
   "cell_type": "code",
   "execution_count": null,
   "metadata": {},
   "outputs": [],
   "source": [
    "#filename = 'Vodorezova.csv'\n",
    "#result_test_k.to_csv(filename, index=None)\n",
    "# 71327"
   ]
  },
  {
   "cell_type": "code",
   "execution_count": null,
   "metadata": {},
   "outputs": [],
   "source": []
  },
  {
   "cell_type": "code",
   "execution_count": null,
   "metadata": {},
   "outputs": [],
   "source": [
    "res = result_test.copy()\n",
    "res['TARGET'] = (result_test['TARGET'] + result_test_x['TARGET'] + result_test_l['TARGET'] + result_test_r['TARGET'] + result_test_g['TARGET'] ) / 5\n",
    "res.head(2)"
   ]
  },
  {
   "cell_type": "code",
   "execution_count": null,
   "metadata": {},
   "outputs": [],
   "source": [
    "filename = 'Vodorezova.csv'\n",
    "res.to_csv(filename, index=None)\n",
    "# 0.72942"
   ]
  },
  {
   "cell_type": "code",
   "execution_count": null,
   "metadata": {},
   "outputs": [],
   "source": []
  },
  {
   "cell_type": "code",
   "execution_count": null,
   "metadata": {},
   "outputs": [],
   "source": [
    "res = result_test.copy()\n",
    "res['TARGET'] = 0.2 * result_test['TARGET'] + 0.4 * result_test_x['TARGET'] + 0.2 * result_test_l['TARGET'] + 0.1 * result_test_r['TARGET'] + 0.1 * result_test_g['TARGET']\n",
    "res.head(2)"
   ]
  },
  {
   "cell_type": "code",
   "execution_count": null,
   "metadata": {},
   "outputs": [],
   "source": [
    "filename = 'Vodorezova.csv'\n",
    "res.to_csv(filename, index=None)\n",
    "# 0.73133"
   ]
  },
  {
   "cell_type": "code",
   "execution_count": null,
   "metadata": {},
   "outputs": [],
   "source": []
  },
  {
   "cell_type": "code",
   "execution_count": null,
   "metadata": {},
   "outputs": [],
   "source": [
    "res = result_test.copy()\n",
    "res['TARGET'] = 0.3 * result_test['TARGET'] + 0.5 * result_test_x['TARGET'] + 0.2 * result_test_l['TARGET']\n",
    "res.head(2)"
   ]
  },
  {
   "cell_type": "code",
   "execution_count": null,
   "metadata": {},
   "outputs": [],
   "source": [
    "filename = 'Vodorezova.csv'\n",
    "res.to_csv(filename, index=None)\n",
    "# 0.73175"
   ]
  },
  {
   "cell_type": "code",
   "execution_count": null,
   "metadata": {},
   "outputs": [],
   "source": []
  },
  {
   "cell_type": "code",
   "execution_count": null,
   "metadata": {},
   "outputs": [],
   "source": [
    "res = result_test.copy()\n",
    "res['TARGET'] = 0.3 * result_test['TARGET'] + 0.7 * result_test_x['TARGET']\n",
    "res.head(2)"
   ]
  },
  {
   "cell_type": "code",
   "execution_count": null,
   "metadata": {},
   "outputs": [],
   "source": [
    "filename = 'Vodorezova.csv'\n",
    "res.to_csv(filename, index=None)\n",
    "# 0.73174"
   ]
  },
  {
   "cell_type": "code",
   "execution_count": null,
   "metadata": {},
   "outputs": [],
   "source": []
  },
  {
   "cell_type": "code",
   "execution_count": null,
   "metadata": {},
   "outputs": [],
   "source": []
  },
  {
   "cell_type": "code",
   "execution_count": null,
   "metadata": {},
   "outputs": [],
   "source": []
  },
  {
   "cell_type": "code",
   "execution_count": null,
   "metadata": {},
   "outputs": [],
   "source": [
    "stop"
   ]
  },
  {
   "cell_type": "code",
   "execution_count": null,
   "metadata": {},
   "outputs": [],
   "source": [
    "test_data_res = result_test.copy()\n",
    "test_data_res['cat'] = test_data_res['TARGET']\n",
    "test_data_res['xgb'] = result_test_x['TARGET']\n",
    "test_data_res['lgbm'] = result_test_l['TARGET']\n",
    "test_data_res.head(2)"
   ]
  },
  {
   "cell_type": "code",
   "execution_count": null,
   "metadata": {},
   "outputs": [],
   "source": [
    "test_data_res = test_data_res.drop(['TARGET'], axis = 'columns')\n",
    "test_data_res"
   ]
  },
  {
   "cell_type": "code",
   "execution_count": null,
   "metadata": {},
   "outputs": [],
   "source": [
    "train_data_cat = model.predict(train_data, prediction_type =  \"Probability\")[:,1]\n",
    "result_train_cat = pd.DataFrame({\n",
    "    \"APPLICATION_NUMBER\": train_data['APPLICATION_NUMBER'],\n",
    "    \"TARGET\": train_data_cat.flatten(),})\n",
    "result_train_cat.head()"
   ]
  },
  {
   "cell_type": "code",
   "execution_count": null,
   "metadata": {},
   "outputs": [],
   "source": [
    "train_data_xgb = model_xgb.predict(xgb.DMatrix(data=train_data))\n",
    "result_train_xgb = pd.DataFrame({\n",
    "    \"APPLICATION_NUMBER\": train_data['APPLICATION_NUMBER'],\n",
    "    \"TARGET\": train_data_xgb.flatten(),})\n",
    "result_train_xgb.head()"
   ]
  },
  {
   "cell_type": "code",
   "execution_count": null,
   "metadata": {},
   "outputs": [],
   "source": [
    "train_data_lgbm = model_lgbm.predict(train_data)\n",
    "result_train_lgbm = pd.DataFrame({\n",
    "    \"APPLICATION_NUMBER\": train_data['APPLICATION_NUMBER'],\n",
    "    \"TARGET\": train_data_lgbm.flatten(),})\n",
    "result_train_lgbm.head()"
   ]
  },
  {
   "cell_type": "code",
   "execution_count": null,
   "metadata": {},
   "outputs": [],
   "source": [
    "train_data_res = result_train_cat.copy()\n",
    "train_data_res['cat'] = train_data_res['TARGET']\n",
    "train_data_res['xgb'] = result_train_xgb['TARGET']\n",
    "train_data_res['lgbm'] = result_train_lgbm['TARGET']\n",
    "train_data_res.head(2)"
   ]
  },
  {
   "cell_type": "code",
   "execution_count": null,
   "metadata": {},
   "outputs": [],
   "source": [
    "train_data_res = train_data_res.drop(['TARGET'], axis = 'columns')\n",
    "train_data_res"
   ]
  },
  {
   "cell_type": "code",
   "execution_count": null,
   "metadata": {},
   "outputs": [],
   "source": [
    "x_train, x_valid, y_train, y_valid = train_test_split(train_data_res, train_target, test_size=0.30)"
   ]
  },
  {
   "cell_type": "code",
   "execution_count": null,
   "metadata": {},
   "outputs": [],
   "source": [
    "params = {\n",
    "    \"booster\": \"gbtree\",\n",
    "    \"objective\": \"binary:logistic\",\n",
    "    \"eval_metric\": \"auc\",\n",
    "    \"learning_rate\": 0.1,\n",
    "    \"n_estimators\": 600,\n",
    "    \"reg_lambda\": 100,\n",
    "    \"max_depth\": 4,\n",
    "    \"gamma\": 10,\n",
    "    \"nthread\": 6,\n",
    "    \"seed\": 27\n",
    "}\n",
    "\n",
    "dtrain = xgb.DMatrix(\n",
    "    data=x_train, label=y_train\n",
    ")\n",
    "dvalid = xgb.DMatrix(\n",
    "    data=x_valid, label=y_valid\n",
    ")\n",
    "\n",
    "model_xgb = xgb.train(\n",
    "    params=params,\n",
    "    dtrain=dtrain,\n",
    "    num_boost_round=600,\n",
    "    evals=[(dtrain, \"train\"), (dvalid, \"valid\")],\n",
    "    early_stopping_rounds=50,\n",
    "    verbose_eval=10,\n",
    ")"
   ]
  },
  {
   "cell_type": "code",
   "execution_count": null,
   "metadata": {},
   "outputs": [],
   "source": [
    "train_score = roc_auc_score(y_train, model_xgb.predict(dtrain))\n",
    "valid_score = roc_auc_score(y_valid, model_xgb.predict(dvalid))\n",
    "\n",
    "print(f\"Train-score: {round(train_score, 3)}, Valid-score: {round(valid_score, 3)})\")\n",
    "#Train-score: 0.815, Valid-score: 0.816)"
   ]
  },
  {
   "cell_type": "code",
   "execution_count": null,
   "metadata": {},
   "outputs": [],
   "source": [
    "y_pred_test_x = model_xgb.predict(xgb.DMatrix(data=test_data_res))\n",
    "result_test_x = pd.DataFrame({\n",
    "    \"APPLICATION_NUMBER\": test_data['APPLICATION_NUMBER'],\n",
    "    \"TARGET\": y_pred_test_x.flatten(),})\n",
    "result_test_x.head()"
   ]
  },
  {
   "cell_type": "code",
   "execution_count": null,
   "metadata": {},
   "outputs": [],
   "source": [
    "filename = 'Vodorezova.csv'\n",
    "result_test_x.to_csv(filename, index=None)\n",
    "# 72276"
   ]
  },
  {
   "cell_type": "code",
   "execution_count": null,
   "metadata": {},
   "outputs": [],
   "source": []
  }
 ],
 "metadata": {
  "kernelspec": {
   "display_name": "Python 3",
   "language": "python",
   "name": "python3"
  },
  "language_info": {
   "codemirror_mode": {
    "name": "ipython",
    "version": 3
   },
   "file_extension": ".py",
   "mimetype": "text/x-python",
   "name": "python",
   "nbconvert_exporter": "python",
   "pygments_lexer": "ipython3",
   "version": "3.8.5"
  }
 },
 "nbformat": 4,
 "nbformat_minor": 4
}
