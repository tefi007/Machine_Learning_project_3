{
 "cells": [
  {
   "cell_type": "code",
   "execution_count": 318,
   "metadata": {},
   "outputs": [],
   "source": [
    "import numpy as np\n",
    "import pandas as pd\n",
    "pd.options.display.max_columns = 100\n",
    "from matplotlib import pyplot as plt\n",
    "%matplotlib inline\n",
    "import seaborn as sns\n",
    "\n",
    "import warnings\n",
    "warnings.simplefilter(\"ignore\")\n",
    "\n",
    "from sklearn.model_selection import train_test_split   # разделение выборки на train и test\n",
    "\n",
    "from sklearn.model_selection import cross_val_score     # кросс-валидация\n",
    "from sklearn.model_selection import cross_val_predict\n",
    "\n",
    "from sklearn.linear_model import LogisticRegression\n",
    "import xgboost as xgb, lightgbm as lgbm, catboost as catb\n",
    "\n",
    "from sklearn.metrics import roc_auc_score\n",
    "\n",
    "from sklearn.preprocessing import StandardScaler    # стандартизация данных\n",
    "from sklearn.preprocessing import PowerTransformer \n",
    "from sklearn.preprocessing import MinMaxScaler      # масштабирование MinMaxScaler\n",
    "from sklearn.preprocessing import Normalizer        # масштабирование Normalizer\n",
    "from sklearn.decomposition import PCA   # метод главных компонент\n",
    "\n",
    "from sklearn.linear_model import LogisticRegression     # модели классификации\n",
    "from sklearn.neighbors import KNeighborsClassifier\n",
    "from sklearn.linear_model import SGDClassifier\n",
    "from sklearn.tree import DecisionTreeClassifier\n",
    "from sklearn.ensemble import RandomForestClassifier\n",
    "from sklearn.ensemble import GradientBoostingClassifier\n",
    "from sklearn.experimental import enable_hist_gradient_boosting\n",
    "from sklearn.ensemble import HistGradientBoostingClassifier\n",
    "from sklearn.ensemble import AdaBoostClassifier\n",
    "from sklearn.experimental import enable_hist_gradient_boosting\n",
    "from sklearn.ensemble import VotingClassifier\n",
    "import xgboost as xgb, lightgbm as lgbm, catboost as catb\n",
    "\n",
    "from sklearn.model_selection import KFold, GridSearchCV, RandomizedSearchCV\n",
    "from bayes_opt import BayesianOptimization"
   ]
  },
  {
   "cell_type": "code",
   "execution_count": 319,
   "metadata": {},
   "outputs": [],
   "source": [
    "# https://www.kaggle.com/c/geekbrains-competitive-data-analysis/overview"
   ]
  },
  {
   "cell_type": "code",
   "execution_count": 320,
   "metadata": {},
   "outputs": [],
   "source": [
    "# пути\n",
    "path_train = '/home/tefi/Tefi/Project_sport/train.csv'\n",
    "path_test = '/home/tefi/Tefi/Project_sport/test.csv'\n",
    "path_applications_history = '/home/tefi/Tefi/Project_sport/applications_history.csv'\n",
    "path_bki = '/home/tefi/Tefi/Project_sport/bki.csv'\n",
    "path_client_profile = '/home/tefi/Tefi/Project_sport/client_profile.csv'\n",
    "path_payments = '/home/tefi/Tefi/Project_sport/payments.csv'\n",
    "path_sample_submit = '/home/tefi/Tefi/Project_sport/sample_submit.csv'\n",
    "\n",
    "# загрузка данных из файлов в соответствующие переменные\n",
    "train_pro = pd.read_csv(path_train)\n",
    "test_pro = pd.read_csv(path_test)\n",
    "applications_history = pd.read_csv(path_applications_history)\n",
    "bki = pd.read_csv(path_bki)\n",
    "client_profile = pd.read_csv(path_client_profile)\n",
    "payments = pd.read_csv(path_payments)\n",
    "sample_submit = pd.read_csv(path_sample_submit)  # образец submit"
   ]
  },
  {
   "cell_type": "markdown",
   "metadata": {},
   "source": [
    "Описание датасета:\n",
    "\n",
    "APPLICATION_NUMBER - номер заявки\n",
    "NAME_CONTRACT_TYPE - тип договора (наличные, карта)\n",
    "TARGET - целевая переменная\n",
    "\n",
    "История предыдущих заявок клиента:\n",
    "PREV_APPLICATION_NUMBER - предыдущий номер заявки\n",
    "AMOUNT_ANNUITY - сумма в год\n",
    "AMT_APPLICATION - сумма заявки\n",
    "AMOUNT_CREDIT - сумма кредита\n",
    "AMOUNT_PAYMENT - сумма выплаты\n",
    "AMOUNT_GOODS_PAYMENT - сумма стоимости товара \n",
    "NAME_CONTRACT_STATUS - статус годовора (одобрено, отклонено)\n",
    "DAYS_DECISION - разрешение на кол-во дней\n",
    "NAME_PAYMENT_TYPE - тип оплаты (наличными через банк и т.п.)\n",
    "CODE_REJECT_REASON - причина отклонения\n",
    "NAME_TYPE_SUITE - поручители\n",
    "NAME_CLIENT_TYPE - тип клиента (новый, повторно)\n",
    "NAME_GOODS_CATEGORY - категория товара\n",
    "NAME_PORTFOLIO - название портфеля (наличные, карта)\n",
    "NAME_PRODUCT_TYPE - тип товара (x-sell, wolk-in)\n",
    "SELLERPLACE_AREA - площадь продажи\n",
    "CNT_PAYMENT - кол-во выплат по кредиту\n",
    "NAME_YIELD_GROUP - доходная группа (средняя, ниже среднего)\n",
    "DAYS_FIRST_DRAWING - \n",
    "DAYS_FIRST_DUE - первый срок\n",
    "DAYS_LAST_DUE_1ST_VERSION - прошло дней с 1 версии\n",
    "DAYS_LAST_DUE - последний день\n",
    "DAYS_TERMINATION - дней до завершения\n",
    "NFLAG_INSURED_ON_APPROVAL - застрахован по принуждению\n",
    "\n",
    "данные БКИ о предыдущих кредитах клиента:\n",
    "BUREAU_ID - номер бюро\n",
    "CREDIT_ACTIVE - активен ли кредит\n",
    "CREDIT_CURRENCY - валюта кредита\n",
    "DAYS_CREDIT - дни кредита\n",
    "CREDIT_DAY_OVERDUE - кол-во дней просрочки\n",
    "DAYS_CREDIT_ENDDATE - дней до конца кредита\n",
    "DAYS_ENDDATE_FACT - фактически дней\n",
    "AMT_CREDIT_MAX_OVERDUE - максимальная сумма просроченного кредита\n",
    "CNT_CREDIT_PROLONG - продление текущего кредита\n",
    "AMT_CREDIT_SUM - сумма кредита\n",
    "AMT_CREDIT_SUM_DEBT - задолженность по кредиту\n",
    "AMT_CREDIT_SUM_LIMIT - сумма предельного кредита\n",
    "AMT_CREDIT_SUM_OVERDUE - сумма просроченного кредита\n",
    "CREDIT_TYPE - тип кредита (потребительский)\n",
    "DAYS_CREDIT_UPDATE - обновление дней кредита\n",
    "AMT_ANNUITY - сумма ежегодной выплаты\n",
    "\n",
    "Клиентский профиль, некоторые знания, которые есть у компании о клиенте:\n",
    "GENDER - пол\n",
    "CHILDRENS - дети\n",
    "TOTAL_SALARY - зарплата\n",
    "AMOUNT_CREDIT - сумма кредита\n",
    "AMOUNT_ANNUITY - сумма ежегодной выплаты\n",
    "EDUCATION_LEVEL - образование\n",
    "FAMILY_STATUS - семейный статус (женат)\n",
    "REGION_POPULATION - население региона\n",
    "AGE - возраст\n",
    "DAYS_ON_LAST_JOB - дней на последней работе \n",
    "OWN_CAR_AGE - возраст собственного автомобиля\n",
    "FLAG_PHONE - наличие телефона\n",
    "FLAG_EMAIL - наличие электронной почты\n",
    "FAMILY_SIZE - размер семьи (2, 3)\n",
    "EXTERNAL_SCORING_RATING_1 - внешний рейтинг 1\n",
    "EXTERNAL_SCORING_RATING_2 - внешний рейтинг 2\n",
    "EXTERNAL_SCORING_RATING_3 - внешний рейтинг 3\n",
    "AMT_REQ_CREDIT_BUREAU_HOUR - сумма запросов на выдачу кредитов\n",
    "AMT_REQ_CREDIT_BUREAU_DAY - сумма запросов на выдачу кредитов\n",
    "AMT_REQ_CREDIT_BUREAU_WEEK - сумма запросов на выдачу кредитов\n",
    "AMT_REQ_CREDIT_BUREAU_MON - сумма запросов на выдачу кредитов\n",
    "AMT_REQ_CREDIT_BUREAU_QRT - сумма запросов на выдачу кредитов\n",
    "AMT_REQ_CREDIT_BUREAU_YEAR - сумма запросов на выдачу кредитов\n",
    "\n",
    "История платежей клиента:\n",
    "NUM_INSTALMENT_VERSION - номер расчетной версии\n",
    "NUM_INSTALMENT_NUMBER - расчетный номер\n",
    "DAYS_INSTALMENT - дни рассрочки\n",
    "DAYS_ENTRY_PAYMENT - оплата по кредиту в день\n",
    "AMT_INSTALMENT - сумма расчета\n",
    "AMT_PAYMENT - сумма выплаты"
   ]
  },
  {
   "cell_type": "code",
   "execution_count": 321,
   "metadata": {},
   "outputs": [
    {
     "data": {
      "text/html": [
       "<div>\n",
       "<style scoped>\n",
       "    .dataframe tbody tr th:only-of-type {\n",
       "        vertical-align: middle;\n",
       "    }\n",
       "\n",
       "    .dataframe tbody tr th {\n",
       "        vertical-align: top;\n",
       "    }\n",
       "\n",
       "    .dataframe thead th {\n",
       "        text-align: right;\n",
       "    }\n",
       "</style>\n",
       "<table border=\"1\" class=\"dataframe\">\n",
       "  <thead>\n",
       "    <tr style=\"text-align: right;\">\n",
       "      <th></th>\n",
       "      <th>APPLICATION_NUMBER</th>\n",
       "      <th>TARGET</th>\n",
       "      <th>NAME_CONTRACT_TYPE</th>\n",
       "    </tr>\n",
       "  </thead>\n",
       "  <tbody>\n",
       "    <tr>\n",
       "      <th>0</th>\n",
       "      <td>123687442</td>\n",
       "      <td>0</td>\n",
       "      <td>Cash</td>\n",
       "    </tr>\n",
       "    <tr>\n",
       "      <th>1</th>\n",
       "      <td>123597908</td>\n",
       "      <td>1</td>\n",
       "      <td>Cash</td>\n",
       "    </tr>\n",
       "    <tr>\n",
       "      <th>2</th>\n",
       "      <td>123526683</td>\n",
       "      <td>0</td>\n",
       "      <td>Cash</td>\n",
       "    </tr>\n",
       "    <tr>\n",
       "      <th>3</th>\n",
       "      <td>123710391</td>\n",
       "      <td>1</td>\n",
       "      <td>Cash</td>\n",
       "    </tr>\n",
       "    <tr>\n",
       "      <th>4</th>\n",
       "      <td>123590329</td>\n",
       "      <td>1</td>\n",
       "      <td>Cash</td>\n",
       "    </tr>\n",
       "  </tbody>\n",
       "</table>\n",
       "</div>"
      ],
      "text/plain": [
       "   APPLICATION_NUMBER  TARGET NAME_CONTRACT_TYPE\n",
       "0           123687442       0               Cash\n",
       "1           123597908       1               Cash\n",
       "2           123526683       0               Cash\n",
       "3           123710391       1               Cash\n",
       "4           123590329       1               Cash"
      ]
     },
     "execution_count": 321,
     "metadata": {},
     "output_type": "execute_result"
    }
   ],
   "source": [
    "train_pro.head(5)"
   ]
  },
  {
   "cell_type": "code",
   "execution_count": 322,
   "metadata": {},
   "outputs": [
    {
     "data": {
      "text/plain": [
       "True"
      ]
     },
     "execution_count": 322,
     "metadata": {},
     "output_type": "execute_result"
    }
   ],
   "source": [
    "train_pro['APPLICATION_NUMBER'].nunique()==train_pro.shape[0]  "
   ]
  },
  {
   "cell_type": "code",
   "execution_count": 323,
   "metadata": {},
   "outputs": [
    {
     "data": {
      "text/plain": [
       "False"
      ]
     },
     "execution_count": 323,
     "metadata": {},
     "output_type": "execute_result"
    }
   ],
   "source": [
    "applications_history['APPLICATION_NUMBER'].nunique()==applications_history.shape[0] "
   ]
  },
  {
   "cell_type": "code",
   "execution_count": 324,
   "metadata": {},
   "outputs": [
    {
     "data": {
      "text/plain": [
       "False"
      ]
     },
     "execution_count": 324,
     "metadata": {},
     "output_type": "execute_result"
    }
   ],
   "source": [
    "bki['APPLICATION_NUMBER'].nunique()==bki.shape[0]"
   ]
  },
  {
   "cell_type": "code",
   "execution_count": 325,
   "metadata": {},
   "outputs": [
    {
     "data": {
      "text/plain": [
       "True"
      ]
     },
     "execution_count": 325,
     "metadata": {},
     "output_type": "execute_result"
    }
   ],
   "source": [
    "client_profile['APPLICATION_NUMBER'].nunique()==client_profile.shape[0]"
   ]
  },
  {
   "cell_type": "code",
   "execution_count": 326,
   "metadata": {},
   "outputs": [
    {
     "data": {
      "text/plain": [
       "False"
      ]
     },
     "execution_count": 326,
     "metadata": {},
     "output_type": "execute_result"
    }
   ],
   "source": [
    "payments['APPLICATION_NUMBER'].nunique()==payments.shape[0]"
   ]
  },
  {
   "cell_type": "code",
   "execution_count": 327,
   "metadata": {},
   "outputs": [
    {
     "data": {
      "text/html": [
       "<div>\n",
       "<style scoped>\n",
       "    .dataframe tbody tr th:only-of-type {\n",
       "        vertical-align: middle;\n",
       "    }\n",
       "\n",
       "    .dataframe tbody tr th {\n",
       "        vertical-align: top;\n",
       "    }\n",
       "\n",
       "    .dataframe thead th {\n",
       "        text-align: right;\n",
       "    }\n",
       "</style>\n",
       "<table border=\"1\" class=\"dataframe\">\n",
       "  <thead>\n",
       "    <tr style=\"text-align: right;\">\n",
       "      <th></th>\n",
       "      <th>APPLICATION_NUMBER</th>\n",
       "      <th>NAME_CONTRACT_TYPE</th>\n",
       "      <th>GENDER</th>\n",
       "      <th>CHILDRENS</th>\n",
       "      <th>TOTAL_SALARY</th>\n",
       "      <th>AMOUNT_CREDIT</th>\n",
       "      <th>AMOUNT_ANNUITY</th>\n",
       "      <th>EDUCATION_LEVEL</th>\n",
       "      <th>FAMILY_STATUS</th>\n",
       "      <th>REGION_POPULATION</th>\n",
       "      <th>AGE</th>\n",
       "      <th>DAYS_ON_LAST_JOB</th>\n",
       "      <th>OWN_CAR_AGE</th>\n",
       "      <th>FLAG_PHONE</th>\n",
       "      <th>FLAG_EMAIL</th>\n",
       "      <th>FAMILY_SIZE</th>\n",
       "      <th>EXTERNAL_SCORING_RATING_1</th>\n",
       "      <th>EXTERNAL_SCORING_RATING_2</th>\n",
       "      <th>EXTERNAL_SCORING_RATING_3</th>\n",
       "      <th>AMT_REQ_CREDIT_BUREAU_HOUR</th>\n",
       "      <th>AMT_REQ_CREDIT_BUREAU_DAY</th>\n",
       "      <th>AMT_REQ_CREDIT_BUREAU_WEEK</th>\n",
       "      <th>AMT_REQ_CREDIT_BUREAU_MON</th>\n",
       "      <th>AMT_REQ_CREDIT_BUREAU_QRT</th>\n",
       "      <th>AMT_REQ_CREDIT_BUREAU_YEAR</th>\n",
       "    </tr>\n",
       "  </thead>\n",
       "  <tbody>\n",
       "    <tr>\n",
       "      <th>0</th>\n",
       "      <td>123687442</td>\n",
       "      <td>Cash</td>\n",
       "      <td>M</td>\n",
       "      <td>1.0</td>\n",
       "      <td>157500.0</td>\n",
       "      <td>855000.0</td>\n",
       "      <td>25128.0</td>\n",
       "      <td>Secondary / secondary special</td>\n",
       "      <td>Married</td>\n",
       "      <td>0.019101</td>\n",
       "      <td>15728.0</td>\n",
       "      <td>1719.0</td>\n",
       "      <td>11.0</td>\n",
       "      <td>0.0</td>\n",
       "      <td>0.0</td>\n",
       "      <td>3.0</td>\n",
       "      <td>0.700784</td>\n",
       "      <td>0.645914</td>\n",
       "      <td>0.71657</td>\n",
       "      <td>0.0</td>\n",
       "      <td>0.0</td>\n",
       "      <td>1.0</td>\n",
       "      <td>0.0</td>\n",
       "      <td>0.0</td>\n",
       "      <td>2.0</td>\n",
       "    </tr>\n",
       "    <tr>\n",
       "      <th>1</th>\n",
       "      <td>123597908</td>\n",
       "      <td>Cash</td>\n",
       "      <td>NaN</td>\n",
       "      <td>NaN</td>\n",
       "      <td>NaN</td>\n",
       "      <td>NaN</td>\n",
       "      <td>NaN</td>\n",
       "      <td>NaN</td>\n",
       "      <td>NaN</td>\n",
       "      <td>NaN</td>\n",
       "      <td>NaN</td>\n",
       "      <td>NaN</td>\n",
       "      <td>NaN</td>\n",
       "      <td>NaN</td>\n",
       "      <td>NaN</td>\n",
       "      <td>NaN</td>\n",
       "      <td>NaN</td>\n",
       "      <td>NaN</td>\n",
       "      <td>NaN</td>\n",
       "      <td>NaN</td>\n",
       "      <td>NaN</td>\n",
       "      <td>NaN</td>\n",
       "      <td>NaN</td>\n",
       "      <td>NaN</td>\n",
       "      <td>NaN</td>\n",
       "    </tr>\n",
       "  </tbody>\n",
       "</table>\n",
       "</div>"
      ],
      "text/plain": [
       "   APPLICATION_NUMBER NAME_CONTRACT_TYPE GENDER  CHILDRENS  TOTAL_SALARY  \\\n",
       "0           123687442               Cash      M        1.0      157500.0   \n",
       "1           123597908               Cash    NaN        NaN           NaN   \n",
       "\n",
       "   AMOUNT_CREDIT  AMOUNT_ANNUITY                EDUCATION_LEVEL FAMILY_STATUS  \\\n",
       "0       855000.0         25128.0  Secondary / secondary special       Married   \n",
       "1            NaN             NaN                            NaN           NaN   \n",
       "\n",
       "   REGION_POPULATION      AGE  DAYS_ON_LAST_JOB  OWN_CAR_AGE  FLAG_PHONE  \\\n",
       "0           0.019101  15728.0            1719.0         11.0         0.0   \n",
       "1                NaN      NaN               NaN          NaN         NaN   \n",
       "\n",
       "   FLAG_EMAIL  FAMILY_SIZE  EXTERNAL_SCORING_RATING_1  \\\n",
       "0         0.0          3.0                   0.700784   \n",
       "1         NaN          NaN                        NaN   \n",
       "\n",
       "   EXTERNAL_SCORING_RATING_2  EXTERNAL_SCORING_RATING_3  \\\n",
       "0                   0.645914                    0.71657   \n",
       "1                        NaN                        NaN   \n",
       "\n",
       "   AMT_REQ_CREDIT_BUREAU_HOUR  AMT_REQ_CREDIT_BUREAU_DAY  \\\n",
       "0                         0.0                        0.0   \n",
       "1                         NaN                        NaN   \n",
       "\n",
       "   AMT_REQ_CREDIT_BUREAU_WEEK  AMT_REQ_CREDIT_BUREAU_MON  \\\n",
       "0                         1.0                        0.0   \n",
       "1                         NaN                        NaN   \n",
       "\n",
       "   AMT_REQ_CREDIT_BUREAU_QRT  AMT_REQ_CREDIT_BUREAU_YEAR  \n",
       "0                        0.0                         2.0  \n",
       "1                        NaN                         NaN  "
      ]
     },
     "execution_count": 327,
     "metadata": {},
     "output_type": "execute_result"
    }
   ],
   "source": [
    "train = pd.merge(train_pro, client_profile, on='APPLICATION_NUMBER', how='left')\n",
    "train_data = train.drop(['TARGET'], axis = 'columns')\n",
    "train_target = train['TARGET']\n",
    "train_data.head(2)"
   ]
  },
  {
   "cell_type": "code",
   "execution_count": 328,
   "metadata": {},
   "outputs": [
    {
     "data": {
      "text/html": [
       "<div>\n",
       "<style scoped>\n",
       "    .dataframe tbody tr th:only-of-type {\n",
       "        vertical-align: middle;\n",
       "    }\n",
       "\n",
       "    .dataframe tbody tr th {\n",
       "        vertical-align: top;\n",
       "    }\n",
       "\n",
       "    .dataframe thead th {\n",
       "        text-align: right;\n",
       "    }\n",
       "</style>\n",
       "<table border=\"1\" class=\"dataframe\">\n",
       "  <thead>\n",
       "    <tr style=\"text-align: right;\">\n",
       "      <th></th>\n",
       "      <th>APPLICATION_NUMBER</th>\n",
       "      <th>NAME_CONTRACT_TYPE</th>\n",
       "      <th>GENDER</th>\n",
       "      <th>CHILDRENS</th>\n",
       "      <th>TOTAL_SALARY</th>\n",
       "      <th>AMOUNT_CREDIT</th>\n",
       "      <th>AMOUNT_ANNUITY</th>\n",
       "      <th>EDUCATION_LEVEL</th>\n",
       "      <th>FAMILY_STATUS</th>\n",
       "      <th>REGION_POPULATION</th>\n",
       "      <th>AGE</th>\n",
       "      <th>DAYS_ON_LAST_JOB</th>\n",
       "      <th>OWN_CAR_AGE</th>\n",
       "      <th>FLAG_PHONE</th>\n",
       "      <th>FLAG_EMAIL</th>\n",
       "      <th>FAMILY_SIZE</th>\n",
       "      <th>EXTERNAL_SCORING_RATING_1</th>\n",
       "      <th>EXTERNAL_SCORING_RATING_2</th>\n",
       "      <th>EXTERNAL_SCORING_RATING_3</th>\n",
       "      <th>AMT_REQ_CREDIT_BUREAU_HOUR</th>\n",
       "      <th>AMT_REQ_CREDIT_BUREAU_DAY</th>\n",
       "      <th>AMT_REQ_CREDIT_BUREAU_WEEK</th>\n",
       "      <th>AMT_REQ_CREDIT_BUREAU_MON</th>\n",
       "      <th>AMT_REQ_CREDIT_BUREAU_QRT</th>\n",
       "      <th>AMT_REQ_CREDIT_BUREAU_YEAR</th>\n",
       "    </tr>\n",
       "  </thead>\n",
       "  <tbody>\n",
       "    <tr>\n",
       "      <th>0</th>\n",
       "      <td>123724268</td>\n",
       "      <td>Cash</td>\n",
       "      <td>M</td>\n",
       "      <td>0.0</td>\n",
       "      <td>117000.0</td>\n",
       "      <td>1125000.0</td>\n",
       "      <td>32895.0</td>\n",
       "      <td>Secondary / secondary special</td>\n",
       "      <td>Married</td>\n",
       "      <td>0.028663</td>\n",
       "      <td>16007.0</td>\n",
       "      <td>2646.0</td>\n",
       "      <td>20.0</td>\n",
       "      <td>0.0</td>\n",
       "      <td>0.0</td>\n",
       "      <td>2.0</td>\n",
       "      <td>NaN</td>\n",
       "      <td>0.628266</td>\n",
       "      <td>NaN</td>\n",
       "      <td>0.0</td>\n",
       "      <td>0.0</td>\n",
       "      <td>0.0</td>\n",
       "      <td>0.0</td>\n",
       "      <td>1.0</td>\n",
       "      <td>4.0</td>\n",
       "    </tr>\n",
       "    <tr>\n",
       "      <th>1</th>\n",
       "      <td>123456549</td>\n",
       "      <td>Cash</td>\n",
       "      <td>F</td>\n",
       "      <td>2.0</td>\n",
       "      <td>81000.0</td>\n",
       "      <td>312768.0</td>\n",
       "      <td>17095.5</td>\n",
       "      <td>Secondary / secondary special</td>\n",
       "      <td>Married</td>\n",
       "      <td>0.019689</td>\n",
       "      <td>10315.0</td>\n",
       "      <td>459.0</td>\n",
       "      <td>NaN</td>\n",
       "      <td>0.0</td>\n",
       "      <td>0.0</td>\n",
       "      <td>4.0</td>\n",
       "      <td>NaN</td>\n",
       "      <td>0.578161</td>\n",
       "      <td>0.18849</td>\n",
       "      <td>0.0</td>\n",
       "      <td>0.0</td>\n",
       "      <td>1.0</td>\n",
       "      <td>0.0</td>\n",
       "      <td>0.0</td>\n",
       "      <td>2.0</td>\n",
       "    </tr>\n",
       "  </tbody>\n",
       "</table>\n",
       "</div>"
      ],
      "text/plain": [
       "   APPLICATION_NUMBER NAME_CONTRACT_TYPE GENDER  CHILDRENS  TOTAL_SALARY  \\\n",
       "0           123724268               Cash      M        0.0      117000.0   \n",
       "1           123456549               Cash      F        2.0       81000.0   \n",
       "\n",
       "   AMOUNT_CREDIT  AMOUNT_ANNUITY                EDUCATION_LEVEL FAMILY_STATUS  \\\n",
       "0      1125000.0         32895.0  Secondary / secondary special       Married   \n",
       "1       312768.0         17095.5  Secondary / secondary special       Married   \n",
       "\n",
       "   REGION_POPULATION      AGE  DAYS_ON_LAST_JOB  OWN_CAR_AGE  FLAG_PHONE  \\\n",
       "0           0.028663  16007.0            2646.0         20.0         0.0   \n",
       "1           0.019689  10315.0             459.0          NaN         0.0   \n",
       "\n",
       "   FLAG_EMAIL  FAMILY_SIZE  EXTERNAL_SCORING_RATING_1  \\\n",
       "0         0.0          2.0                        NaN   \n",
       "1         0.0          4.0                        NaN   \n",
       "\n",
       "   EXTERNAL_SCORING_RATING_2  EXTERNAL_SCORING_RATING_3  \\\n",
       "0                   0.628266                        NaN   \n",
       "1                   0.578161                    0.18849   \n",
       "\n",
       "   AMT_REQ_CREDIT_BUREAU_HOUR  AMT_REQ_CREDIT_BUREAU_DAY  \\\n",
       "0                         0.0                        0.0   \n",
       "1                         0.0                        0.0   \n",
       "\n",
       "   AMT_REQ_CREDIT_BUREAU_WEEK  AMT_REQ_CREDIT_BUREAU_MON  \\\n",
       "0                         0.0                        0.0   \n",
       "1                         1.0                        0.0   \n",
       "\n",
       "   AMT_REQ_CREDIT_BUREAU_QRT  AMT_REQ_CREDIT_BUREAU_YEAR  \n",
       "0                        1.0                         4.0  \n",
       "1                        0.0                         2.0  "
      ]
     },
     "execution_count": 328,
     "metadata": {},
     "output_type": "execute_result"
    }
   ],
   "source": [
    "test_data = pd.merge(test_pro, client_profile, on='APPLICATION_NUMBER', how='left')\n",
    "test_data.head(2)"
   ]
  },
  {
   "cell_type": "code",
   "execution_count": 329,
   "metadata": {},
   "outputs": [
    {
     "name": "stdout",
     "output_type": "stream",
     "text": [
      "<class 'pandas.core.frame.DataFrame'>\n",
      "Int64Index: 110093 entries, 0 to 110092\n",
      "Data columns (total 25 columns):\n",
      " #   Column                      Non-Null Count   Dtype  \n",
      "---  ------                      --------------   -----  \n",
      " 0   APPLICATION_NUMBER          110093 non-null  int64  \n",
      " 1   NAME_CONTRACT_TYPE          110093 non-null  object \n",
      " 2   GENDER                      89539 non-null   object \n",
      " 3   CHILDRENS                   89539 non-null   float64\n",
      " 4   TOTAL_SALARY                89539 non-null   float64\n",
      " 5   AMOUNT_CREDIT               89539 non-null   float64\n",
      " 6   AMOUNT_ANNUITY              89534 non-null   float64\n",
      " 7   EDUCATION_LEVEL             89539 non-null   object \n",
      " 8   FAMILY_STATUS               89539 non-null   object \n",
      " 9   REGION_POPULATION           89539 non-null   float64\n",
      " 10  AGE                         89539 non-null   float64\n",
      " 11  DAYS_ON_LAST_JOB            89539 non-null   float64\n",
      " 12  OWN_CAR_AGE                 30533 non-null   float64\n",
      " 13  FLAG_PHONE                  89539 non-null   float64\n",
      " 14  FLAG_EMAIL                  89539 non-null   float64\n",
      " 15  FAMILY_SIZE                 89538 non-null   float64\n",
      " 16  EXTERNAL_SCORING_RATING_1   39091 non-null   float64\n",
      " 17  EXTERNAL_SCORING_RATING_2   89345 non-null   float64\n",
      " 18  EXTERNAL_SCORING_RATING_3   71808 non-null   float64\n",
      " 19  AMT_REQ_CREDIT_BUREAU_HOUR  77480 non-null   float64\n",
      " 20  AMT_REQ_CREDIT_BUREAU_DAY   77480 non-null   float64\n",
      " 21  AMT_REQ_CREDIT_BUREAU_WEEK  77480 non-null   float64\n",
      " 22  AMT_REQ_CREDIT_BUREAU_MON   77480 non-null   float64\n",
      " 23  AMT_REQ_CREDIT_BUREAU_QRT   77480 non-null   float64\n",
      " 24  AMT_REQ_CREDIT_BUREAU_YEAR  77480 non-null   float64\n",
      "dtypes: float64(20), int64(1), object(4)\n",
      "memory usage: 21.8+ MB\n"
     ]
    }
   ],
   "source": [
    "train_data.info()"
   ]
  },
  {
   "cell_type": "code",
   "execution_count": 330,
   "metadata": {},
   "outputs": [],
   "source": [
    "features_1 = ['GENDER', 'CHILDRENS', 'EDUCATION_LEVEL', 'FAMILY_STATUS', 'REGION_POPULATION', 'OWN_CAR_AGE', \n",
    "             'FLAG_PHONE', 'FLAG_EMAIL', 'FAMILY_SIZE', 'EXTERNAL_SCORING_RATING_1', 'EXTERNAL_SCORING_RATING_2', \n",
    "              'EXTERNAL_SCORING_RATING_3', 'AMT_REQ_CREDIT_BUREAU_HOUR', 'AMT_REQ_CREDIT_BUREAU_DAY', \n",
    "              'AMT_REQ_CREDIT_BUREAU_WEEK', 'AMT_REQ_CREDIT_BUREAU_MON', 'AMT_REQ_CREDIT_BUREAU_QRT', \n",
    "              'AMT_REQ_CREDIT_BUREAU_YEAR']\n",
    "\n",
    "for i in features_1:\n",
    "    train_data.loc[(train_data[i].isnull(), [i])] = train_data[i].mode()[0]\n",
    "    \n",
    "for i in features_1:\n",
    "    test_data.loc[(test_data[i].isnull(), [i])] = train_data[i].mode()[0]"
   ]
  },
  {
   "cell_type": "code",
   "execution_count": 331,
   "metadata": {},
   "outputs": [],
   "source": [
    "features_2 = ['TOTAL_SALARY', 'AMOUNT_CREDIT', 'AMOUNT_ANNUITY', 'AGE', 'DAYS_ON_LAST_JOB']\n",
    "\n",
    "for i in features_2:\n",
    "    train_data.loc[(train_data[i].isnull(), [i])] = train_data[i].median()\n",
    "for i in features_2:\n",
    "    test_data.loc[(test_data[i].isnull(), [i])] = train_data[i].median()"
   ]
  },
  {
   "cell_type": "code",
   "execution_count": 332,
   "metadata": {},
   "outputs": [
    {
     "data": {
      "text/plain": [
       "Index(['CHILDRENS', 'TOTAL_SALARY', 'AMOUNT_CREDIT', 'AMOUNT_ANNUITY',\n",
       "       'REGION_POPULATION', 'AGE', 'DAYS_ON_LAST_JOB', 'OWN_CAR_AGE',\n",
       "       'FLAG_PHONE', 'FLAG_EMAIL', 'FAMILY_SIZE', 'EXTERNAL_SCORING_RATING_1',\n",
       "       'EXTERNAL_SCORING_RATING_2', 'EXTERNAL_SCORING_RATING_3',\n",
       "       'AMT_REQ_CREDIT_BUREAU_HOUR', 'AMT_REQ_CREDIT_BUREAU_DAY',\n",
       "       'AMT_REQ_CREDIT_BUREAU_WEEK', 'AMT_REQ_CREDIT_BUREAU_MON',\n",
       "       'AMT_REQ_CREDIT_BUREAU_QRT', 'AMT_REQ_CREDIT_BUREAU_YEAR'],\n",
       "      dtype='object')"
      ]
     },
     "execution_count": 332,
     "metadata": {},
     "output_type": "execute_result"
    }
   ],
   "source": [
    "train_data.select_dtypes(include = ['float64']).columns"
   ]
  },
  {
   "cell_type": "code",
   "execution_count": 333,
   "metadata": {},
   "outputs": [],
   "source": [
    "features_3 = ['CHILDRENS', 'TOTAL_SALARY', 'AMOUNT_CREDIT', 'AMOUNT_ANNUITY', 'AGE', 'DAYS_ON_LAST_JOB', \n",
    "              'OWN_CAR_AGE', 'FLAG_PHONE', 'FLAG_EMAIL', 'FAMILY_SIZE', 'AMT_REQ_CREDIT_BUREAU_HOUR', \n",
    "              'AMT_REQ_CREDIT_BUREAU_DAY', 'AMT_REQ_CREDIT_BUREAU_WEEK', 'AMT_REQ_CREDIT_BUREAU_MON',\n",
    "              'AMT_REQ_CREDIT_BUREAU_QRT', 'AMT_REQ_CREDIT_BUREAU_YEAR']\n",
    "\n",
    "for i in features_3:\n",
    "    train_data[i] = train_data[i].astype(int)\n",
    "for i in features_3:\n",
    "    test_data[i] = test_data[i].astype(int)"
   ]
  },
  {
   "cell_type": "code",
   "execution_count": 334,
   "metadata": {},
   "outputs": [
    {
     "data": {
      "text/plain": [
       "Index(['NAME_CONTRACT_TYPE', 'GENDER', 'EDUCATION_LEVEL', 'FAMILY_STATUS'], dtype='object')"
      ]
     },
     "execution_count": 334,
     "metadata": {},
     "output_type": "execute_result"
    }
   ],
   "source": [
    "train_data.select_dtypes(include = ['object']).columns"
   ]
  },
  {
   "cell_type": "code",
   "execution_count": 335,
   "metadata": {},
   "outputs": [],
   "source": [
    "features_4 = ['NAME_CONTRACT_TYPE', 'GENDER', 'EDUCATION_LEVEL', 'FAMILY_STATUS']\n",
    "for i in features_4:\n",
    "    train_data = pd.concat([train_data, pd.get_dummies(train_data[i])], axis=1)\n",
    "for i in features_4:\n",
    "    test_data = pd.concat([test_data, pd.get_dummies(test_data[i])], axis=1)\n",
    "\n",
    "train_data = train_data.drop(['NAME_CONTRACT_TYPE', 'GENDER', 'EDUCATION_LEVEL', 'FAMILY_STATUS'], axis = 'columns')\n",
    "test_data = test_data.drop(['NAME_CONTRACT_TYPE', 'GENDER', 'EDUCATION_LEVEL', 'FAMILY_STATUS'], axis = 'columns')\n"
   ]
  },
  {
   "cell_type": "code",
   "execution_count": 336,
   "metadata": {},
   "outputs": [
    {
     "name": "stdout",
     "output_type": "stream",
     "text": [
      "<class 'pandas.core.frame.DataFrame'>\n",
      "Int64Index: 110093 entries, 0 to 110092\n",
      "Data columns (total 37 columns):\n",
      " #   Column                         Non-Null Count   Dtype  \n",
      "---  ------                         --------------   -----  \n",
      " 0   APPLICATION_NUMBER             110093 non-null  int64  \n",
      " 1   CHILDRENS                      110093 non-null  int64  \n",
      " 2   TOTAL_SALARY                   110093 non-null  int64  \n",
      " 3   AMOUNT_CREDIT                  110093 non-null  int64  \n",
      " 4   AMOUNT_ANNUITY                 110093 non-null  int64  \n",
      " 5   REGION_POPULATION              110093 non-null  float64\n",
      " 6   AGE                            110093 non-null  int64  \n",
      " 7   DAYS_ON_LAST_JOB               110093 non-null  int64  \n",
      " 8   OWN_CAR_AGE                    110093 non-null  int64  \n",
      " 9   FLAG_PHONE                     110093 non-null  int64  \n",
      " 10  FLAG_EMAIL                     110093 non-null  int64  \n",
      " 11  FAMILY_SIZE                    110093 non-null  int64  \n",
      " 12  EXTERNAL_SCORING_RATING_1      110093 non-null  float64\n",
      " 13  EXTERNAL_SCORING_RATING_2      110093 non-null  float64\n",
      " 14  EXTERNAL_SCORING_RATING_3      110093 non-null  float64\n",
      " 15  AMT_REQ_CREDIT_BUREAU_HOUR     110093 non-null  int64  \n",
      " 16  AMT_REQ_CREDIT_BUREAU_DAY      110093 non-null  int64  \n",
      " 17  AMT_REQ_CREDIT_BUREAU_WEEK     110093 non-null  int64  \n",
      " 18  AMT_REQ_CREDIT_BUREAU_MON      110093 non-null  int64  \n",
      " 19  AMT_REQ_CREDIT_BUREAU_QRT      110093 non-null  int64  \n",
      " 20  AMT_REQ_CREDIT_BUREAU_YEAR     110093 non-null  int64  \n",
      " 21  Cash                           110093 non-null  uint8  \n",
      " 22  Credit Card                    110093 non-null  uint8  \n",
      " 23  F                              110093 non-null  uint8  \n",
      " 24  M                              110093 non-null  uint8  \n",
      " 25  XNA                            110093 non-null  uint8  \n",
      " 26  Academic degree                110093 non-null  uint8  \n",
      " 27  Higher education               110093 non-null  uint8  \n",
      " 28  Incomplete higher              110093 non-null  uint8  \n",
      " 29  Lower secondary                110093 non-null  uint8  \n",
      " 30  Secondary / secondary special  110093 non-null  uint8  \n",
      " 31  Civil marriage                 110093 non-null  uint8  \n",
      " 32  Married                        110093 non-null  uint8  \n",
      " 33  Separated                      110093 non-null  uint8  \n",
      " 34  Single / not married           110093 non-null  uint8  \n",
      " 35  Unknown                        110093 non-null  uint8  \n",
      " 36  Widow                          110093 non-null  uint8  \n",
      "dtypes: float64(4), int64(17), uint8(16)\n",
      "memory usage: 20.2 MB\n"
     ]
    }
   ],
   "source": [
    "train_data.info()"
   ]
  },
  {
   "cell_type": "code",
   "execution_count": null,
   "metadata": {},
   "outputs": [],
   "source": []
  },
  {
   "cell_type": "code",
   "execution_count": 337,
   "metadata": {},
   "outputs": [
    {
     "data": {
      "text/plain": [
       "0    101196\n",
       "1      8897\n",
       "Name: target, dtype: int64"
      ]
     },
     "execution_count": 337,
     "metadata": {},
     "output_type": "execute_result"
    }
   ],
   "source": [
    "train_data['target'] = train_target\n",
    "train_data['target'].value_counts()"
   ]
  },
  {
   "cell_type": "code",
   "execution_count": 338,
   "metadata": {},
   "outputs": [
    {
     "data": {
      "text/html": [
       "<div>\n",
       "<style scoped>\n",
       "    .dataframe tbody tr th:only-of-type {\n",
       "        vertical-align: middle;\n",
       "    }\n",
       "\n",
       "    .dataframe tbody tr th {\n",
       "        vertical-align: top;\n",
       "    }\n",
       "\n",
       "    .dataframe thead th {\n",
       "        text-align: right;\n",
       "    }\n",
       "</style>\n",
       "<table border=\"1\" class=\"dataframe\">\n",
       "  <thead>\n",
       "    <tr style=\"text-align: right;\">\n",
       "      <th></th>\n",
       "      <th>APPLICATION_NUMBER</th>\n",
       "      <th>CHILDRENS</th>\n",
       "      <th>TOTAL_SALARY</th>\n",
       "      <th>AMOUNT_CREDIT</th>\n",
       "      <th>AMOUNT_ANNUITY</th>\n",
       "      <th>REGION_POPULATION</th>\n",
       "      <th>AGE</th>\n",
       "      <th>DAYS_ON_LAST_JOB</th>\n",
       "      <th>OWN_CAR_AGE</th>\n",
       "      <th>FLAG_PHONE</th>\n",
       "      <th>FLAG_EMAIL</th>\n",
       "      <th>FAMILY_SIZE</th>\n",
       "      <th>EXTERNAL_SCORING_RATING_1</th>\n",
       "      <th>EXTERNAL_SCORING_RATING_2</th>\n",
       "      <th>EXTERNAL_SCORING_RATING_3</th>\n",
       "      <th>AMT_REQ_CREDIT_BUREAU_HOUR</th>\n",
       "      <th>AMT_REQ_CREDIT_BUREAU_DAY</th>\n",
       "      <th>AMT_REQ_CREDIT_BUREAU_WEEK</th>\n",
       "      <th>AMT_REQ_CREDIT_BUREAU_MON</th>\n",
       "      <th>AMT_REQ_CREDIT_BUREAU_QRT</th>\n",
       "      <th>AMT_REQ_CREDIT_BUREAU_YEAR</th>\n",
       "      <th>Cash</th>\n",
       "      <th>Credit Card</th>\n",
       "      <th>F</th>\n",
       "      <th>M</th>\n",
       "      <th>XNA</th>\n",
       "      <th>Academic degree</th>\n",
       "      <th>Higher education</th>\n",
       "      <th>Incomplete higher</th>\n",
       "      <th>Lower secondary</th>\n",
       "      <th>Secondary / secondary special</th>\n",
       "      <th>Civil marriage</th>\n",
       "      <th>Married</th>\n",
       "      <th>Separated</th>\n",
       "      <th>Single / not married</th>\n",
       "      <th>Unknown</th>\n",
       "      <th>Widow</th>\n",
       "      <th>target</th>\n",
       "    </tr>\n",
       "  </thead>\n",
       "  <tbody>\n",
       "    <tr>\n",
       "      <th>0</th>\n",
       "      <td>123687442</td>\n",
       "      <td>1</td>\n",
       "      <td>157500</td>\n",
       "      <td>855000</td>\n",
       "      <td>25128</td>\n",
       "      <td>0.019101</td>\n",
       "      <td>15728</td>\n",
       "      <td>1719</td>\n",
       "      <td>11</td>\n",
       "      <td>0</td>\n",
       "      <td>0</td>\n",
       "      <td>3</td>\n",
       "      <td>0.700784</td>\n",
       "      <td>0.645914</td>\n",
       "      <td>0.71657</td>\n",
       "      <td>0</td>\n",
       "      <td>0</td>\n",
       "      <td>1</td>\n",
       "      <td>0</td>\n",
       "      <td>0</td>\n",
       "      <td>2</td>\n",
       "      <td>1</td>\n",
       "      <td>0</td>\n",
       "      <td>0</td>\n",
       "      <td>1</td>\n",
       "      <td>0</td>\n",
       "      <td>0</td>\n",
       "      <td>0</td>\n",
       "      <td>0</td>\n",
       "      <td>0</td>\n",
       "      <td>1</td>\n",
       "      <td>0</td>\n",
       "      <td>1</td>\n",
       "      <td>0</td>\n",
       "      <td>0</td>\n",
       "      <td>0</td>\n",
       "      <td>0</td>\n",
       "      <td>0</td>\n",
       "    </tr>\n",
       "    <tr>\n",
       "      <th>1</th>\n",
       "      <td>123597908</td>\n",
       "      <td>0</td>\n",
       "      <td>148500</td>\n",
       "      <td>517788</td>\n",
       "      <td>24903</td>\n",
       "      <td>0.035792</td>\n",
       "      <td>15728</td>\n",
       "      <td>2206</td>\n",
       "      <td>7</td>\n",
       "      <td>0</td>\n",
       "      <td>0</td>\n",
       "      <td>2</td>\n",
       "      <td>0.285593</td>\n",
       "      <td>0.285898</td>\n",
       "      <td>0.74630</td>\n",
       "      <td>0</td>\n",
       "      <td>0</td>\n",
       "      <td>0</td>\n",
       "      <td>0</td>\n",
       "      <td>0</td>\n",
       "      <td>0</td>\n",
       "      <td>1</td>\n",
       "      <td>0</td>\n",
       "      <td>1</td>\n",
       "      <td>0</td>\n",
       "      <td>0</td>\n",
       "      <td>0</td>\n",
       "      <td>0</td>\n",
       "      <td>0</td>\n",
       "      <td>0</td>\n",
       "      <td>1</td>\n",
       "      <td>0</td>\n",
       "      <td>1</td>\n",
       "      <td>0</td>\n",
       "      <td>0</td>\n",
       "      <td>0</td>\n",
       "      <td>0</td>\n",
       "      <td>1</td>\n",
       "    </tr>\n",
       "  </tbody>\n",
       "</table>\n",
       "</div>"
      ],
      "text/plain": [
       "   APPLICATION_NUMBER  CHILDRENS  TOTAL_SALARY  AMOUNT_CREDIT  AMOUNT_ANNUITY  \\\n",
       "0           123687442          1        157500         855000           25128   \n",
       "1           123597908          0        148500         517788           24903   \n",
       "\n",
       "   REGION_POPULATION    AGE  DAYS_ON_LAST_JOB  OWN_CAR_AGE  FLAG_PHONE  \\\n",
       "0           0.019101  15728              1719           11           0   \n",
       "1           0.035792  15728              2206            7           0   \n",
       "\n",
       "   FLAG_EMAIL  FAMILY_SIZE  EXTERNAL_SCORING_RATING_1  \\\n",
       "0           0            3                   0.700784   \n",
       "1           0            2                   0.285593   \n",
       "\n",
       "   EXTERNAL_SCORING_RATING_2  EXTERNAL_SCORING_RATING_3  \\\n",
       "0                   0.645914                    0.71657   \n",
       "1                   0.285898                    0.74630   \n",
       "\n",
       "   AMT_REQ_CREDIT_BUREAU_HOUR  AMT_REQ_CREDIT_BUREAU_DAY  \\\n",
       "0                           0                          0   \n",
       "1                           0                          0   \n",
       "\n",
       "   AMT_REQ_CREDIT_BUREAU_WEEK  AMT_REQ_CREDIT_BUREAU_MON  \\\n",
       "0                           1                          0   \n",
       "1                           0                          0   \n",
       "\n",
       "   AMT_REQ_CREDIT_BUREAU_QRT  AMT_REQ_CREDIT_BUREAU_YEAR  Cash  Credit Card  \\\n",
       "0                          0                           2     1            0   \n",
       "1                          0                           0     1            0   \n",
       "\n",
       "   F  M  XNA  Academic degree  Higher education  Incomplete higher  \\\n",
       "0  0  1    0                0                 0                  0   \n",
       "1  1  0    0                0                 0                  0   \n",
       "\n",
       "   Lower secondary  Secondary / secondary special  Civil marriage  Married  \\\n",
       "0                0                              1               0        1   \n",
       "1                0                              1               0        1   \n",
       "\n",
       "   Separated  Single / not married  Unknown  Widow  target  \n",
       "0          0                     0        0      0       0  \n",
       "1          0                     0        0      0       1  "
      ]
     },
     "execution_count": 338,
     "metadata": {},
     "output_type": "execute_result"
    }
   ],
   "source": [
    "train_data_target_1 = train_data.loc[train_data['target'] == 1]\n",
    "train_data_balansing = train_data\n",
    "for i in range (0,5):\n",
    "    train_data_balansing = pd.concat([train_data_balansing, train_data_target_1], axis=0)\n",
    "train_data_balansing.head(2)"
   ]
  },
  {
   "cell_type": "code",
   "execution_count": 339,
   "metadata": {},
   "outputs": [
    {
     "data": {
      "text/plain": [
       "0    101196\n",
       "1     53382\n",
       "Name: target, dtype: int64"
      ]
     },
     "execution_count": 339,
     "metadata": {},
     "output_type": "execute_result"
    }
   ],
   "source": [
    "train_data_balansing['target'].value_counts()"
   ]
  },
  {
   "cell_type": "code",
   "execution_count": 340,
   "metadata": {},
   "outputs": [],
   "source": [
    "train_target = train_data_balansing['target']\n",
    "train_data = train_data_balansing.copy()\n",
    "train_data = train_data.drop(['target'], axis = 'columns')"
   ]
  },
  {
   "cell_type": "code",
   "execution_count": null,
   "metadata": {},
   "outputs": [],
   "source": []
  },
  {
   "cell_type": "code",
   "execution_count": 341,
   "metadata": {},
   "outputs": [],
   "source": [
    "train_data['fraction_salary'] = train_data['TOTAL_SALARY'] / train_data['FAMILY_SIZE']\n",
    "train_data['fraction_salary_1'] = train_data['TOTAL_SALARY'] / (train_data['CHILDRENS'] + 1)\n",
    "train_data['fraction_salary_2'] = train_data['TOTAL_SALARY'] / train_data['AMOUNT_ANNUITY']\n",
    "train_data['fraction_1'] = train_data['AMOUNT_CREDIT'] / train_data['AMOUNT_ANNUITY']\n",
    "\n",
    "test_data['fraction_salary'] = test_data['TOTAL_SALARY'] / test_data['FAMILY_SIZE']\n",
    "test_data['fraction_salary_1'] = test_data['TOTAL_SALARY'] / (test_data['CHILDRENS'] + 1)\n",
    "test_data['fraction_salary_2'] = test_data['TOTAL_SALARY'] / test_data['AMOUNT_ANNUITY']\n",
    "test_data['fraction_1'] = test_data['AMOUNT_CREDIT'] / test_data['AMOUNT_ANNUITY']"
   ]
  },
  {
   "cell_type": "code",
   "execution_count": null,
   "metadata": {},
   "outputs": [],
   "source": []
  },
  {
   "cell_type": "code",
   "execution_count": 342,
   "metadata": {},
   "outputs": [],
   "source": [
    "train_data = train_data.drop(['XNA', 'Unknown', 'Academic degree', 'FLAG_EMAIL', 'AMT_REQ_CREDIT_BUREAU_DAY', \n",
    "                              'AMT_REQ_CREDIT_BUREAU_HOUR', 'Civil marriage', 'Widow', 'Separated', \n",
    "                              'AMT_REQ_CREDIT_BUREAU_WEEK', 'Lower secondary', 'Incomplete higher'], axis = 'columns')\n",
    "\n",
    "test_data = test_data.drop(['XNA', 'Unknown', 'Academic degree', 'FLAG_EMAIL', 'AMT_REQ_CREDIT_BUREAU_DAY', \n",
    "                              'AMT_REQ_CREDIT_BUREAU_HOUR', 'Civil marriage', 'Widow', 'Separated', \n",
    "                              'AMT_REQ_CREDIT_BUREAU_WEEK', 'Lower secondary', 'Incomplete higher'], axis = 'columns')"
   ]
  },
  {
   "cell_type": "code",
   "execution_count": null,
   "metadata": {},
   "outputs": [],
   "source": []
  },
  {
   "cell_type": "code",
   "execution_count": 343,
   "metadata": {},
   "outputs": [],
   "source": [
    "pca = PCA(n_components=1)\n",
    "N_1 = pca.fit_transform(train_data.loc[:,['CHILDRENS', 'FAMILY_SIZE']].values)\n",
    "pca.explained_variance_ratio_[:2].sum()  # 0.9387\n",
    "\n",
    "train_data['N_1'] = N_1\n",
    "#train_data = train_data.drop(['CHILDRENS', 'FAMILY_SIZE'], axis = 'columns')\n",
    "\n",
    "N_1 = pca.transform(test_data.loc[:,['CHILDRENS', 'FAMILY_SIZE']].values)\n",
    "test_data['N_1'] = N_1\n",
    "#test_data = test_data.drop(['CHILDRENS', 'FAMILY_SIZE'], axis = 'columns')\n",
    "\n",
    "pca = PCA(n_components=1)\n",
    "N_2 = pca.fit_transform(train_data.loc[:,['AMOUNT_ANNUITY', 'AMOUNT_CREDIT']].values)\n",
    "pca.explained_variance_ratio_[:2].sum()  # 0.99946\n",
    "\n",
    "train_data['N_2'] = N_2\n",
    "#train_data = train_data.drop(['AMOUNT_ANNUITY', 'AMOUNT_CREDIT'], axis = 'columns')\n",
    "\n",
    "N_2 = pca.transform(test_data.loc[:,['AMOUNT_ANNUITY', 'AMOUNT_CREDIT']].values)\n",
    "test_data['N_2'] = N_2\n",
    "#test_data = test_data.drop(['AMOUNT_ANNUITY', 'AMOUNT_CREDIT'], axis = 'columns')\n",
    "\n",
    "pca = PCA(n_components=1)\n",
    "N_3 = pca.fit_transform(train_data.loc[:,['DAYS_ON_LAST_JOB', 'AGE']].values)\n",
    "pca.explained_variance_ratio_[:2].sum()  # 0.99935\n",
    "\n",
    "train_data['N_3'] = N_3\n",
    "#train_data = train_data.drop(['DAYS_ON_LAST_JOB', 'AGE'], axis = 'columns')\n",
    "\n",
    "N_3 = pca.transform(test_data.loc[:,['DAYS_ON_LAST_JOB', 'AGE']].values)\n",
    "test_data['N_3'] = N_3\n",
    "#test_data = test_data.drop(['DAYS_ON_LAST_JOB', 'AGE'], axis = 'columns')"
   ]
  },
  {
   "cell_type": "code",
   "execution_count": 344,
   "metadata": {},
   "outputs": [],
   "source": [
    "train_data[\"DAYS_ON_LAST_JOB\"] = train_data[\"DAYS_ON_LAST_JOB\"].replace(365243, np.nan)\n",
    "test_data[\"DAYS_ON_LAST_JOB\"] = test_data[\"DAYS_ON_LAST_JOB\"].replace(365243, np.nan)"
   ]
  },
  {
   "cell_type": "code",
   "execution_count": 345,
   "metadata": {},
   "outputs": [],
   "source": [
    "bki_flags = [flag for flag in train_data.columns if \"AMT_REQ_CREDIT_BUREAU\" in flag]\n",
    "train_data[\"bki_requests_count\"] = train_data[bki_flags].sum(axis=1)\n",
    "\n",
    "bki_flags = [flag for flag in test_data.columns if \"AMT_REQ_CREDIT_BUREAU\" in flag]\n",
    "test_data[\"bki_requests_count\"] = test_data[bki_flags].sum(axis=1)"
   ]
  },
  {
   "cell_type": "code",
   "execution_count": 346,
   "metadata": {},
   "outputs": [],
   "source": [
    "train_data[\"external_scoring_prod\"] = train_data[\"EXTERNAL_SCORING_RATING_1\"] * train_data[\"EXTERNAL_SCORING_RATING_2\"] * train_data[\"EXTERNAL_SCORING_RATING_3\"]\n",
    "train_data[\"external_scoring_weighted\"] = train_data.EXTERNAL_SCORING_RATING_1 * 2 + train_data.EXTERNAL_SCORING_RATING_2 * 1 + train_data.EXTERNAL_SCORING_RATING_3 * 3\n",
    "\n",
    "\n",
    "test_data[\"external_scoring_prod\"] = test_data[\"EXTERNAL_SCORING_RATING_1\"] * test_data[\"EXTERNAL_SCORING_RATING_2\"] * test_data[\"EXTERNAL_SCORING_RATING_3\"]\n",
    "test_data[\"external_scoring_weighted\"] = test_data.EXTERNAL_SCORING_RATING_1 * 2 + test_data.EXTERNAL_SCORING_RATING_2 * 1 + test_data.EXTERNAL_SCORING_RATING_3 * 3\n"
   ]
  },
  {
   "cell_type": "code",
   "execution_count": 347,
   "metadata": {},
   "outputs": [],
   "source": [
    "for function_name in [\"min\", \"max\", \"mean\", \"nanmedian\", \"var\"]:\n",
    "    feature_name = \"EXTERNAL_SCORING_RATING_{}\".format(function_name)\n",
    "    train_data[feature_name] = eval(\"np.{}\".format(function_name))(\n",
    "        train_data[[\"EXTERNAL_SCORING_RATING_1\", \"EXTERNAL_SCORING_RATING_2\", \"EXTERNAL_SCORING_RATING_3\"]], axis=1\n",
    "    )\n",
    "    \n",
    "for function_name in [\"min\", \"max\", \"mean\", \"nanmedian\", \"var\"]:\n",
    "    feature_name = \"EXTERNAL_SCORING_RATING_{}\".format(function_name)\n",
    "    test_data[feature_name] = eval(\"np.{}\".format(function_name))(\n",
    "        test_data[[\"EXTERNAL_SCORING_RATING_1\", \"EXTERNAL_SCORING_RATING_2\", \"EXTERNAL_SCORING_RATING_3\"]], axis=1\n",
    "    )"
   ]
  },
  {
   "cell_type": "code",
   "execution_count": null,
   "metadata": {},
   "outputs": [],
   "source": []
  },
  {
   "cell_type": "code",
   "execution_count": null,
   "metadata": {},
   "outputs": [],
   "source": []
  },
  {
   "cell_type": "code",
   "execution_count": null,
   "metadata": {},
   "outputs": [],
   "source": []
  },
  {
   "cell_type": "code",
   "execution_count": 348,
   "metadata": {},
   "outputs": [
    {
     "name": "stdout",
     "output_type": "stream",
     "text": [
      "0:\ttest: 0.6866944\tbest: 0.6866944 (0)\ttotal: 47.3ms\tremaining: 28.3s\n",
      "10:\ttest: 0.7031750\tbest: 0.7031750 (10)\ttotal: 572ms\tremaining: 30.6s\n",
      "20:\ttest: 0.7058234\tbest: 0.7058234 (20)\ttotal: 1.09s\tremaining: 30.1s\n",
      "30:\ttest: 0.7090464\tbest: 0.7090464 (30)\ttotal: 1.62s\tremaining: 29.7s\n",
      "40:\ttest: 0.7125257\tbest: 0.7125257 (40)\ttotal: 2.25s\tremaining: 30.6s\n",
      "50:\ttest: 0.7152192\tbest: 0.7152192 (50)\ttotal: 2.78s\tremaining: 30s\n",
      "60:\ttest: 0.7177671\tbest: 0.7177671 (60)\ttotal: 3.29s\tremaining: 29.1s\n",
      "70:\ttest: 0.7204792\tbest: 0.7204792 (70)\ttotal: 3.83s\tremaining: 28.5s\n",
      "80:\ttest: 0.7225426\tbest: 0.7225426 (80)\ttotal: 4.33s\tremaining: 27.8s\n",
      "90:\ttest: 0.7244990\tbest: 0.7244990 (90)\ttotal: 4.86s\tremaining: 27.2s\n",
      "100:\ttest: 0.7263535\tbest: 0.7263535 (100)\ttotal: 5.35s\tremaining: 26.5s\n",
      "110:\ttest: 0.7276757\tbest: 0.7276757 (110)\ttotal: 5.85s\tremaining: 25.8s\n",
      "120:\ttest: 0.7295706\tbest: 0.7295706 (120)\ttotal: 6.35s\tremaining: 25.1s\n",
      "130:\ttest: 0.7309909\tbest: 0.7309909 (130)\ttotal: 6.87s\tremaining: 24.6s\n",
      "140:\ttest: 0.7322687\tbest: 0.7322687 (140)\ttotal: 7.37s\tremaining: 24s\n",
      "150:\ttest: 0.7334156\tbest: 0.7334156 (150)\ttotal: 7.99s\tremaining: 23.8s\n",
      "160:\ttest: 0.7344346\tbest: 0.7344346 (160)\ttotal: 8.5s\tremaining: 23.2s\n",
      "170:\ttest: 0.7355477\tbest: 0.7355477 (170)\ttotal: 9.01s\tremaining: 22.6s\n",
      "180:\ttest: 0.7365460\tbest: 0.7365611 (179)\ttotal: 9.52s\tremaining: 22s\n",
      "190:\ttest: 0.7374450\tbest: 0.7374450 (190)\ttotal: 10s\tremaining: 21.5s\n",
      "200:\ttest: 0.7382227\tbest: 0.7382227 (200)\ttotal: 10.5s\tremaining: 20.9s\n",
      "210:\ttest: 0.7393169\tbest: 0.7393278 (209)\ttotal: 11s\tremaining: 20.3s\n",
      "220:\ttest: 0.7401526\tbest: 0.7401526 (220)\ttotal: 11.5s\tremaining: 19.7s\n",
      "230:\ttest: 0.7411294\tbest: 0.7411294 (230)\ttotal: 12s\tremaining: 19.1s\n",
      "240:\ttest: 0.7420541\tbest: 0.7420541 (240)\ttotal: 12.5s\tremaining: 18.6s\n",
      "250:\ttest: 0.7427968\tbest: 0.7428022 (249)\ttotal: 13s\tremaining: 18.1s\n",
      "260:\ttest: 0.7437237\tbest: 0.7437237 (260)\ttotal: 13.6s\tremaining: 17.7s\n",
      "270:\ttest: 0.7445923\tbest: 0.7445923 (270)\ttotal: 14.2s\tremaining: 17.2s\n",
      "280:\ttest: 0.7456153\tbest: 0.7456153 (280)\ttotal: 14.7s\tremaining: 16.7s\n",
      "290:\ttest: 0.7462891\tbest: 0.7462891 (290)\ttotal: 15.2s\tremaining: 16.1s\n",
      "300:\ttest: 0.7472481\tbest: 0.7472481 (300)\ttotal: 15.7s\tremaining: 15.6s\n",
      "310:\ttest: 0.7481696\tbest: 0.7481696 (310)\ttotal: 16.3s\tremaining: 15.1s\n",
      "320:\ttest: 0.7490661\tbest: 0.7490661 (320)\ttotal: 16.8s\tremaining: 14.6s\n",
      "330:\ttest: 0.7499359\tbest: 0.7499359 (330)\ttotal: 17.3s\tremaining: 14.1s\n",
      "340:\ttest: 0.7507644\tbest: 0.7507644 (340)\ttotal: 17.9s\tremaining: 13.6s\n",
      "350:\ttest: 0.7516275\tbest: 0.7516275 (350)\ttotal: 18.5s\tremaining: 13.1s\n",
      "360:\ttest: 0.7524444\tbest: 0.7524444 (360)\ttotal: 19.1s\tremaining: 12.7s\n",
      "370:\ttest: 0.7533147\tbest: 0.7533147 (370)\ttotal: 19.7s\tremaining: 12.2s\n",
      "380:\ttest: 0.7540195\tbest: 0.7540195 (380)\ttotal: 20.3s\tremaining: 11.6s\n",
      "390:\ttest: 0.7550011\tbest: 0.7550011 (390)\ttotal: 20.8s\tremaining: 11.1s\n",
      "400:\ttest: 0.7558988\tbest: 0.7558988 (400)\ttotal: 21.3s\tremaining: 10.6s\n",
      "410:\ttest: 0.7567147\tbest: 0.7567147 (410)\ttotal: 21.8s\tremaining: 10s\n",
      "420:\ttest: 0.7575266\tbest: 0.7575266 (420)\ttotal: 22.3s\tremaining: 9.48s\n",
      "430:\ttest: 0.7584171\tbest: 0.7584171 (430)\ttotal: 22.8s\tremaining: 8.94s\n",
      "440:\ttest: 0.7593385\tbest: 0.7593385 (440)\ttotal: 23.3s\tremaining: 8.41s\n",
      "450:\ttest: 0.7602603\tbest: 0.7602603 (450)\ttotal: 23.8s\tremaining: 7.87s\n",
      "460:\ttest: 0.7611462\tbest: 0.7611462 (460)\ttotal: 24.4s\tremaining: 7.36s\n",
      "470:\ttest: 0.7620525\tbest: 0.7620525 (470)\ttotal: 25s\tremaining: 6.85s\n",
      "480:\ttest: 0.7629317\tbest: 0.7629317 (480)\ttotal: 25.5s\tremaining: 6.31s\n",
      "490:\ttest: 0.7635879\tbest: 0.7635879 (490)\ttotal: 26s\tremaining: 5.77s\n",
      "500:\ttest: 0.7643524\tbest: 0.7643524 (500)\ttotal: 26.6s\tremaining: 5.25s\n",
      "510:\ttest: 0.7653048\tbest: 0.7653048 (510)\ttotal: 27.1s\tremaining: 4.71s\n",
      "520:\ttest: 0.7661693\tbest: 0.7661693 (520)\ttotal: 27.6s\tremaining: 4.18s\n",
      "530:\ttest: 0.7670160\tbest: 0.7670160 (530)\ttotal: 28.1s\tremaining: 3.65s\n",
      "540:\ttest: 0.7679155\tbest: 0.7679155 (540)\ttotal: 28.6s\tremaining: 3.12s\n",
      "550:\ttest: 0.7687721\tbest: 0.7687721 (550)\ttotal: 29.2s\tremaining: 2.6s\n",
      "560:\ttest: 0.7695257\tbest: 0.7695257 (560)\ttotal: 29.7s\tremaining: 2.07s\n",
      "570:\ttest: 0.7702967\tbest: 0.7702967 (570)\ttotal: 30.3s\tremaining: 1.54s\n",
      "580:\ttest: 0.7709818\tbest: 0.7709818 (580)\ttotal: 30.9s\tremaining: 1.01s\n",
      "590:\ttest: 0.7716226\tbest: 0.7716226 (590)\ttotal: 31.4s\tremaining: 479ms\n",
      "599:\ttest: 0.7723639\tbest: 0.7723639 (599)\ttotal: 31.9s\tremaining: 0us\n",
      "\n",
      "bestTest = 0.7723639374\n",
      "bestIteration = 599\n",
      "\n"
     ]
    },
    {
     "data": {
      "text/plain": [
       "<catboost.core.CatBoostClassifier at 0x7fe29309c3a0>"
      ]
     },
     "execution_count": 348,
     "metadata": {},
     "output_type": "execute_result"
    }
   ],
   "source": [
    "x_train, x_valid, y_train, y_valid = train_test_split(train_data, train_target, test_size=0.30)\n",
    "\n",
    "cb_params = {\n",
    "    \"n_estimators\": 600,\n",
    "    \"loss_function\": \"Logloss\",\n",
    "    \"eval_metric\": \"AUC\",\n",
    "    \"task_type\": \"CPU\",\n",
    "    \"max_bin\": 20,\n",
    "    \"verbose\": 10,\n",
    "    \"max_depth\": 7,\n",
    "    \"l2_leaf_reg\": 100,\n",
    "    \"early_stopping_rounds\": 50,\n",
    "    \"thread_count\": 6,\n",
    "    \"random_seed\": 42,\n",
    "}\n",
    "\n",
    "\n",
    "#cb_params = {\n",
    "#    \"n_estimators\": 2000,\n",
    "#    \"learning_rate\": 0.01,\n",
    "#    \"loss_function\": \"Logloss\",\n",
    "#    \"eval_metric\": \"AUC\",\n",
    "#    \"task_type\": \"CPU\",\n",
    "#    \"verbose\": 50,\n",
    "#    \"max_depth\": 6,\n",
    "#    \"l2_leaf_reg\": 10,\n",
    "#    \"early_stopping_rounds\": 50,\n",
    "#    \"thread_count\": 6,\n",
    "#    \"random_seed\": 42,\n",
    "#}\n",
    "\n",
    "\n",
    "\n",
    "model = catb.CatBoostClassifier(**cb_params)\n",
    "model.fit(X = x_train, y = y_train, eval_set=[(x_valid, y_valid)])\n",
    "\n",
    "# 'max_depth': 7  600\n",
    "#(0.8465619471057402, {'n_estimators': 900, 'max_depth': 9})\n"
   ]
  },
  {
   "cell_type": "code",
   "execution_count": 349,
   "metadata": {},
   "outputs": [
    {
     "name": "stdout",
     "output_type": "stream",
     "text": [
      "Train-score: 0.79, Valid-score: 0.772)\n"
     ]
    }
   ],
   "source": [
    "train_score = roc_auc_score(y_train, model.predict(x_train, prediction_type = \"Probability\")[:,1])\n",
    "valid_score = roc_auc_score(y_valid, model.predict(x_valid, prediction_type = \"Probability\")[:,1])\n",
    "\n",
    "print(f\"Train-score: {round(train_score, 3)}, Valid-score: {round(valid_score, 3)})\")\n",
    "\n",
    "#Train-score: 0.79, Valid-score: 0.769)\n",
    "#Train-score: 0.756, Valid-score: 0.746)"
   ]
  },
  {
   "cell_type": "code",
   "execution_count": null,
   "metadata": {},
   "outputs": [],
   "source": []
  },
  {
   "cell_type": "code",
   "execution_count": null,
   "metadata": {},
   "outputs": [],
   "source": []
  },
  {
   "cell_type": "code",
   "execution_count": 350,
   "metadata": {},
   "outputs": [
    {
     "data": {
      "text/html": [
       "<div>\n",
       "<style scoped>\n",
       "    .dataframe tbody tr th:only-of-type {\n",
       "        vertical-align: middle;\n",
       "    }\n",
       "\n",
       "    .dataframe tbody tr th {\n",
       "        vertical-align: top;\n",
       "    }\n",
       "\n",
       "    .dataframe thead th {\n",
       "        text-align: right;\n",
       "    }\n",
       "</style>\n",
       "<table border=\"1\" class=\"dataframe\">\n",
       "  <thead>\n",
       "    <tr style=\"text-align: right;\">\n",
       "      <th></th>\n",
       "      <th>APPLICATION_NUMBER</th>\n",
       "      <th>TARGET</th>\n",
       "    </tr>\n",
       "  </thead>\n",
       "  <tbody>\n",
       "    <tr>\n",
       "      <th>0</th>\n",
       "      <td>123724268</td>\n",
       "      <td>0.219567</td>\n",
       "    </tr>\n",
       "    <tr>\n",
       "      <th>1</th>\n",
       "      <td>123456549</td>\n",
       "      <td>0.694210</td>\n",
       "    </tr>\n",
       "    <tr>\n",
       "      <th>2</th>\n",
       "      <td>123428178</td>\n",
       "      <td>0.508445</td>\n",
       "    </tr>\n",
       "    <tr>\n",
       "      <th>3</th>\n",
       "      <td>123619984</td>\n",
       "      <td>0.357379</td>\n",
       "    </tr>\n",
       "    <tr>\n",
       "      <th>4</th>\n",
       "      <td>123671104</td>\n",
       "      <td>0.088199</td>\n",
       "    </tr>\n",
       "  </tbody>\n",
       "</table>\n",
       "</div>"
      ],
      "text/plain": [
       "   APPLICATION_NUMBER    TARGET\n",
       "0           123724268  0.219567\n",
       "1           123456549  0.694210\n",
       "2           123428178  0.508445\n",
       "3           123619984  0.357379\n",
       "4           123671104  0.088199"
      ]
     },
     "execution_count": 350,
     "metadata": {},
     "output_type": "execute_result"
    }
   ],
   "source": [
    "y_pred_test = model.predict(test_data, prediction_type =  \"Probability\")[:,1]\n",
    "result_test = pd.DataFrame({\n",
    "    \"APPLICATION_NUMBER\": test_data['APPLICATION_NUMBER'],\n",
    "    \"TARGET\": y_pred_test.flatten(),})\n",
    "result_test.head()"
   ]
  },
  {
   "cell_type": "code",
   "execution_count": 351,
   "metadata": {},
   "outputs": [],
   "source": [
    "#filename = 'Vodorezova.csv'\n",
    "#result_test.to_csv(filename, index=None)\n",
    "# 72595\n",
    "# 72593"
   ]
  },
  {
   "cell_type": "code",
   "execution_count": null,
   "metadata": {},
   "outputs": [],
   "source": []
  },
  {
   "cell_type": "code",
   "execution_count": 352,
   "metadata": {},
   "outputs": [
    {
     "data": {
      "text/html": [
       "<div>\n",
       "<style scoped>\n",
       "    .dataframe tbody tr th:only-of-type {\n",
       "        vertical-align: middle;\n",
       "    }\n",
       "\n",
       "    .dataframe tbody tr th {\n",
       "        vertical-align: top;\n",
       "    }\n",
       "\n",
       "    .dataframe thead th {\n",
       "        text-align: right;\n",
       "    }\n",
       "</style>\n",
       "<table border=\"1\" class=\"dataframe\">\n",
       "  <thead>\n",
       "    <tr style=\"text-align: right;\">\n",
       "      <th></th>\n",
       "      <th>APPLICATION_NUMBER</th>\n",
       "      <th>CHILDRENS</th>\n",
       "      <th>TOTAL_SALARY</th>\n",
       "      <th>AMOUNT_CREDIT</th>\n",
       "      <th>AMOUNT_ANNUITY</th>\n",
       "      <th>REGION_POPULATION</th>\n",
       "      <th>AGE</th>\n",
       "      <th>DAYS_ON_LAST_JOB</th>\n",
       "      <th>OWN_CAR_AGE</th>\n",
       "      <th>FLAG_PHONE</th>\n",
       "      <th>FAMILY_SIZE</th>\n",
       "      <th>EXTERNAL_SCORING_RATING_1</th>\n",
       "      <th>EXTERNAL_SCORING_RATING_2</th>\n",
       "      <th>EXTERNAL_SCORING_RATING_3</th>\n",
       "      <th>AMT_REQ_CREDIT_BUREAU_MON</th>\n",
       "      <th>AMT_REQ_CREDIT_BUREAU_QRT</th>\n",
       "      <th>AMT_REQ_CREDIT_BUREAU_YEAR</th>\n",
       "      <th>Cash</th>\n",
       "      <th>Credit Card</th>\n",
       "      <th>F</th>\n",
       "      <th>M</th>\n",
       "      <th>Higher education</th>\n",
       "      <th>Secondary / secondary special</th>\n",
       "      <th>Married</th>\n",
       "      <th>Single / not married</th>\n",
       "      <th>fraction_salary</th>\n",
       "      <th>fraction_salary_1</th>\n",
       "      <th>fraction_salary_2</th>\n",
       "      <th>fraction_1</th>\n",
       "      <th>N_1</th>\n",
       "      <th>N_2</th>\n",
       "      <th>N_3</th>\n",
       "      <th>bki_requests_count</th>\n",
       "      <th>external_scoring_prod</th>\n",
       "      <th>external_scoring_weighted</th>\n",
       "      <th>EXTERNAL_SCORING_RATING_min</th>\n",
       "      <th>EXTERNAL_SCORING_RATING_max</th>\n",
       "      <th>EXTERNAL_SCORING_RATING_mean</th>\n",
       "      <th>EXTERNAL_SCORING_RATING_nanmedian</th>\n",
       "      <th>EXTERNAL_SCORING_RATING_var</th>\n",
       "    </tr>\n",
       "  </thead>\n",
       "  <tbody>\n",
       "    <tr>\n",
       "      <th>0</th>\n",
       "      <td>123687442</td>\n",
       "      <td>1</td>\n",
       "      <td>157500</td>\n",
       "      <td>855000</td>\n",
       "      <td>25128</td>\n",
       "      <td>0.019101</td>\n",
       "      <td>15728</td>\n",
       "      <td>1719.0</td>\n",
       "      <td>11</td>\n",
       "      <td>0</td>\n",
       "      <td>3</td>\n",
       "      <td>0.700784</td>\n",
       "      <td>0.645914</td>\n",
       "      <td>0.71657</td>\n",
       "      <td>0</td>\n",
       "      <td>0</td>\n",
       "      <td>2</td>\n",
       "      <td>1</td>\n",
       "      <td>0</td>\n",
       "      <td>0</td>\n",
       "      <td>1</td>\n",
       "      <td>0</td>\n",
       "      <td>1</td>\n",
       "      <td>1</td>\n",
       "      <td>0</td>\n",
       "      <td>52500.0</td>\n",
       "      <td>78750.0</td>\n",
       "      <td>6.267908</td>\n",
       "      <td>34.025788</td>\n",
       "      <td>1.076108</td>\n",
       "      <td>279859.244154</td>\n",
       "      <td>-47826.195646</td>\n",
       "      <td>2</td>\n",
       "      <td>0.324353</td>\n",
       "      <td>4.197193</td>\n",
       "      <td>0.645914</td>\n",
       "      <td>0.71657</td>\n",
       "      <td>0.687756</td>\n",
       "      <td>0.700784</td>\n",
       "      <td>0.000917</td>\n",
       "    </tr>\n",
       "    <tr>\n",
       "      <th>1</th>\n",
       "      <td>123597908</td>\n",
       "      <td>0</td>\n",
       "      <td>148500</td>\n",
       "      <td>517788</td>\n",
       "      <td>24903</td>\n",
       "      <td>0.035792</td>\n",
       "      <td>15728</td>\n",
       "      <td>2206.0</td>\n",
       "      <td>7</td>\n",
       "      <td>0</td>\n",
       "      <td>2</td>\n",
       "      <td>0.285593</td>\n",
       "      <td>0.285898</td>\n",
       "      <td>0.74630</td>\n",
       "      <td>0</td>\n",
       "      <td>0</td>\n",
       "      <td>0</td>\n",
       "      <td>1</td>\n",
       "      <td>0</td>\n",
       "      <td>1</td>\n",
       "      <td>0</td>\n",
       "      <td>0</td>\n",
       "      <td>1</td>\n",
       "      <td>1</td>\n",
       "      <td>0</td>\n",
       "      <td>74250.0</td>\n",
       "      <td>148500.0</td>\n",
       "      <td>5.963137</td>\n",
       "      <td>20.792194</td>\n",
       "      <td>-0.329126</td>\n",
       "      <td>-57230.937289</td>\n",
       "      <td>-47339.286647</td>\n",
       "      <td>0</td>\n",
       "      <td>0.060936</td>\n",
       "      <td>3.095985</td>\n",
       "      <td>0.285593</td>\n",
       "      <td>0.74630</td>\n",
       "      <td>0.439264</td>\n",
       "      <td>0.285898</td>\n",
       "      <td>0.047136</td>\n",
       "    </tr>\n",
       "  </tbody>\n",
       "</table>\n",
       "</div>"
      ],
      "text/plain": [
       "   APPLICATION_NUMBER  CHILDRENS  TOTAL_SALARY  AMOUNT_CREDIT  AMOUNT_ANNUITY  \\\n",
       "0           123687442          1        157500         855000           25128   \n",
       "1           123597908          0        148500         517788           24903   \n",
       "\n",
       "   REGION_POPULATION    AGE  DAYS_ON_LAST_JOB  OWN_CAR_AGE  FLAG_PHONE  \\\n",
       "0           0.019101  15728            1719.0           11           0   \n",
       "1           0.035792  15728            2206.0            7           0   \n",
       "\n",
       "   FAMILY_SIZE  EXTERNAL_SCORING_RATING_1  EXTERNAL_SCORING_RATING_2  \\\n",
       "0            3                   0.700784                   0.645914   \n",
       "1            2                   0.285593                   0.285898   \n",
       "\n",
       "   EXTERNAL_SCORING_RATING_3  AMT_REQ_CREDIT_BUREAU_MON  \\\n",
       "0                    0.71657                          0   \n",
       "1                    0.74630                          0   \n",
       "\n",
       "   AMT_REQ_CREDIT_BUREAU_QRT  AMT_REQ_CREDIT_BUREAU_YEAR  Cash  Credit Card  \\\n",
       "0                          0                           2     1            0   \n",
       "1                          0                           0     1            0   \n",
       "\n",
       "   F  M  Higher education  Secondary / secondary special  Married  \\\n",
       "0  0  1                 0                              1        1   \n",
       "1  1  0                 0                              1        1   \n",
       "\n",
       "   Single / not married  fraction_salary  fraction_salary_1  \\\n",
       "0                     0          52500.0            78750.0   \n",
       "1                     0          74250.0           148500.0   \n",
       "\n",
       "   fraction_salary_2  fraction_1       N_1            N_2           N_3  \\\n",
       "0           6.267908   34.025788  1.076108  279859.244154 -47826.195646   \n",
       "1           5.963137   20.792194 -0.329126  -57230.937289 -47339.286647   \n",
       "\n",
       "   bki_requests_count  external_scoring_prod  external_scoring_weighted  \\\n",
       "0                   2               0.324353                   4.197193   \n",
       "1                   0               0.060936                   3.095985   \n",
       "\n",
       "   EXTERNAL_SCORING_RATING_min  EXTERNAL_SCORING_RATING_max  \\\n",
       "0                     0.645914                      0.71657   \n",
       "1                     0.285593                      0.74630   \n",
       "\n",
       "   EXTERNAL_SCORING_RATING_mean  EXTERNAL_SCORING_RATING_nanmedian  \\\n",
       "0                      0.687756                           0.700784   \n",
       "1                      0.439264                           0.285898   \n",
       "\n",
       "   EXTERNAL_SCORING_RATING_var  \n",
       "0                     0.000917  \n",
       "1                     0.047136  "
      ]
     },
     "execution_count": 352,
     "metadata": {},
     "output_type": "execute_result"
    }
   ],
   "source": [
    "train_data.head(2)"
   ]
  },
  {
   "cell_type": "code",
   "execution_count": null,
   "metadata": {},
   "outputs": [],
   "source": []
  },
  {
   "cell_type": "code",
   "execution_count": 353,
   "metadata": {},
   "outputs": [
    {
     "data": {
      "text/plain": [
       "<matplotlib.axes._subplots.AxesSubplot at 0x7fe293a786d0>"
      ]
     },
     "execution_count": 353,
     "metadata": {},
     "output_type": "execute_result"
    },
    {
     "data": {
      "image/png": "[encoded data removed]",
      "text/plain": [
       "<Figure size 1440x576 with 1 Axes>"
      ]
     },
     "metadata": {
      "needs_background": "light"
     },
     "output_type": "display_data"
    }
   ],
   "source": [
    "rank_feature_importances_ = model.feature_importances_\n",
    "\n",
    "train_feature_importances = pd.DataFrame(rank_feature_importances_, train_data.columns)\n",
    "train_feature_importances.reset_index(inplace=True)\n",
    "train_feature_importances = train_feature_importances.rename(columns={'index': 'name', 0: 'rank'}) \n",
    "train_feature_importances.sort_values(by=\"rank\", inplace=True, ascending = False)\n",
    "\n",
    "plt.figure(figsize = ([20,8]))\n",
    "sns.barplot(train_feature_importances['rank'], train_feature_importances['name'])"
   ]
  },
  {
   "cell_type": "code",
   "execution_count": 354,
   "metadata": {},
   "outputs": [
    {
     "data": {
      "text/plain": [
       "28                           fraction_1\n",
       "6                                   AGE\n",
       "33                external_scoring_prod\n",
       "13            EXTERNAL_SCORING_RATING_3\n",
       "31                                  N_3\n",
       "36          EXTERNAL_SCORING_RATING_max\n",
       "8                           OWN_CAR_AGE\n",
       "37         EXTERNAL_SCORING_RATING_mean\n",
       "12            EXTERNAL_SCORING_RATING_2\n",
       "5                     REGION_POPULATION\n",
       "38    EXTERNAL_SCORING_RATING_nanmedian\n",
       "11            EXTERNAL_SCORING_RATING_1\n",
       "4                        AMOUNT_ANNUITY\n",
       "16           AMT_REQ_CREDIT_BUREAU_YEAR\n",
       "7                      DAYS_ON_LAST_JOB\n",
       "0                    APPLICATION_NUMBER\n",
       "27                    fraction_salary_2\n",
       "35          EXTERNAL_SCORING_RATING_min\n",
       "25                      fraction_salary\n",
       "21                     Higher education\n",
       "34            external_scoring_weighted\n",
       "2                          TOTAL_SALARY\n",
       "3                         AMOUNT_CREDIT\n",
       "39          EXTERNAL_SCORING_RATING_var\n",
       "32                   bki_requests_count\n",
       "23                              Married\n",
       "26                    fraction_salary_1\n",
       "30                                  N_2\n",
       "15            AMT_REQ_CREDIT_BUREAU_QRT\n",
       "19                                    F\n",
       "20                                    M\n",
       "18                          Credit Card\n",
       "17                                 Cash\n",
       "9                            FLAG_PHONE\n",
       "22        Secondary / secondary special\n",
       "29                                  N_1\n",
       "14            AMT_REQ_CREDIT_BUREAU_MON\n",
       "1                             CHILDRENS\n",
       "24                 Single / not married\n",
       "10                          FAMILY_SIZE\n",
       "Name: name, dtype: object"
      ]
     },
     "execution_count": 354,
     "metadata": {},
     "output_type": "execute_result"
    }
   ],
   "source": [
    "train_feature_importances['name']"
   ]
  },
  {
   "cell_type": "code",
   "execution_count": 355,
   "metadata": {},
   "outputs": [
    {
     "data": {
      "text/plain": [
       "['F',\n",
       " 'M',\n",
       " 'Credit Card',\n",
       " 'Cash',\n",
       " 'FLAG_PHONE',\n",
       " 'Secondary / secondary special',\n",
       " 'N_1',\n",
       " 'AMT_REQ_CREDIT_BUREAU_MON',\n",
       " 'CHILDRENS',\n",
       " 'Single / not married',\n",
       " 'FAMILY_SIZE']"
      ]
     },
     "execution_count": 355,
     "metadata": {},
     "output_type": "execute_result"
    }
   ],
   "source": [
    "list(train_feature_importances['name'].tail(11))"
   ]
  },
  {
   "cell_type": "code",
   "execution_count": null,
   "metadata": {},
   "outputs": [],
   "source": []
  },
  {
   "cell_type": "code",
   "execution_count": null,
   "metadata": {},
   "outputs": [],
   "source": []
  },
  {
   "cell_type": "code",
   "execution_count": 356,
   "metadata": {},
   "outputs": [],
   "source": [
    "#x_train, x_valid, y_train, y_valid = train_test_split(train_data, train_target, test_size=0.30)"
   ]
  },
  {
   "cell_type": "code",
   "execution_count": 357,
   "metadata": {},
   "outputs": [],
   "source": [
    "#73242\n",
    "#params = {\n",
    "#    \"booster\": \"gbtree\",\n",
    "#    \"objective\": \"binary:logistic\",\n",
    "#    \"eval_metric\": \"auc\",\n",
    "#    \"learning_rate\": 0.1,\n",
    "#    \"n_estimators\": 500,\n",
    "#    \"reg_lambda\": 100,\n",
    "#    \"max_depth\": 3,\n",
    "#    \"gamma\": 10,\n",
    "#    \"nthread\": 6,\n",
    "#    \"seed\": 27,\n",
    "#    'colsample_bytree': 0.555,\n",
    "#    'min_child_weights': 369\n",
    "#}\n",
    "\n",
    "\n",
    "# # 73278\n",
    "params = {\n",
    "    \"booster\": \"gbtree\",\n",
    "    \"objective\": \"binary:logistic\",\n",
    "    \"eval_metric\": \"auc\",\n",
    "    \"learning_rate\": 0.1,\n",
    "    \"n_estimators\": 500,\n",
    "    \"reg_lambda\": 100,\n",
    "    \"max_depth\": 4,\n",
    "    \"gamma\": 10,\n",
    "    \"nthread\": 6,\n",
    "    \"seed\": 27,\n",
    "    'colsample_bytree': 0.555,\n",
    "    'min_child_weights': 369\n",
    "}\n",
    "\n",
    "#params = {\n",
    "#    \"objective\": \"binary:logistic\",\n",
    "#    \"booster\": \"gbtree\",\n",
    "#    \"eval_metric\": \"auc\",\n",
    "#    \"eta\": \"0.05\",\n",
    "#    \"max_depth\": 6,\n",
    "#    \"gamma\": 0,\n",
    "#    \"subsample\": 0.85,\n",
    "#    \"colsample_bytree\": 0.7,\n",
    "#    \"colsample_bylevel\": 0.632,\n",
    "#    'min_child_weights': 30,\n",
    "#    \"alpha\": 0,\n",
    "#    \"lambda\": 0,\n",
    "#    'nthread': 6,\n",
    "#    'random_seed': 42,\n",
    "#}"
   ]
  },
  {
   "cell_type": "code",
   "execution_count": 358,
   "metadata": {},
   "outputs": [],
   "source": [
    "dtrain = xgb.DMatrix(\n",
    "    data=x_train, label=y_train\n",
    ")\n",
    "dvalid = xgb.DMatrix(\n",
    "    data=x_valid, label=y_valid\n",
    ")"
   ]
  },
  {
   "cell_type": "code",
   "execution_count": 359,
   "metadata": {},
   "outputs": [
    {
     "name": "stdout",
     "output_type": "stream",
     "text": [
      "[06:02:15] WARNING: ../src/learner.cc:516: \n",
      "Parameters: { min_child_weights, n_estimators } might not be used.\n",
      "\n",
      "  This may not be accurate due to some parameters are only used in language bindings but\n",
      "  passed down to XGBoost core.  Or some parameters are not used but slip through this\n",
      "  verification. Please open an issue if you find above cases.\n",
      "\n",
      "\n",
      "[0]\ttrain-auc:0.69014\tvalid-auc:0.68584\n",
      "Multiple eval metrics have been passed: 'valid-auc' will be used for early stopping.\n",
      "\n",
      "Will train until valid-auc hasn't improved in 50 rounds.\n",
      "[10]\ttrain-auc:0.71012\tvalid-auc:0.70484\n",
      "[20]\ttrain-auc:0.71789\tvalid-auc:0.71281\n",
      "[30]\ttrain-auc:0.72674\tvalid-auc:0.72144\n",
      "[40]\ttrain-auc:0.73198\tvalid-auc:0.72615\n",
      "[50]\ttrain-auc:0.73605\tvalid-auc:0.73008\n",
      "[60]\ttrain-auc:0.73863\tvalid-auc:0.73265\n",
      "[70]\ttrain-auc:0.74085\tvalid-auc:0.73472\n",
      "[80]\ttrain-auc:0.74273\tvalid-auc:0.73655\n",
      "[90]\ttrain-auc:0.74553\tvalid-auc:0.73883\n",
      "[100]\ttrain-auc:0.74684\tvalid-auc:0.74008\n",
      "[110]\ttrain-auc:0.74958\tvalid-auc:0.74214\n",
      "[120]\ttrain-auc:0.75165\tvalid-auc:0.74403\n",
      "[130]\ttrain-auc:0.75360\tvalid-auc:0.74547\n",
      "[140]\ttrain-auc:0.75523\tvalid-auc:0.74674\n",
      "[150]\ttrain-auc:0.75629\tvalid-auc:0.74779\n",
      "[160]\ttrain-auc:0.75814\tvalid-auc:0.74917\n",
      "[170]\ttrain-auc:0.75965\tvalid-auc:0.75044\n",
      "[180]\ttrain-auc:0.76094\tvalid-auc:0.75151\n",
      "[190]\ttrain-auc:0.76250\tvalid-auc:0.75281\n",
      "[200]\ttrain-auc:0.76338\tvalid-auc:0.75343\n",
      "[210]\ttrain-auc:0.76385\tvalid-auc:0.75367\n",
      "[220]\ttrain-auc:0.76412\tvalid-auc:0.75378\n",
      "[230]\ttrain-auc:0.76419\tvalid-auc:0.75383\n",
      "[240]\ttrain-auc:0.76424\tvalid-auc:0.75389\n",
      "[250]\ttrain-auc:0.76460\tvalid-auc:0.75408\n",
      "[260]\ttrain-auc:0.76508\tvalid-auc:0.75438\n",
      "[270]\ttrain-auc:0.76546\tvalid-auc:0.75470\n",
      "[280]\ttrain-auc:0.76601\tvalid-auc:0.75511\n",
      "[290]\ttrain-auc:0.76601\tvalid-auc:0.75511\n",
      "[300]\ttrain-auc:0.76636\tvalid-auc:0.75541\n",
      "[310]\ttrain-auc:0.76697\tvalid-auc:0.75587\n",
      "[320]\ttrain-auc:0.76701\tvalid-auc:0.75590\n",
      "[330]\ttrain-auc:0.76731\tvalid-auc:0.75610\n",
      "[340]\ttrain-auc:0.76780\tvalid-auc:0.75639\n",
      "[350]\ttrain-auc:0.76780\tvalid-auc:0.75639\n",
      "[360]\ttrain-auc:0.76780\tvalid-auc:0.75639\n",
      "[370]\ttrain-auc:0.76821\tvalid-auc:0.75667\n",
      "[380]\ttrain-auc:0.76844\tvalid-auc:0.75675\n",
      "[390]\ttrain-auc:0.76852\tvalid-auc:0.75683\n",
      "[400]\ttrain-auc:0.76852\tvalid-auc:0.75683\n",
      "[410]\ttrain-auc:0.76864\tvalid-auc:0.75697\n",
      "[420]\ttrain-auc:0.76864\tvalid-auc:0.75698\n",
      "[430]\ttrain-auc:0.76883\tvalid-auc:0.75711\n",
      "[440]\ttrain-auc:0.76883\tvalid-auc:0.75711\n",
      "[450]\ttrain-auc:0.76883\tvalid-auc:0.75711\n",
      "[460]\ttrain-auc:0.76886\tvalid-auc:0.75701\n",
      "[470]\ttrain-auc:0.76887\tvalid-auc:0.75701\n",
      "[480]\ttrain-auc:0.76887\tvalid-auc:0.75701\n",
      "Stopping. Best iteration:\n",
      "[430]\ttrain-auc:0.76883\tvalid-auc:0.75711\n",
      "\n"
     ]
    }
   ],
   "source": [
    "model_xgb = xgb.train(\n",
    "    params=params,\n",
    "    dtrain=dtrain,\n",
    "    num_boost_round=600,\n",
    "    evals=[(dtrain, \"train\"), (dvalid, \"valid\")],\n",
    "    early_stopping_rounds=50,\n",
    "    verbose_eval=10,\n",
    ")"
   ]
  },
  {
   "cell_type": "code",
   "execution_count": 360,
   "metadata": {},
   "outputs": [
    {
     "name": "stdout",
     "output_type": "stream",
     "text": [
      "Train-score: 0.769, Valid-score: 0.757)\n"
     ]
    }
   ],
   "source": [
    "train_score = roc_auc_score(y_train, model_xgb.predict(dtrain))\n",
    "valid_score = roc_auc_score(y_valid, model_xgb.predict(dvalid))\n",
    "\n",
    "print(f\"Train-score: {round(train_score, 3)}, Valid-score: {round(valid_score, 3)})\")\n",
    "#Train-score: 0.827, Valid-score: 0.798)\n",
    "#Train-score: 0.77, Valid-score: 0.762)"
   ]
  },
  {
   "cell_type": "code",
   "execution_count": null,
   "metadata": {},
   "outputs": [],
   "source": []
  },
  {
   "cell_type": "code",
   "execution_count": 361,
   "metadata": {},
   "outputs": [
    {
     "data": {
      "text/html": [
       "<div>\n",
       "<style scoped>\n",
       "    .dataframe tbody tr th:only-of-type {\n",
       "        vertical-align: middle;\n",
       "    }\n",
       "\n",
       "    .dataframe tbody tr th {\n",
       "        vertical-align: top;\n",
       "    }\n",
       "\n",
       "    .dataframe thead th {\n",
       "        text-align: right;\n",
       "    }\n",
       "</style>\n",
       "<table border=\"1\" class=\"dataframe\">\n",
       "  <thead>\n",
       "    <tr style=\"text-align: right;\">\n",
       "      <th></th>\n",
       "      <th>APPLICATION_NUMBER</th>\n",
       "      <th>TARGET</th>\n",
       "    </tr>\n",
       "  </thead>\n",
       "  <tbody>\n",
       "    <tr>\n",
       "      <th>0</th>\n",
       "      <td>123724268</td>\n",
       "      <td>0.246779</td>\n",
       "    </tr>\n",
       "    <tr>\n",
       "      <th>1</th>\n",
       "      <td>123456549</td>\n",
       "      <td>0.742888</td>\n",
       "    </tr>\n",
       "    <tr>\n",
       "      <th>2</th>\n",
       "      <td>123428178</td>\n",
       "      <td>0.479670</td>\n",
       "    </tr>\n",
       "    <tr>\n",
       "      <th>3</th>\n",
       "      <td>123619984</td>\n",
       "      <td>0.361661</td>\n",
       "    </tr>\n",
       "    <tr>\n",
       "      <th>4</th>\n",
       "      <td>123671104</td>\n",
       "      <td>0.066463</td>\n",
       "    </tr>\n",
       "  </tbody>\n",
       "</table>\n",
       "</div>"
      ],
      "text/plain": [
       "   APPLICATION_NUMBER    TARGET\n",
       "0           123724268  0.246779\n",
       "1           123456549  0.742888\n",
       "2           123428178  0.479670\n",
       "3           123619984  0.361661\n",
       "4           123671104  0.066463"
      ]
     },
     "execution_count": 361,
     "metadata": {},
     "output_type": "execute_result"
    }
   ],
   "source": [
    "y_pred_test_x = model_xgb.predict(xgb.DMatrix(data=test_data))\n",
    "result_test_x = pd.DataFrame({\n",
    "    \"APPLICATION_NUMBER\": test_data['APPLICATION_NUMBER'],\n",
    "    \"TARGET\": y_pred_test_x.flatten(),})\n",
    "result_test_x.head()"
   ]
  },
  {
   "cell_type": "code",
   "execution_count": 362,
   "metadata": {},
   "outputs": [],
   "source": [
    "#filename = 'Vodorezova.csv'\n",
    "#result_test_x.to_csv(filename, index=None)\n",
    "# 73278\n",
    "# 73242"
   ]
  },
  {
   "cell_type": "code",
   "execution_count": null,
   "metadata": {},
   "outputs": [],
   "source": []
  },
  {
   "cell_type": "code",
   "execution_count": null,
   "metadata": {},
   "outputs": [],
   "source": []
  },
  {
   "cell_type": "code",
   "execution_count": 363,
   "metadata": {},
   "outputs": [],
   "source": [
    "params = {\n",
    "    \"boosting_type\": \"gbdt\",\n",
    "    \"objective\": \"binary\",\n",
    "    \"metric\": \"auc\",\n",
    "    \"learning_rate\": 0.01,\n",
    "    \"n_estimators\": 600,\n",
    "    \"n_jobs\": 6,\n",
    "    \"seed\": 27,\n",
    "}\n",
    "\n",
    "\n",
    "#params = {\n",
    "#    \"boosting_type\": \"gbdt\",\n",
    "#    \"n_estimators\": 600,\n",
    "#    \"metric\": \"auc\",\n",
    "#    \"learning_rate\": 0.05134,\n",
    "#    \"num_leaves\": 54,\n",
    "#    \"max_depth\": 7,\n",
    "#    \"subsample_for_bin\": 240000,\n",
    "#    \"reg_alpha\": 0.436193,\n",
    "#    \"reg_lambda\": 0.479169,\n",
    "#    \"colsample_bytree\": 0.508716,\n",
    "#    \"min_split_gain\": 0.024766,\n",
    "#    \"subsample\": 0.7,\n",
    "#    'is_unbalance': False,\n",
    "#    'random_state': 27,\n",
    "#    \"silent\": -1,\n",
    "#    'verbose': -1\n",
    "#}"
   ]
  },
  {
   "cell_type": "code",
   "execution_count": 364,
   "metadata": {},
   "outputs": [
    {
     "name": "stdout",
     "output_type": "stream",
     "text": [
      "[LightGBM] [Warning] Find whitespaces in feature_names, replace with underlines\n",
      "[LightGBM] [Info] Number of positive: 37420, number of negative: 70784\n",
      "[LightGBM] [Warning] Auto-choosing row-wise multi-threading, the overhead of testing was 0.014396 seconds.\n",
      "You can set `force_row_wise=true` to remove the overhead.\n",
      "And if memory is not enough, you can set `force_col_wise=true`.\n",
      "[LightGBM] [Info] Total Bins 5670\n",
      "[LightGBM] [Info] Number of data points in the train set: 108204, number of used features: 40\n",
      "[LightGBM] [Warning] Find whitespaces in feature_names, replace with underlines\n",
      "[LightGBM] [Info] [binary:BoostFromScore]: pavg=0.345828 -> initscore=-0.637428\n",
      "[LightGBM] [Info] Start training from score -0.637428\n",
      "Training until validation scores don't improve for 50 rounds\n",
      "[10]\ttraining's auc: 0.711917\tvalid_1's auc: 0.70588\n",
      "[20]\ttraining's auc: 0.714251\tvalid_1's auc: 0.708101\n",
      "[30]\ttraining's auc: 0.716702\tvalid_1's auc: 0.710582\n",
      "[40]\ttraining's auc: 0.718968\tvalid_1's auc: 0.712395\n",
      "[50]\ttraining's auc: 0.72053\tvalid_1's auc: 0.714405\n",
      "[60]\ttraining's auc: 0.7224\tvalid_1's auc: 0.716014\n",
      "[70]\ttraining's auc: 0.723901\tvalid_1's auc: 0.717405\n",
      "[80]\ttraining's auc: 0.724856\tvalid_1's auc: 0.718114\n",
      "[90]\ttraining's auc: 0.726479\tvalid_1's auc: 0.719405\n",
      "[100]\ttraining's auc: 0.728323\tvalid_1's auc: 0.721013\n",
      "[110]\ttraining's auc: 0.729825\tvalid_1's auc: 0.722396\n",
      "[120]\ttraining's auc: 0.731184\tvalid_1's auc: 0.723582\n",
      "[130]\ttraining's auc: 0.732546\tvalid_1's auc: 0.724879\n",
      "[140]\ttraining's auc: 0.733754\tvalid_1's auc: 0.726165\n",
      "[150]\ttraining's auc: 0.735493\tvalid_1's auc: 0.727743\n",
      "[160]\ttraining's auc: 0.736992\tvalid_1's auc: 0.729094\n",
      "[170]\ttraining's auc: 0.738349\tvalid_1's auc: 0.730049\n",
      "[180]\ttraining's auc: 0.739472\tvalid_1's auc: 0.731094\n",
      "[190]\ttraining's auc: 0.740709\tvalid_1's auc: 0.732049\n",
      "[200]\ttraining's auc: 0.742283\tvalid_1's auc: 0.733215\n",
      "[210]\ttraining's auc: 0.743606\tvalid_1's auc: 0.734165\n",
      "[220]\ttraining's auc: 0.744587\tvalid_1's auc: 0.734853\n",
      "[230]\ttraining's auc: 0.745808\tvalid_1's auc: 0.736016\n",
      "[240]\ttraining's auc: 0.747124\tvalid_1's auc: 0.73733\n",
      "[250]\ttraining's auc: 0.748364\tvalid_1's auc: 0.738394\n",
      "[260]\ttraining's auc: 0.749526\tvalid_1's auc: 0.739464\n",
      "[270]\ttraining's auc: 0.750739\tvalid_1's auc: 0.740333\n",
      "[280]\ttraining's auc: 0.751796\tvalid_1's auc: 0.741378\n",
      "[290]\ttraining's auc: 0.75299\tvalid_1's auc: 0.742392\n",
      "[300]\ttraining's auc: 0.754106\tvalid_1's auc: 0.743428\n",
      "[310]\ttraining's auc: 0.755014\tvalid_1's auc: 0.744361\n",
      "[320]\ttraining's auc: 0.756151\tvalid_1's auc: 0.745335\n",
      "[330]\ttraining's auc: 0.757173\tvalid_1's auc: 0.74624\n",
      "[340]\ttraining's auc: 0.757975\tvalid_1's auc: 0.74692\n",
      "[350]\ttraining's auc: 0.758905\tvalid_1's auc: 0.747634\n",
      "[360]\ttraining's auc: 0.759946\tvalid_1's auc: 0.748393\n",
      "[370]\ttraining's auc: 0.761008\tvalid_1's auc: 0.749253\n",
      "[380]\ttraining's auc: 0.7619\tvalid_1's auc: 0.749852\n",
      "[390]\ttraining's auc: 0.76293\tvalid_1's auc: 0.750806\n",
      "[400]\ttraining's auc: 0.763761\tvalid_1's auc: 0.751425\n",
      "[410]\ttraining's auc: 0.764688\tvalid_1's auc: 0.75227\n",
      "[420]\ttraining's auc: 0.765624\tvalid_1's auc: 0.753004\n",
      "[430]\ttraining's auc: 0.766528\tvalid_1's auc: 0.753798\n",
      "[440]\ttraining's auc: 0.767634\tvalid_1's auc: 0.754546\n",
      "[450]\ttraining's auc: 0.768481\tvalid_1's auc: 0.755378\n",
      "[460]\ttraining's auc: 0.769582\tvalid_1's auc: 0.756296\n",
      "[470]\ttraining's auc: 0.770474\tvalid_1's auc: 0.756896\n",
      "[480]\ttraining's auc: 0.771398\tvalid_1's auc: 0.75766\n",
      "[490]\ttraining's auc: 0.772326\tvalid_1's auc: 0.758398\n",
      "[500]\ttraining's auc: 0.773053\tvalid_1's auc: 0.758944\n",
      "[510]\ttraining's auc: 0.773855\tvalid_1's auc: 0.759501\n",
      "[520]\ttraining's auc: 0.774669\tvalid_1's auc: 0.760219\n",
      "[530]\ttraining's auc: 0.775444\tvalid_1's auc: 0.760877\n",
      "[540]\ttraining's auc: 0.776165\tvalid_1's auc: 0.761438\n",
      "[550]\ttraining's auc: 0.77703\tvalid_1's auc: 0.762106\n",
      "[560]\ttraining's auc: 0.777913\tvalid_1's auc: 0.762882\n",
      "[570]\ttraining's auc: 0.778709\tvalid_1's auc: 0.763543\n",
      "[580]\ttraining's auc: 0.779385\tvalid_1's auc: 0.764025\n",
      "[590]\ttraining's auc: 0.78018\tvalid_1's auc: 0.764569\n",
      "[600]\ttraining's auc: 0.780842\tvalid_1's auc: 0.765097\n",
      "Did not meet early stopping. Best iteration is:\n",
      "[600]\ttraining's auc: 0.780842\tvalid_1's auc: 0.765097\n"
     ]
    }
   ],
   "source": [
    "dtrain = lgbm.Dataset(\n",
    "    data=x_train, label=y_train\n",
    ")\n",
    "dvalid = lgbm.Dataset(\n",
    "    data=x_valid, label=y_valid\n",
    ")\n",
    "\n",
    "model_lgbm = lgbm.train(\n",
    "    params=params,\n",
    "    train_set=dtrain,\n",
    "    num_boost_round=600,\n",
    "    valid_sets=[dtrain, dvalid],\n",
    "    categorical_feature=\"auto\",\n",
    "    early_stopping_rounds=50,\n",
    "    verbose_eval=10\n",
    ")"
   ]
  },
  {
   "cell_type": "code",
   "execution_count": 365,
   "metadata": {},
   "outputs": [
    {
     "name": "stdout",
     "output_type": "stream",
     "text": [
      "Train-score: 0.781, Valid-score: 0.765)\n"
     ]
    }
   ],
   "source": [
    "train_score = roc_auc_score(y_train, model_lgbm.predict(x_train))\n",
    "valid_score = roc_auc_score(y_valid, model_lgbm.predict(x_valid))\n",
    "\n",
    "print(f\"Train-score: {round(train_score, 3)}, Valid-score: {round(valid_score, 3)})\")\n",
    "\n",
    "#Train-score: 0.781, Valid-score: 0.763)"
   ]
  },
  {
   "cell_type": "code",
   "execution_count": null,
   "metadata": {},
   "outputs": [],
   "source": []
  },
  {
   "cell_type": "code",
   "execution_count": 366,
   "metadata": {},
   "outputs": [
    {
     "data": {
      "text/html": [
       "<div>\n",
       "<style scoped>\n",
       "    .dataframe tbody tr th:only-of-type {\n",
       "        vertical-align: middle;\n",
       "    }\n",
       "\n",
       "    .dataframe tbody tr th {\n",
       "        vertical-align: top;\n",
       "    }\n",
       "\n",
       "    .dataframe thead th {\n",
       "        text-align: right;\n",
       "    }\n",
       "</style>\n",
       "<table border=\"1\" class=\"dataframe\">\n",
       "  <thead>\n",
       "    <tr style=\"text-align: right;\">\n",
       "      <th></th>\n",
       "      <th>APPLICATION_NUMBER</th>\n",
       "      <th>TARGET</th>\n",
       "    </tr>\n",
       "  </thead>\n",
       "  <tbody>\n",
       "    <tr>\n",
       "      <th>0</th>\n",
       "      <td>123724268</td>\n",
       "      <td>0.220427</td>\n",
       "    </tr>\n",
       "    <tr>\n",
       "      <th>1</th>\n",
       "      <td>123456549</td>\n",
       "      <td>0.675553</td>\n",
       "    </tr>\n",
       "    <tr>\n",
       "      <th>2</th>\n",
       "      <td>123428178</td>\n",
       "      <td>0.513970</td>\n",
       "    </tr>\n",
       "    <tr>\n",
       "      <th>3</th>\n",
       "      <td>123619984</td>\n",
       "      <td>0.360225</td>\n",
       "    </tr>\n",
       "    <tr>\n",
       "      <th>4</th>\n",
       "      <td>123671104</td>\n",
       "      <td>0.068143</td>\n",
       "    </tr>\n",
       "  </tbody>\n",
       "</table>\n",
       "</div>"
      ],
      "text/plain": [
       "   APPLICATION_NUMBER    TARGET\n",
       "0           123724268  0.220427\n",
       "1           123456549  0.675553\n",
       "2           123428178  0.513970\n",
       "3           123619984  0.360225\n",
       "4           123671104  0.068143"
      ]
     },
     "execution_count": 366,
     "metadata": {},
     "output_type": "execute_result"
    }
   ],
   "source": [
    "y_pred_test_l = model_lgbm.predict(test_data)\n",
    "result_test_l = pd.DataFrame({\n",
    "    \"APPLICATION_NUMBER\": test_data['APPLICATION_NUMBER'],\n",
    "    \"TARGET\": y_pred_test_l.flatten(),})\n",
    "result_test_l.head()"
   ]
  },
  {
   "cell_type": "code",
   "execution_count": 367,
   "metadata": {},
   "outputs": [],
   "source": [
    "#filename = 'Vodorezova.csv'\n",
    "#result_test_l.to_csv(filename, index=None)\n",
    "#72626"
   ]
  },
  {
   "cell_type": "code",
   "execution_count": null,
   "metadata": {},
   "outputs": [],
   "source": []
  },
  {
   "cell_type": "code",
   "execution_count": null,
   "metadata": {},
   "outputs": [],
   "source": []
  },
  {
   "cell_type": "code",
   "execution_count": 368,
   "metadata": {},
   "outputs": [
    {
     "data": {
      "text/html": [
       "<div>\n",
       "<style scoped>\n",
       "    .dataframe tbody tr th:only-of-type {\n",
       "        vertical-align: middle;\n",
       "    }\n",
       "\n",
       "    .dataframe tbody tr th {\n",
       "        vertical-align: top;\n",
       "    }\n",
       "\n",
       "    .dataframe thead th {\n",
       "        text-align: right;\n",
       "    }\n",
       "</style>\n",
       "<table border=\"1\" class=\"dataframe\">\n",
       "  <thead>\n",
       "    <tr style=\"text-align: right;\">\n",
       "      <th></th>\n",
       "      <th>APPLICATION_NUMBER</th>\n",
       "      <th>TARGET</th>\n",
       "    </tr>\n",
       "  </thead>\n",
       "  <tbody>\n",
       "    <tr>\n",
       "      <th>0</th>\n",
       "      <td>123724268</td>\n",
       "      <td>0.219567</td>\n",
       "    </tr>\n",
       "    <tr>\n",
       "      <th>1</th>\n",
       "      <td>123456549</td>\n",
       "      <td>0.694210</td>\n",
       "    </tr>\n",
       "  </tbody>\n",
       "</table>\n",
       "</div>"
      ],
      "text/plain": [
       "   APPLICATION_NUMBER    TARGET\n",
       "0           123724268  0.219567\n",
       "1           123456549  0.694210"
      ]
     },
     "execution_count": 368,
     "metadata": {},
     "output_type": "execute_result"
    }
   ],
   "source": [
    "result_test.head(2)"
   ]
  },
  {
   "cell_type": "code",
   "execution_count": 369,
   "metadata": {},
   "outputs": [
    {
     "data": {
      "text/html": [
       "<div>\n",
       "<style scoped>\n",
       "    .dataframe tbody tr th:only-of-type {\n",
       "        vertical-align: middle;\n",
       "    }\n",
       "\n",
       "    .dataframe tbody tr th {\n",
       "        vertical-align: top;\n",
       "    }\n",
       "\n",
       "    .dataframe thead th {\n",
       "        text-align: right;\n",
       "    }\n",
       "</style>\n",
       "<table border=\"1\" class=\"dataframe\">\n",
       "  <thead>\n",
       "    <tr style=\"text-align: right;\">\n",
       "      <th></th>\n",
       "      <th>APPLICATION_NUMBER</th>\n",
       "      <th>TARGET</th>\n",
       "    </tr>\n",
       "  </thead>\n",
       "  <tbody>\n",
       "    <tr>\n",
       "      <th>0</th>\n",
       "      <td>123724268</td>\n",
       "      <td>0.246779</td>\n",
       "    </tr>\n",
       "    <tr>\n",
       "      <th>1</th>\n",
       "      <td>123456549</td>\n",
       "      <td>0.742888</td>\n",
       "    </tr>\n",
       "  </tbody>\n",
       "</table>\n",
       "</div>"
      ],
      "text/plain": [
       "   APPLICATION_NUMBER    TARGET\n",
       "0           123724268  0.246779\n",
       "1           123456549  0.742888"
      ]
     },
     "execution_count": 369,
     "metadata": {},
     "output_type": "execute_result"
    }
   ],
   "source": [
    "result_test_x.head(2)"
   ]
  },
  {
   "cell_type": "code",
   "execution_count": 370,
   "metadata": {},
   "outputs": [
    {
     "data": {
      "text/html": [
       "<div>\n",
       "<style scoped>\n",
       "    .dataframe tbody tr th:only-of-type {\n",
       "        vertical-align: middle;\n",
       "    }\n",
       "\n",
       "    .dataframe tbody tr th {\n",
       "        vertical-align: top;\n",
       "    }\n",
       "\n",
       "    .dataframe thead th {\n",
       "        text-align: right;\n",
       "    }\n",
       "</style>\n",
       "<table border=\"1\" class=\"dataframe\">\n",
       "  <thead>\n",
       "    <tr style=\"text-align: right;\">\n",
       "      <th></th>\n",
       "      <th>APPLICATION_NUMBER</th>\n",
       "      <th>TARGET</th>\n",
       "    </tr>\n",
       "  </thead>\n",
       "  <tbody>\n",
       "    <tr>\n",
       "      <th>0</th>\n",
       "      <td>123724268</td>\n",
       "      <td>0.220427</td>\n",
       "    </tr>\n",
       "    <tr>\n",
       "      <th>1</th>\n",
       "      <td>123456549</td>\n",
       "      <td>0.675553</td>\n",
       "    </tr>\n",
       "  </tbody>\n",
       "</table>\n",
       "</div>"
      ],
      "text/plain": [
       "   APPLICATION_NUMBER    TARGET\n",
       "0           123724268  0.220427\n",
       "1           123456549  0.675553"
      ]
     },
     "execution_count": 370,
     "metadata": {},
     "output_type": "execute_result"
    }
   ],
   "source": [
    "result_test_l.head(2)"
   ]
  },
  {
   "cell_type": "code",
   "execution_count": 371,
   "metadata": {},
   "outputs": [
    {
     "data": {
      "text/html": [
       "<div>\n",
       "<style scoped>\n",
       "    .dataframe tbody tr th:only-of-type {\n",
       "        vertical-align: middle;\n",
       "    }\n",
       "\n",
       "    .dataframe tbody tr th {\n",
       "        vertical-align: top;\n",
       "    }\n",
       "\n",
       "    .dataframe thead th {\n",
       "        text-align: right;\n",
       "    }\n",
       "</style>\n",
       "<table border=\"1\" class=\"dataframe\">\n",
       "  <thead>\n",
       "    <tr style=\"text-align: right;\">\n",
       "      <th></th>\n",
       "      <th>APPLICATION_NUMBER</th>\n",
       "      <th>TARGET</th>\n",
       "    </tr>\n",
       "  </thead>\n",
       "  <tbody>\n",
       "    <tr>\n",
       "      <th>0</th>\n",
       "      <td>123724268</td>\n",
       "      <td>0.228925</td>\n",
       "    </tr>\n",
       "    <tr>\n",
       "      <th>1</th>\n",
       "      <td>123456549</td>\n",
       "      <td>0.704217</td>\n",
       "    </tr>\n",
       "  </tbody>\n",
       "</table>\n",
       "</div>"
      ],
      "text/plain": [
       "   APPLICATION_NUMBER    TARGET\n",
       "0           123724268  0.228925\n",
       "1           123456549  0.704217"
      ]
     },
     "execution_count": 371,
     "metadata": {},
     "output_type": "execute_result"
    }
   ],
   "source": [
    "res = result_test.copy()\n",
    "res['TARGET'] = (result_test['TARGET'] + result_test_x['TARGET'] + abs(result_test_l['TARGET'])) / 3\n",
    "res.head(2)"
   ]
  },
  {
   "cell_type": "code",
   "execution_count": 372,
   "metadata": {},
   "outputs": [
    {
     "data": {
      "text/html": [
       "<div>\n",
       "<style scoped>\n",
       "    .dataframe tbody tr th:only-of-type {\n",
       "        vertical-align: middle;\n",
       "    }\n",
       "\n",
       "    .dataframe tbody tr th {\n",
       "        vertical-align: top;\n",
       "    }\n",
       "\n",
       "    .dataframe thead th {\n",
       "        text-align: right;\n",
       "    }\n",
       "</style>\n",
       "<table border=\"1\" class=\"dataframe\">\n",
       "  <thead>\n",
       "    <tr style=\"text-align: right;\">\n",
       "      <th></th>\n",
       "      <th>APPLICATION_NUMBER</th>\n",
       "      <th>TARGET</th>\n",
       "    </tr>\n",
       "  </thead>\n",
       "  <tbody>\n",
       "    <tr>\n",
       "      <th>0</th>\n",
       "      <td>123724268</td>\n",
       "      <td>0.225182</td>\n",
       "    </tr>\n",
       "    <tr>\n",
       "      <th>1</th>\n",
       "      <td>123456549</td>\n",
       "      <td>0.700214</td>\n",
       "    </tr>\n",
       "  </tbody>\n",
       "</table>\n",
       "</div>"
      ],
      "text/plain": [
       "   APPLICATION_NUMBER    TARGET\n",
       "0           123724268  0.225182\n",
       "1           123456549  0.700214"
      ]
     },
     "execution_count": 372,
     "metadata": {},
     "output_type": "execute_result"
    }
   ],
   "source": [
    "res = result_test.copy()\n",
    "res['TARGET'] = (result_test['TARGET']) * 0.6 + (result_test_x['TARGET']) * 0.2 + (result_test_l['TARGET']) * 0.2\n",
    "res.head(2)"
   ]
  },
  {
   "cell_type": "code",
   "execution_count": 373,
   "metadata": {},
   "outputs": [],
   "source": [
    "filename = 'Vodorezova.csv'\n",
    "res.to_csv(filename, index=None)\n",
    "# 0.73206"
   ]
  },
  {
   "cell_type": "code",
   "execution_count": null,
   "metadata": {},
   "outputs": [],
   "source": []
  },
  {
   "cell_type": "code",
   "execution_count": 374,
   "metadata": {},
   "outputs": [
    {
     "ename": "SyntaxError",
     "evalue": "invalid syntax (<ipython-input-374-1c2933cee5dc>, line 1)",
     "output_type": "error",
     "traceback": [
      "\u001b[0;36m  File \u001b[0;32m\"<ipython-input-374-1c2933cee5dc>\"\u001b[0;36m, line \u001b[0;32m1\u001b[0m\n\u001b[0;31m    stop stop\u001b[0m\n\u001b[0m         ^\u001b[0m\n\u001b[0;31mSyntaxError\u001b[0m\u001b[0;31m:\u001b[0m invalid syntax\n"
     ]
    }
   ],
   "source": [
    "stop stop"
   ]
  },
  {
   "cell_type": "code",
   "execution_count": null,
   "metadata": {},
   "outputs": [],
   "source": [
    "stop"
   ]
  },
  {
   "cell_type": "code",
   "execution_count": null,
   "metadata": {},
   "outputs": [],
   "source": [
    "test_data_res = result_test.copy()\n",
    "test_data_res['cat'] = test_data_res['TARGET']\n",
    "test_data_res['xgb'] = result_test_x['TARGET']\n",
    "test_data_res['lgbm'] = result_test_l['TARGET']\n",
    "test_data_res.head(2)"
   ]
  },
  {
   "cell_type": "code",
   "execution_count": null,
   "metadata": {},
   "outputs": [],
   "source": [
    "test_data_res = test_data_res.drop(['TARGET'], axis = 'columns')\n",
    "test_data_res"
   ]
  },
  {
   "cell_type": "code",
   "execution_count": null,
   "metadata": {},
   "outputs": [],
   "source": [
    "train_data_cat = model.predict(train_data, prediction_type =  \"Probability\")[:,1]\n",
    "result_train_cat = pd.DataFrame({\n",
    "    \"APPLICATION_NUMBER\": train_data['APPLICATION_NUMBER'],\n",
    "    \"TARGET\": train_data_cat.flatten(),})\n",
    "result_train_cat.head()"
   ]
  },
  {
   "cell_type": "code",
   "execution_count": null,
   "metadata": {},
   "outputs": [],
   "source": [
    "train_data_xgb = model_xgb.predict(xgb.DMatrix(data=train_data))\n",
    "result_train_xgb = pd.DataFrame({\n",
    "    \"APPLICATION_NUMBER\": train_data['APPLICATION_NUMBER'],\n",
    "    \"TARGET\": train_data_xgb.flatten(),})\n",
    "result_train_xgb.head()"
   ]
  },
  {
   "cell_type": "code",
   "execution_count": null,
   "metadata": {},
   "outputs": [],
   "source": [
    "train_data_lgbm = model_lgbm.predict(train_data)\n",
    "result_train_lgbm = pd.DataFrame({\n",
    "    \"APPLICATION_NUMBER\": train_data['APPLICATION_NUMBER'],\n",
    "    \"TARGET\": train_data_lgbm.flatten(),})\n",
    "result_train_lgbm.head()"
   ]
  },
  {
   "cell_type": "code",
   "execution_count": null,
   "metadata": {},
   "outputs": [],
   "source": [
    "train_data_res = result_train_cat.copy()\n",
    "train_data_res['cat'] = train_data_res['TARGET']\n",
    "train_data_res['xgb'] = result_train_xgb['TARGET']\n",
    "train_data_res['lgbm'] = result_train_lgbm['TARGET']\n",
    "train_data_res.head(2)"
   ]
  },
  {
   "cell_type": "code",
   "execution_count": null,
   "metadata": {},
   "outputs": [],
   "source": [
    "train_data_res = train_data_res.drop(['TARGET'], axis = 'columns')\n",
    "train_data_res"
   ]
  },
  {
   "cell_type": "code",
   "execution_count": null,
   "metadata": {},
   "outputs": [],
   "source": [
    "x_train, x_valid, y_train, y_valid = train_test_split(train_data_res, train_target, test_size=0.30)"
   ]
  },
  {
   "cell_type": "code",
   "execution_count": null,
   "metadata": {},
   "outputs": [],
   "source": [
    "params = {\n",
    "    \"booster\": \"gbtree\",\n",
    "    \"objective\": \"binary:logistic\",\n",
    "    \"eval_metric\": \"auc\",\n",
    "    \"learning_rate\": 0.1,\n",
    "    \"n_estimators\": 600,\n",
    "    \"reg_lambda\": 100,\n",
    "    \"max_depth\": 4,\n",
    "    \"gamma\": 10,\n",
    "    \"nthread\": 6,\n",
    "    \"seed\": 27\n",
    "}\n",
    "\n",
    "dtrain = xgb.DMatrix(\n",
    "    data=x_train, label=y_train\n",
    ")\n",
    "dvalid = xgb.DMatrix(\n",
    "    data=x_valid, label=y_valid\n",
    ")\n",
    "\n",
    "model_xgb = xgb.train(\n",
    "    params=params,\n",
    "    dtrain=dtrain,\n",
    "    num_boost_round=600,\n",
    "    evals=[(dtrain, \"train\"), (dvalid, \"valid\")],\n",
    "    early_stopping_rounds=50,\n",
    "    verbose_eval=10,\n",
    ")"
   ]
  },
  {
   "cell_type": "code",
   "execution_count": null,
   "metadata": {},
   "outputs": [],
   "source": [
    "train_score = roc_auc_score(y_train, model_xgb.predict(dtrain))\n",
    "valid_score = roc_auc_score(y_valid, model_xgb.predict(dvalid))\n",
    "\n",
    "print(f\"Train-score: {round(train_score, 3)}, Valid-score: {round(valid_score, 3)})\")\n",
    "#Train-score: 0.815, Valid-score: 0.816)"
   ]
  },
  {
   "cell_type": "code",
   "execution_count": null,
   "metadata": {},
   "outputs": [],
   "source": [
    "y_pred_test_x = model_xgb.predict(xgb.DMatrix(data=test_data_res))\n",
    "result_test_x = pd.DataFrame({\n",
    "    \"APPLICATION_NUMBER\": test_data['APPLICATION_NUMBER'],\n",
    "    \"TARGET\": y_pred_test_x.flatten(),})\n",
    "result_test_x.head()"
   ]
  },
  {
   "cell_type": "code",
   "execution_count": null,
   "metadata": {},
   "outputs": [],
   "source": [
    "filename = 'Vodorezova.csv'\n",
    "result_test_x.to_csv(filename, index=None)\n",
    "# 72276"
   ]
  },
  {
   "cell_type": "code",
   "execution_count": null,
   "metadata": {},
   "outputs": [],
   "source": []
  }
 ],
 "metadata": {
  "kernelspec": {
   "display_name": "Python 3",
   "language": "python",
   "name": "python3"
  },
  "language_info": {
   "codemirror_mode": {
    "name": "ipython",
    "version": 3
   },
   "file_extension": ".py",
   "mimetype": "text/x-python",
   "name": "python",
   "nbconvert_exporter": "python",
   "pygments_lexer": "ipython3",
   "version": "3.8.5"
  }
 },
 "nbformat": 4,
 "nbformat_minor": 4
}
